{
  "cells": [
    {
      "cell_type": "markdown",
      "metadata": {
        "id": "view-in-github",
        "colab_type": "text"
      },
      "source": [
        "<a href=\"https://colab.research.google.com/github/tperfetti/ML/blob/main/Module_7_Perfetti.ipynb\" target=\"_parent\"><img src=\"https://colab.research.google.com/assets/colab-badge.svg\" alt=\"Open In Colab\"/></a>"
      ]
    },
    {
      "cell_type": "markdown",
      "id": "2149071c",
      "metadata": {
        "id": "2149071c"
      },
      "source": [
        "## Ingest (1.0)"
      ]
    },
    {
      "cell_type": "markdown",
      "id": "82b62316",
      "metadata": {
        "id": "82b62316"
      },
      "source": [
        "#### 1.1: Importing Libraries"
      ]
    },
    {
      "cell_type": "code",
      "execution_count": null,
      "id": "1c5c3617",
      "metadata": {
        "id": "1c5c3617"
      },
      "outputs": [],
      "source": [
        "import pandas as pd\n",
        "import numpy as np\n",
        "import matplotlib.pyplot as plt\n",
        "from keras.datasets import mnist\n",
        "import plotly\n",
        "import plotly.express as px\n",
        "import plotly.graph_objects as go\n",
        "import seaborn as sns\n",
        "%matplotlib inline\n",
        "from sklearn import datasets\n",
        "from sklearn.decomposition import PCA\n",
        "from sklearn.preprocessing import StandardScaler\n",
        "from sklearn.cluster import KMeans\n",
        "\n",
        "from sklearn.model_selection import train_test_split\n",
        "import seaborn as sns"
      ]
    },
    {
      "cell_type": "code",
      "execution_count": null,
      "id": "50fb8a61",
      "metadata": {
        "id": "50fb8a61"
      },
      "outputs": [],
      "source": [
        "from sklearn.ensemble import RandomForestClassifier   \n",
        "from sklearn.model_selection import train_test_split\n",
        "from sklearn.metrics import classification_report, confusion_matrix\n",
        "from sklearn.model_selection import RandomizedSearchCV, GridSearchCV \n",
        "from sklearn.model_selection import cross_val_score"
      ]
    },
    {
      "cell_type": "code",
      "execution_count": null,
      "id": "09627e38",
      "metadata": {
        "id": "09627e38"
      },
      "outputs": [],
      "source": [
        "import tensorflow as tf"
      ]
    },
    {
      "cell_type": "code",
      "execution_count": null,
      "id": "409440cf",
      "metadata": {
        "id": "409440cf"
      },
      "outputs": [],
      "source": [
        "import warnings\n",
        "warnings.filterwarnings('ignore')"
      ]
    },
    {
      "cell_type": "code",
      "execution_count": null,
      "id": "c4e398e1",
      "metadata": {
        "id": "c4e398e1"
      },
      "outputs": [],
      "source": [
        "from IPython.core.interactiveshell import InteractiveShell\n",
        "InteractiveShell.ast_node_interactivity = \"all\""
      ]
    },
    {
      "cell_type": "markdown",
      "id": "4fcabf4a",
      "metadata": {
        "id": "4fcabf4a"
      },
      "source": [
        "#### 1.2: Crafting Display Options"
      ]
    },
    {
      "cell_type": "code",
      "execution_count": null,
      "id": "53577a8c",
      "metadata": {
        "id": "53577a8c"
      },
      "outputs": [],
      "source": [
        "pd.set_option('display.max_rows', 500)\n",
        "pd.set_option('display.max_columns', 500)\n",
        "pd.set_option('display.width', 1000)"
      ]
    },
    {
      "cell_type": "markdown",
      "id": "4525bbf1",
      "metadata": {
        "id": "4525bbf1"
      },
      "source": [
        "#### 1.3: Loading Data"
      ]
    },
    {
      "cell_type": "code",
      "execution_count": null,
      "id": "a936e3d5",
      "metadata": {
        "id": "a936e3d5"
      },
      "outputs": [],
      "source": [
        "train = pd.read_csv('train.csv')\n",
        "test = pd.read_csv('test.csv')\n",
        "data = pd.read_csv('sample_submission.csv')"
      ]
    },
    {
      "cell_type": "markdown",
      "id": "11a3c41f",
      "metadata": {
        "id": "11a3c41f"
      },
      "source": [
        "#### 1.4: Describing Data"
      ]
    },
    {
      "cell_type": "code",
      "execution_count": null,
      "id": "591ada8b",
      "metadata": {
        "id": "591ada8b",
        "outputId": "dd960cc4-95a9-4568-cb2b-ce387bcf8b0c"
      },
      "outputs": [
        {
          "name": "stdout",
          "output_type": "stream",
          "text": [
            "Training data size is (42000, 785)\n",
            "Testing data size is (28000, 784)\n"
          ]
        }
      ],
      "source": [
        "print(f\"Training data size is {train.shape}\\nTesting data size is {test.shape}\")"
      ]
    },
    {
      "cell_type": "code",
      "execution_count": null,
      "id": "3fd8232d",
      "metadata": {
        "id": "3fd8232d",
        "outputId": "7c1a2524-ed55-490a-bc61-11a67bb96db4"
      },
      "outputs": [
        {
          "data": {
            "text/html": [
              "<div>\n",
              "<style scoped>\n",
              "    .dataframe tbody tr th:only-of-type {\n",
              "        vertical-align: middle;\n",
              "    }\n",
              "\n",
              "    .dataframe tbody tr th {\n",
              "        vertical-align: top;\n",
              "    }\n",
              "\n",
              "    .dataframe thead th {\n",
              "        text-align: right;\n",
              "    }\n",
              "</style>\n",
              "<table border=\"1\" class=\"dataframe\">\n",
              "  <thead>\n",
              "    <tr style=\"text-align: right;\">\n",
              "      <th></th>\n",
              "      <th>label</th>\n",
              "      <th>pixel0</th>\n",
              "      <th>pixel1</th>\n",
              "      <th>pixel2</th>\n",
              "      <th>pixel3</th>\n",
              "      <th>pixel4</th>\n",
              "      <th>pixel5</th>\n",
              "      <th>pixel6</th>\n",
              "      <th>pixel7</th>\n",
              "      <th>pixel8</th>\n",
              "      <th>pixel9</th>\n",
              "      <th>pixel10</th>\n",
              "      <th>pixel11</th>\n",
              "      <th>pixel12</th>\n",
              "      <th>pixel13</th>\n",
              "      <th>pixel14</th>\n",
              "      <th>pixel15</th>\n",
              "      <th>pixel16</th>\n",
              "      <th>pixel17</th>\n",
              "      <th>pixel18</th>\n",
              "      <th>pixel19</th>\n",
              "      <th>pixel20</th>\n",
              "      <th>pixel21</th>\n",
              "      <th>pixel22</th>\n",
              "      <th>pixel23</th>\n",
              "      <th>pixel24</th>\n",
              "      <th>pixel25</th>\n",
              "      <th>pixel26</th>\n",
              "      <th>pixel27</th>\n",
              "      <th>pixel28</th>\n",
              "      <th>pixel29</th>\n",
              "      <th>pixel30</th>\n",
              "      <th>pixel31</th>\n",
              "      <th>pixel32</th>\n",
              "      <th>pixel33</th>\n",
              "      <th>pixel34</th>\n",
              "      <th>pixel35</th>\n",
              "      <th>pixel36</th>\n",
              "      <th>pixel37</th>\n",
              "      <th>pixel38</th>\n",
              "      <th>pixel39</th>\n",
              "      <th>pixel40</th>\n",
              "      <th>pixel41</th>\n",
              "      <th>pixel42</th>\n",
              "      <th>pixel43</th>\n",
              "      <th>pixel44</th>\n",
              "      <th>pixel45</th>\n",
              "      <th>pixel46</th>\n",
              "      <th>pixel47</th>\n",
              "      <th>pixel48</th>\n",
              "      <th>pixel49</th>\n",
              "      <th>pixel50</th>\n",
              "      <th>pixel51</th>\n",
              "      <th>pixel52</th>\n",
              "      <th>pixel53</th>\n",
              "      <th>pixel54</th>\n",
              "      <th>pixel55</th>\n",
              "      <th>pixel56</th>\n",
              "      <th>pixel57</th>\n",
              "      <th>pixel58</th>\n",
              "      <th>pixel59</th>\n",
              "      <th>pixel60</th>\n",
              "      <th>pixel61</th>\n",
              "      <th>pixel62</th>\n",
              "      <th>pixel63</th>\n",
              "      <th>pixel64</th>\n",
              "      <th>pixel65</th>\n",
              "      <th>pixel66</th>\n",
              "      <th>pixel67</th>\n",
              "      <th>pixel68</th>\n",
              "      <th>pixel69</th>\n",
              "      <th>pixel70</th>\n",
              "      <th>pixel71</th>\n",
              "      <th>pixel72</th>\n",
              "      <th>pixel73</th>\n",
              "      <th>pixel74</th>\n",
              "      <th>pixel75</th>\n",
              "      <th>pixel76</th>\n",
              "      <th>pixel77</th>\n",
              "      <th>pixel78</th>\n",
              "      <th>pixel79</th>\n",
              "      <th>pixel80</th>\n",
              "      <th>pixel81</th>\n",
              "      <th>pixel82</th>\n",
              "      <th>pixel83</th>\n",
              "      <th>pixel84</th>\n",
              "      <th>pixel85</th>\n",
              "      <th>pixel86</th>\n",
              "      <th>pixel87</th>\n",
              "      <th>pixel88</th>\n",
              "      <th>pixel89</th>\n",
              "      <th>pixel90</th>\n",
              "      <th>pixel91</th>\n",
              "      <th>pixel92</th>\n",
              "      <th>pixel93</th>\n",
              "      <th>pixel94</th>\n",
              "      <th>pixel95</th>\n",
              "      <th>pixel96</th>\n",
              "      <th>pixel97</th>\n",
              "      <th>pixel98</th>\n",
              "      <th>pixel99</th>\n",
              "      <th>pixel100</th>\n",
              "      <th>pixel101</th>\n",
              "      <th>pixel102</th>\n",
              "      <th>pixel103</th>\n",
              "      <th>pixel104</th>\n",
              "      <th>pixel105</th>\n",
              "      <th>pixel106</th>\n",
              "      <th>pixel107</th>\n",
              "      <th>pixel108</th>\n",
              "      <th>pixel109</th>\n",
              "      <th>pixel110</th>\n",
              "      <th>pixel111</th>\n",
              "      <th>pixel112</th>\n",
              "      <th>pixel113</th>\n",
              "      <th>pixel114</th>\n",
              "      <th>pixel115</th>\n",
              "      <th>pixel116</th>\n",
              "      <th>pixel117</th>\n",
              "      <th>pixel118</th>\n",
              "      <th>pixel119</th>\n",
              "      <th>pixel120</th>\n",
              "      <th>pixel121</th>\n",
              "      <th>pixel122</th>\n",
              "      <th>pixel123</th>\n",
              "      <th>pixel124</th>\n",
              "      <th>pixel125</th>\n",
              "      <th>pixel126</th>\n",
              "      <th>pixel127</th>\n",
              "      <th>pixel128</th>\n",
              "      <th>pixel129</th>\n",
              "      <th>pixel130</th>\n",
              "      <th>pixel131</th>\n",
              "      <th>pixel132</th>\n",
              "      <th>pixel133</th>\n",
              "      <th>pixel134</th>\n",
              "      <th>pixel135</th>\n",
              "      <th>pixel136</th>\n",
              "      <th>pixel137</th>\n",
              "      <th>pixel138</th>\n",
              "      <th>pixel139</th>\n",
              "      <th>pixel140</th>\n",
              "      <th>pixel141</th>\n",
              "      <th>pixel142</th>\n",
              "      <th>pixel143</th>\n",
              "      <th>pixel144</th>\n",
              "      <th>pixel145</th>\n",
              "      <th>pixel146</th>\n",
              "      <th>pixel147</th>\n",
              "      <th>pixel148</th>\n",
              "      <th>pixel149</th>\n",
              "      <th>pixel150</th>\n",
              "      <th>pixel151</th>\n",
              "      <th>pixel152</th>\n",
              "      <th>pixel153</th>\n",
              "      <th>pixel154</th>\n",
              "      <th>pixel155</th>\n",
              "      <th>pixel156</th>\n",
              "      <th>pixel157</th>\n",
              "      <th>pixel158</th>\n",
              "      <th>pixel159</th>\n",
              "      <th>pixel160</th>\n",
              "      <th>pixel161</th>\n",
              "      <th>pixel162</th>\n",
              "      <th>pixel163</th>\n",
              "      <th>pixel164</th>\n",
              "      <th>pixel165</th>\n",
              "      <th>pixel166</th>\n",
              "      <th>pixel167</th>\n",
              "      <th>pixel168</th>\n",
              "      <th>pixel169</th>\n",
              "      <th>pixel170</th>\n",
              "      <th>pixel171</th>\n",
              "      <th>pixel172</th>\n",
              "      <th>pixel173</th>\n",
              "      <th>pixel174</th>\n",
              "      <th>pixel175</th>\n",
              "      <th>pixel176</th>\n",
              "      <th>pixel177</th>\n",
              "      <th>pixel178</th>\n",
              "      <th>pixel179</th>\n",
              "      <th>pixel180</th>\n",
              "      <th>pixel181</th>\n",
              "      <th>pixel182</th>\n",
              "      <th>pixel183</th>\n",
              "      <th>pixel184</th>\n",
              "      <th>pixel185</th>\n",
              "      <th>pixel186</th>\n",
              "      <th>pixel187</th>\n",
              "      <th>pixel188</th>\n",
              "      <th>pixel189</th>\n",
              "      <th>pixel190</th>\n",
              "      <th>pixel191</th>\n",
              "      <th>pixel192</th>\n",
              "      <th>pixel193</th>\n",
              "      <th>pixel194</th>\n",
              "      <th>pixel195</th>\n",
              "      <th>pixel196</th>\n",
              "      <th>pixel197</th>\n",
              "      <th>pixel198</th>\n",
              "      <th>pixel199</th>\n",
              "      <th>pixel200</th>\n",
              "      <th>pixel201</th>\n",
              "      <th>pixel202</th>\n",
              "      <th>pixel203</th>\n",
              "      <th>pixel204</th>\n",
              "      <th>pixel205</th>\n",
              "      <th>pixel206</th>\n",
              "      <th>pixel207</th>\n",
              "      <th>pixel208</th>\n",
              "      <th>pixel209</th>\n",
              "      <th>pixel210</th>\n",
              "      <th>pixel211</th>\n",
              "      <th>pixel212</th>\n",
              "      <th>pixel213</th>\n",
              "      <th>pixel214</th>\n",
              "      <th>pixel215</th>\n",
              "      <th>pixel216</th>\n",
              "      <th>pixel217</th>\n",
              "      <th>pixel218</th>\n",
              "      <th>pixel219</th>\n",
              "      <th>pixel220</th>\n",
              "      <th>pixel221</th>\n",
              "      <th>pixel222</th>\n",
              "      <th>pixel223</th>\n",
              "      <th>pixel224</th>\n",
              "      <th>pixel225</th>\n",
              "      <th>pixel226</th>\n",
              "      <th>pixel227</th>\n",
              "      <th>pixel228</th>\n",
              "      <th>pixel229</th>\n",
              "      <th>pixel230</th>\n",
              "      <th>pixel231</th>\n",
              "      <th>pixel232</th>\n",
              "      <th>pixel233</th>\n",
              "      <th>pixel234</th>\n",
              "      <th>pixel235</th>\n",
              "      <th>pixel236</th>\n",
              "      <th>pixel237</th>\n",
              "      <th>pixel238</th>\n",
              "      <th>pixel239</th>\n",
              "      <th>pixel240</th>\n",
              "      <th>pixel241</th>\n",
              "      <th>pixel242</th>\n",
              "      <th>pixel243</th>\n",
              "      <th>pixel244</th>\n",
              "      <th>pixel245</th>\n",
              "      <th>pixel246</th>\n",
              "      <th>pixel247</th>\n",
              "      <th>pixel248</th>\n",
              "      <th>...</th>\n",
              "      <th>pixel534</th>\n",
              "      <th>pixel535</th>\n",
              "      <th>pixel536</th>\n",
              "      <th>pixel537</th>\n",
              "      <th>pixel538</th>\n",
              "      <th>pixel539</th>\n",
              "      <th>pixel540</th>\n",
              "      <th>pixel541</th>\n",
              "      <th>pixel542</th>\n",
              "      <th>pixel543</th>\n",
              "      <th>pixel544</th>\n",
              "      <th>pixel545</th>\n",
              "      <th>pixel546</th>\n",
              "      <th>pixel547</th>\n",
              "      <th>pixel548</th>\n",
              "      <th>pixel549</th>\n",
              "      <th>pixel550</th>\n",
              "      <th>pixel551</th>\n",
              "      <th>pixel552</th>\n",
              "      <th>pixel553</th>\n",
              "      <th>pixel554</th>\n",
              "      <th>pixel555</th>\n",
              "      <th>pixel556</th>\n",
              "      <th>pixel557</th>\n",
              "      <th>pixel558</th>\n",
              "      <th>pixel559</th>\n",
              "      <th>pixel560</th>\n",
              "      <th>pixel561</th>\n",
              "      <th>pixel562</th>\n",
              "      <th>pixel563</th>\n",
              "      <th>pixel564</th>\n",
              "      <th>pixel565</th>\n",
              "      <th>pixel566</th>\n",
              "      <th>pixel567</th>\n",
              "      <th>pixel568</th>\n",
              "      <th>pixel569</th>\n",
              "      <th>pixel570</th>\n",
              "      <th>pixel571</th>\n",
              "      <th>pixel572</th>\n",
              "      <th>pixel573</th>\n",
              "      <th>pixel574</th>\n",
              "      <th>pixel575</th>\n",
              "      <th>pixel576</th>\n",
              "      <th>pixel577</th>\n",
              "      <th>pixel578</th>\n",
              "      <th>pixel579</th>\n",
              "      <th>pixel580</th>\n",
              "      <th>pixel581</th>\n",
              "      <th>pixel582</th>\n",
              "      <th>pixel583</th>\n",
              "      <th>pixel584</th>\n",
              "      <th>pixel585</th>\n",
              "      <th>pixel586</th>\n",
              "      <th>pixel587</th>\n",
              "      <th>pixel588</th>\n",
              "      <th>pixel589</th>\n",
              "      <th>pixel590</th>\n",
              "      <th>pixel591</th>\n",
              "      <th>pixel592</th>\n",
              "      <th>pixel593</th>\n",
              "      <th>pixel594</th>\n",
              "      <th>pixel595</th>\n",
              "      <th>pixel596</th>\n",
              "      <th>pixel597</th>\n",
              "      <th>pixel598</th>\n",
              "      <th>pixel599</th>\n",
              "      <th>pixel600</th>\n",
              "      <th>pixel601</th>\n",
              "      <th>pixel602</th>\n",
              "      <th>pixel603</th>\n",
              "      <th>pixel604</th>\n",
              "      <th>pixel605</th>\n",
              "      <th>pixel606</th>\n",
              "      <th>pixel607</th>\n",
              "      <th>pixel608</th>\n",
              "      <th>pixel609</th>\n",
              "      <th>pixel610</th>\n",
              "      <th>pixel611</th>\n",
              "      <th>pixel612</th>\n",
              "      <th>pixel613</th>\n",
              "      <th>pixel614</th>\n",
              "      <th>pixel615</th>\n",
              "      <th>pixel616</th>\n",
              "      <th>pixel617</th>\n",
              "      <th>pixel618</th>\n",
              "      <th>pixel619</th>\n",
              "      <th>pixel620</th>\n",
              "      <th>pixel621</th>\n",
              "      <th>pixel622</th>\n",
              "      <th>pixel623</th>\n",
              "      <th>pixel624</th>\n",
              "      <th>pixel625</th>\n",
              "      <th>pixel626</th>\n",
              "      <th>pixel627</th>\n",
              "      <th>pixel628</th>\n",
              "      <th>pixel629</th>\n",
              "      <th>pixel630</th>\n",
              "      <th>pixel631</th>\n",
              "      <th>pixel632</th>\n",
              "      <th>pixel633</th>\n",
              "      <th>pixel634</th>\n",
              "      <th>pixel635</th>\n",
              "      <th>pixel636</th>\n",
              "      <th>pixel637</th>\n",
              "      <th>pixel638</th>\n",
              "      <th>pixel639</th>\n",
              "      <th>pixel640</th>\n",
              "      <th>pixel641</th>\n",
              "      <th>pixel642</th>\n",
              "      <th>pixel643</th>\n",
              "      <th>pixel644</th>\n",
              "      <th>pixel645</th>\n",
              "      <th>pixel646</th>\n",
              "      <th>pixel647</th>\n",
              "      <th>pixel648</th>\n",
              "      <th>pixel649</th>\n",
              "      <th>pixel650</th>\n",
              "      <th>pixel651</th>\n",
              "      <th>pixel652</th>\n",
              "      <th>pixel653</th>\n",
              "      <th>pixel654</th>\n",
              "      <th>pixel655</th>\n",
              "      <th>pixel656</th>\n",
              "      <th>pixel657</th>\n",
              "      <th>pixel658</th>\n",
              "      <th>pixel659</th>\n",
              "      <th>pixel660</th>\n",
              "      <th>pixel661</th>\n",
              "      <th>pixel662</th>\n",
              "      <th>pixel663</th>\n",
              "      <th>pixel664</th>\n",
              "      <th>pixel665</th>\n",
              "      <th>pixel666</th>\n",
              "      <th>pixel667</th>\n",
              "      <th>pixel668</th>\n",
              "      <th>pixel669</th>\n",
              "      <th>pixel670</th>\n",
              "      <th>pixel671</th>\n",
              "      <th>pixel672</th>\n",
              "      <th>pixel673</th>\n",
              "      <th>pixel674</th>\n",
              "      <th>pixel675</th>\n",
              "      <th>pixel676</th>\n",
              "      <th>pixel677</th>\n",
              "      <th>pixel678</th>\n",
              "      <th>pixel679</th>\n",
              "      <th>pixel680</th>\n",
              "      <th>pixel681</th>\n",
              "      <th>pixel682</th>\n",
              "      <th>pixel683</th>\n",
              "      <th>pixel684</th>\n",
              "      <th>pixel685</th>\n",
              "      <th>pixel686</th>\n",
              "      <th>pixel687</th>\n",
              "      <th>pixel688</th>\n",
              "      <th>pixel689</th>\n",
              "      <th>pixel690</th>\n",
              "      <th>pixel691</th>\n",
              "      <th>pixel692</th>\n",
              "      <th>pixel693</th>\n",
              "      <th>pixel694</th>\n",
              "      <th>pixel695</th>\n",
              "      <th>pixel696</th>\n",
              "      <th>pixel697</th>\n",
              "      <th>pixel698</th>\n",
              "      <th>pixel699</th>\n",
              "      <th>pixel700</th>\n",
              "      <th>pixel701</th>\n",
              "      <th>pixel702</th>\n",
              "      <th>pixel703</th>\n",
              "      <th>pixel704</th>\n",
              "      <th>pixel705</th>\n",
              "      <th>pixel706</th>\n",
              "      <th>pixel707</th>\n",
              "      <th>pixel708</th>\n",
              "      <th>pixel709</th>\n",
              "      <th>pixel710</th>\n",
              "      <th>pixel711</th>\n",
              "      <th>pixel712</th>\n",
              "      <th>pixel713</th>\n",
              "      <th>pixel714</th>\n",
              "      <th>pixel715</th>\n",
              "      <th>pixel716</th>\n",
              "      <th>pixel717</th>\n",
              "      <th>pixel718</th>\n",
              "      <th>pixel719</th>\n",
              "      <th>pixel720</th>\n",
              "      <th>pixel721</th>\n",
              "      <th>pixel722</th>\n",
              "      <th>pixel723</th>\n",
              "      <th>pixel724</th>\n",
              "      <th>pixel725</th>\n",
              "      <th>pixel726</th>\n",
              "      <th>pixel727</th>\n",
              "      <th>pixel728</th>\n",
              "      <th>pixel729</th>\n",
              "      <th>pixel730</th>\n",
              "      <th>pixel731</th>\n",
              "      <th>pixel732</th>\n",
              "      <th>pixel733</th>\n",
              "      <th>pixel734</th>\n",
              "      <th>pixel735</th>\n",
              "      <th>pixel736</th>\n",
              "      <th>pixel737</th>\n",
              "      <th>pixel738</th>\n",
              "      <th>pixel739</th>\n",
              "      <th>pixel740</th>\n",
              "      <th>pixel741</th>\n",
              "      <th>pixel742</th>\n",
              "      <th>pixel743</th>\n",
              "      <th>pixel744</th>\n",
              "      <th>pixel745</th>\n",
              "      <th>pixel746</th>\n",
              "      <th>pixel747</th>\n",
              "      <th>pixel748</th>\n",
              "      <th>pixel749</th>\n",
              "      <th>pixel750</th>\n",
              "      <th>pixel751</th>\n",
              "      <th>pixel752</th>\n",
              "      <th>pixel753</th>\n",
              "      <th>pixel754</th>\n",
              "      <th>pixel755</th>\n",
              "      <th>pixel756</th>\n",
              "      <th>pixel757</th>\n",
              "      <th>pixel758</th>\n",
              "      <th>pixel759</th>\n",
              "      <th>pixel760</th>\n",
              "      <th>pixel761</th>\n",
              "      <th>pixel762</th>\n",
              "      <th>pixel763</th>\n",
              "      <th>pixel764</th>\n",
              "      <th>pixel765</th>\n",
              "      <th>pixel766</th>\n",
              "      <th>pixel767</th>\n",
              "      <th>pixel768</th>\n",
              "      <th>pixel769</th>\n",
              "      <th>pixel770</th>\n",
              "      <th>pixel771</th>\n",
              "      <th>pixel772</th>\n",
              "      <th>pixel773</th>\n",
              "      <th>pixel774</th>\n",
              "      <th>pixel775</th>\n",
              "      <th>pixel776</th>\n",
              "      <th>pixel777</th>\n",
              "      <th>pixel778</th>\n",
              "      <th>pixel779</th>\n",
              "      <th>pixel780</th>\n",
              "      <th>pixel781</th>\n",
              "      <th>pixel782</th>\n",
              "      <th>pixel783</th>\n",
              "    </tr>\n",
              "  </thead>\n",
              "  <tbody>\n",
              "    <tr>\n",
              "      <th>0</th>\n",
              "      <td>1</td>\n",
              "      <td>0</td>\n",
              "      <td>0</td>\n",
              "      <td>0</td>\n",
              "      <td>0</td>\n",
              "      <td>0</td>\n",
              "      <td>0</td>\n",
              "      <td>0</td>\n",
              "      <td>0</td>\n",
              "      <td>0</td>\n",
              "      <td>0</td>\n",
              "      <td>0</td>\n",
              "      <td>0</td>\n",
              "      <td>0</td>\n",
              "      <td>0</td>\n",
              "      <td>0</td>\n",
              "      <td>0</td>\n",
              "      <td>0</td>\n",
              "      <td>0</td>\n",
              "      <td>0</td>\n",
              "      <td>0</td>\n",
              "      <td>0</td>\n",
              "      <td>0</td>\n",
              "      <td>0</td>\n",
              "      <td>0</td>\n",
              "      <td>0</td>\n",
              "      <td>0</td>\n",
              "      <td>0</td>\n",
              "      <td>0</td>\n",
              "      <td>0</td>\n",
              "      <td>0</td>\n",
              "      <td>0</td>\n",
              "      <td>0</td>\n",
              "      <td>0</td>\n",
              "      <td>0</td>\n",
              "      <td>0</td>\n",
              "      <td>0</td>\n",
              "      <td>0</td>\n",
              "      <td>0</td>\n",
              "      <td>0</td>\n",
              "      <td>0</td>\n",
              "      <td>0</td>\n",
              "      <td>0</td>\n",
              "      <td>0</td>\n",
              "      <td>0</td>\n",
              "      <td>0</td>\n",
              "      <td>0</td>\n",
              "      <td>0</td>\n",
              "      <td>0</td>\n",
              "      <td>0</td>\n",
              "      <td>0</td>\n",
              "      <td>0</td>\n",
              "      <td>0</td>\n",
              "      <td>0</td>\n",
              "      <td>0</td>\n",
              "      <td>0</td>\n",
              "      <td>0</td>\n",
              "      <td>0</td>\n",
              "      <td>0</td>\n",
              "      <td>0</td>\n",
              "      <td>0</td>\n",
              "      <td>0</td>\n",
              "      <td>0</td>\n",
              "      <td>0</td>\n",
              "      <td>0</td>\n",
              "      <td>0</td>\n",
              "      <td>0</td>\n",
              "      <td>0</td>\n",
              "      <td>0</td>\n",
              "      <td>0</td>\n",
              "      <td>0</td>\n",
              "      <td>0</td>\n",
              "      <td>0</td>\n",
              "      <td>0</td>\n",
              "      <td>0</td>\n",
              "      <td>0</td>\n",
              "      <td>0</td>\n",
              "      <td>0</td>\n",
              "      <td>0</td>\n",
              "      <td>0</td>\n",
              "      <td>0</td>\n",
              "      <td>0</td>\n",
              "      <td>0</td>\n",
              "      <td>0</td>\n",
              "      <td>0</td>\n",
              "      <td>0</td>\n",
              "      <td>0</td>\n",
              "      <td>0</td>\n",
              "      <td>0</td>\n",
              "      <td>0</td>\n",
              "      <td>0</td>\n",
              "      <td>0</td>\n",
              "      <td>0</td>\n",
              "      <td>0</td>\n",
              "      <td>0</td>\n",
              "      <td>0</td>\n",
              "      <td>0</td>\n",
              "      <td>0</td>\n",
              "      <td>0</td>\n",
              "      <td>0</td>\n",
              "      <td>0</td>\n",
              "      <td>0</td>\n",
              "      <td>0</td>\n",
              "      <td>0</td>\n",
              "      <td>0</td>\n",
              "      <td>0</td>\n",
              "      <td>0</td>\n",
              "      <td>0</td>\n",
              "      <td>0</td>\n",
              "      <td>0</td>\n",
              "      <td>0</td>\n",
              "      <td>0</td>\n",
              "      <td>0</td>\n",
              "      <td>0</td>\n",
              "      <td>0</td>\n",
              "      <td>0</td>\n",
              "      <td>0</td>\n",
              "      <td>0</td>\n",
              "      <td>0</td>\n",
              "      <td>0</td>\n",
              "      <td>0</td>\n",
              "      <td>0</td>\n",
              "      <td>0</td>\n",
              "      <td>0</td>\n",
              "      <td>0</td>\n",
              "      <td>0</td>\n",
              "      <td>0</td>\n",
              "      <td>0</td>\n",
              "      <td>0</td>\n",
              "      <td>0</td>\n",
              "      <td>0</td>\n",
              "      <td>0</td>\n",
              "      <td>0</td>\n",
              "      <td>188</td>\n",
              "      <td>255</td>\n",
              "      <td>94</td>\n",
              "      <td>0</td>\n",
              "      <td>0</td>\n",
              "      <td>0</td>\n",
              "      <td>0</td>\n",
              "      <td>0</td>\n",
              "      <td>0</td>\n",
              "      <td>0</td>\n",
              "      <td>0</td>\n",
              "      <td>0</td>\n",
              "      <td>0</td>\n",
              "      <td>0</td>\n",
              "      <td>0</td>\n",
              "      <td>0</td>\n",
              "      <td>0</td>\n",
              "      <td>0</td>\n",
              "      <td>0</td>\n",
              "      <td>0</td>\n",
              "      <td>0</td>\n",
              "      <td>0</td>\n",
              "      <td>0</td>\n",
              "      <td>0</td>\n",
              "      <td>0</td>\n",
              "      <td>0</td>\n",
              "      <td>0</td>\n",
              "      <td>191</td>\n",
              "      <td>250</td>\n",
              "      <td>253</td>\n",
              "      <td>93</td>\n",
              "      <td>0</td>\n",
              "      <td>0</td>\n",
              "      <td>0</td>\n",
              "      <td>0</td>\n",
              "      <td>0</td>\n",
              "      <td>0</td>\n",
              "      <td>0</td>\n",
              "      <td>0</td>\n",
              "      <td>0</td>\n",
              "      <td>0</td>\n",
              "      <td>0</td>\n",
              "      <td>0</td>\n",
              "      <td>0</td>\n",
              "      <td>0</td>\n",
              "      <td>0</td>\n",
              "      <td>0</td>\n",
              "      <td>0</td>\n",
              "      <td>0</td>\n",
              "      <td>0</td>\n",
              "      <td>0</td>\n",
              "      <td>0</td>\n",
              "      <td>0</td>\n",
              "      <td>0</td>\n",
              "      <td>123</td>\n",
              "      <td>248</td>\n",
              "      <td>253</td>\n",
              "      <td>167</td>\n",
              "      <td>10</td>\n",
              "      <td>0</td>\n",
              "      <td>0</td>\n",
              "      <td>0</td>\n",
              "      <td>0</td>\n",
              "      <td>0</td>\n",
              "      <td>0</td>\n",
              "      <td>0</td>\n",
              "      <td>0</td>\n",
              "      <td>0</td>\n",
              "      <td>0</td>\n",
              "      <td>0</td>\n",
              "      <td>0</td>\n",
              "      <td>0</td>\n",
              "      <td>0</td>\n",
              "      <td>0</td>\n",
              "      <td>0</td>\n",
              "      <td>0</td>\n",
              "      <td>0</td>\n",
              "      <td>0</td>\n",
              "      <td>0</td>\n",
              "      <td>0</td>\n",
              "      <td>0</td>\n",
              "      <td>80</td>\n",
              "      <td>247</td>\n",
              "      <td>253</td>\n",
              "      <td>208</td>\n",
              "      <td>13</td>\n",
              "      <td>0</td>\n",
              "      <td>0</td>\n",
              "      <td>0</td>\n",
              "      <td>0</td>\n",
              "      <td>0</td>\n",
              "      <td>0</td>\n",
              "      <td>0</td>\n",
              "      <td>0</td>\n",
              "      <td>0</td>\n",
              "      <td>0</td>\n",
              "      <td>0</td>\n",
              "      <td>0</td>\n",
              "      <td>0</td>\n",
              "      <td>0</td>\n",
              "      <td>0</td>\n",
              "      <td>0</td>\n",
              "      <td>0</td>\n",
              "      <td>0</td>\n",
              "      <td>0</td>\n",
              "      <td>0</td>\n",
              "      <td>0</td>\n",
              "      <td>0</td>\n",
              "      <td>29</td>\n",
              "      <td>207</td>\n",
              "      <td>253</td>\n",
              "      <td>235</td>\n",
              "      <td>77</td>\n",
              "      <td>0</td>\n",
              "      <td>0</td>\n",
              "      <td>0</td>\n",
              "      <td>0</td>\n",
              "      <td>...</td>\n",
              "      <td>0</td>\n",
              "      <td>0</td>\n",
              "      <td>0</td>\n",
              "      <td>0</td>\n",
              "      <td>0</td>\n",
              "      <td>0</td>\n",
              "      <td>89</td>\n",
              "      <td>240</td>\n",
              "      <td>253</td>\n",
              "      <td>195</td>\n",
              "      <td>25</td>\n",
              "      <td>0</td>\n",
              "      <td>0</td>\n",
              "      <td>0</td>\n",
              "      <td>0</td>\n",
              "      <td>0</td>\n",
              "      <td>0</td>\n",
              "      <td>0</td>\n",
              "      <td>0</td>\n",
              "      <td>0</td>\n",
              "      <td>0</td>\n",
              "      <td>0</td>\n",
              "      <td>0</td>\n",
              "      <td>0</td>\n",
              "      <td>0</td>\n",
              "      <td>0</td>\n",
              "      <td>0</td>\n",
              "      <td>0</td>\n",
              "      <td>0</td>\n",
              "      <td>0</td>\n",
              "      <td>0</td>\n",
              "      <td>0</td>\n",
              "      <td>0</td>\n",
              "      <td>15</td>\n",
              "      <td>220</td>\n",
              "      <td>253</td>\n",
              "      <td>253</td>\n",
              "      <td>80</td>\n",
              "      <td>0</td>\n",
              "      <td>0</td>\n",
              "      <td>0</td>\n",
              "      <td>0</td>\n",
              "      <td>0</td>\n",
              "      <td>0</td>\n",
              "      <td>0</td>\n",
              "      <td>0</td>\n",
              "      <td>0</td>\n",
              "      <td>0</td>\n",
              "      <td>0</td>\n",
              "      <td>0</td>\n",
              "      <td>0</td>\n",
              "      <td>0</td>\n",
              "      <td>0</td>\n",
              "      <td>0</td>\n",
              "      <td>0</td>\n",
              "      <td>0</td>\n",
              "      <td>0</td>\n",
              "      <td>0</td>\n",
              "      <td>0</td>\n",
              "      <td>0</td>\n",
              "      <td>0</td>\n",
              "      <td>94</td>\n",
              "      <td>253</td>\n",
              "      <td>253</td>\n",
              "      <td>253</td>\n",
              "      <td>94</td>\n",
              "      <td>0</td>\n",
              "      <td>0</td>\n",
              "      <td>0</td>\n",
              "      <td>0</td>\n",
              "      <td>0</td>\n",
              "      <td>0</td>\n",
              "      <td>0</td>\n",
              "      <td>0</td>\n",
              "      <td>0</td>\n",
              "      <td>0</td>\n",
              "      <td>0</td>\n",
              "      <td>0</td>\n",
              "      <td>0</td>\n",
              "      <td>0</td>\n",
              "      <td>0</td>\n",
              "      <td>0</td>\n",
              "      <td>0</td>\n",
              "      <td>0</td>\n",
              "      <td>0</td>\n",
              "      <td>0</td>\n",
              "      <td>0</td>\n",
              "      <td>0</td>\n",
              "      <td>0</td>\n",
              "      <td>89</td>\n",
              "      <td>251</td>\n",
              "      <td>253</td>\n",
              "      <td>250</td>\n",
              "      <td>131</td>\n",
              "      <td>0</td>\n",
              "      <td>0</td>\n",
              "      <td>0</td>\n",
              "      <td>0</td>\n",
              "      <td>0</td>\n",
              "      <td>0</td>\n",
              "      <td>0</td>\n",
              "      <td>0</td>\n",
              "      <td>0</td>\n",
              "      <td>0</td>\n",
              "      <td>0</td>\n",
              "      <td>0</td>\n",
              "      <td>0</td>\n",
              "      <td>0</td>\n",
              "      <td>0</td>\n",
              "      <td>0</td>\n",
              "      <td>0</td>\n",
              "      <td>0</td>\n",
              "      <td>0</td>\n",
              "      <td>0</td>\n",
              "      <td>0</td>\n",
              "      <td>0</td>\n",
              "      <td>0</td>\n",
              "      <td>0</td>\n",
              "      <td>214</td>\n",
              "      <td>218</td>\n",
              "      <td>95</td>\n",
              "      <td>0</td>\n",
              "      <td>0</td>\n",
              "      <td>0</td>\n",
              "      <td>0</td>\n",
              "      <td>0</td>\n",
              "      <td>0</td>\n",
              "      <td>0</td>\n",
              "      <td>0</td>\n",
              "      <td>0</td>\n",
              "      <td>0</td>\n",
              "      <td>0</td>\n",
              "      <td>0</td>\n",
              "      <td>0</td>\n",
              "      <td>0</td>\n",
              "      <td>0</td>\n",
              "      <td>0</td>\n",
              "      <td>0</td>\n",
              "      <td>0</td>\n",
              "      <td>0</td>\n",
              "      <td>0</td>\n",
              "      <td>0</td>\n",
              "      <td>0</td>\n",
              "      <td>0</td>\n",
              "      <td>0</td>\n",
              "      <td>0</td>\n",
              "      <td>0</td>\n",
              "      <td>0</td>\n",
              "      <td>0</td>\n",
              "      <td>0</td>\n",
              "      <td>0</td>\n",
              "      <td>0</td>\n",
              "      <td>0</td>\n",
              "      <td>0</td>\n",
              "      <td>0</td>\n",
              "      <td>0</td>\n",
              "      <td>0</td>\n",
              "      <td>0</td>\n",
              "      <td>0</td>\n",
              "      <td>0</td>\n",
              "      <td>0</td>\n",
              "      <td>0</td>\n",
              "      <td>0</td>\n",
              "      <td>0</td>\n",
              "      <td>0</td>\n",
              "      <td>0</td>\n",
              "      <td>0</td>\n",
              "      <td>0</td>\n",
              "      <td>0</td>\n",
              "      <td>0</td>\n",
              "      <td>0</td>\n",
              "      <td>0</td>\n",
              "      <td>0</td>\n",
              "      <td>0</td>\n",
              "      <td>0</td>\n",
              "      <td>0</td>\n",
              "      <td>0</td>\n",
              "      <td>0</td>\n",
              "      <td>0</td>\n",
              "      <td>0</td>\n",
              "      <td>0</td>\n",
              "      <td>0</td>\n",
              "      <td>0</td>\n",
              "      <td>0</td>\n",
              "      <td>0</td>\n",
              "      <td>0</td>\n",
              "      <td>0</td>\n",
              "      <td>0</td>\n",
              "      <td>0</td>\n",
              "      <td>0</td>\n",
              "      <td>0</td>\n",
              "      <td>0</td>\n",
              "      <td>0</td>\n",
              "      <td>0</td>\n",
              "      <td>0</td>\n",
              "      <td>0</td>\n",
              "      <td>0</td>\n",
              "      <td>0</td>\n",
              "      <td>0</td>\n",
              "      <td>0</td>\n",
              "      <td>0</td>\n",
              "      <td>0</td>\n",
              "      <td>0</td>\n",
              "      <td>0</td>\n",
              "      <td>0</td>\n",
              "      <td>0</td>\n",
              "      <td>0</td>\n",
              "      <td>0</td>\n",
              "      <td>0</td>\n",
              "      <td>0</td>\n",
              "      <td>0</td>\n",
              "      <td>0</td>\n",
              "      <td>0</td>\n",
              "      <td>0</td>\n",
              "      <td>0</td>\n",
              "      <td>0</td>\n",
              "      <td>0</td>\n",
              "      <td>0</td>\n",
              "      <td>0</td>\n",
              "      <td>0</td>\n",
              "      <td>0</td>\n",
              "      <td>0</td>\n",
              "      <td>0</td>\n",
              "      <td>0</td>\n",
              "      <td>0</td>\n",
              "      <td>0</td>\n",
              "      <td>0</td>\n",
              "      <td>0</td>\n",
              "      <td>0</td>\n",
              "      <td>0</td>\n",
              "      <td>0</td>\n",
              "      <td>0</td>\n",
              "      <td>0</td>\n",
              "      <td>0</td>\n",
              "      <td>0</td>\n",
              "      <td>0</td>\n",
              "      <td>0</td>\n",
              "      <td>0</td>\n",
              "      <td>0</td>\n",
              "      <td>0</td>\n",
              "      <td>0</td>\n",
              "      <td>0</td>\n",
              "      <td>0</td>\n",
              "      <td>0</td>\n",
              "      <td>0</td>\n",
              "      <td>0</td>\n",
              "      <td>0</td>\n",
              "      <td>0</td>\n",
              "      <td>0</td>\n",
              "      <td>0</td>\n",
              "    </tr>\n",
              "    <tr>\n",
              "      <th>1</th>\n",
              "      <td>0</td>\n",
              "      <td>0</td>\n",
              "      <td>0</td>\n",
              "      <td>0</td>\n",
              "      <td>0</td>\n",
              "      <td>0</td>\n",
              "      <td>0</td>\n",
              "      <td>0</td>\n",
              "      <td>0</td>\n",
              "      <td>0</td>\n",
              "      <td>0</td>\n",
              "      <td>0</td>\n",
              "      <td>0</td>\n",
              "      <td>0</td>\n",
              "      <td>0</td>\n",
              "      <td>0</td>\n",
              "      <td>0</td>\n",
              "      <td>0</td>\n",
              "      <td>0</td>\n",
              "      <td>0</td>\n",
              "      <td>0</td>\n",
              "      <td>0</td>\n",
              "      <td>0</td>\n",
              "      <td>0</td>\n",
              "      <td>0</td>\n",
              "      <td>0</td>\n",
              "      <td>0</td>\n",
              "      <td>0</td>\n",
              "      <td>0</td>\n",
              "      <td>0</td>\n",
              "      <td>0</td>\n",
              "      <td>0</td>\n",
              "      <td>0</td>\n",
              "      <td>0</td>\n",
              "      <td>0</td>\n",
              "      <td>0</td>\n",
              "      <td>0</td>\n",
              "      <td>0</td>\n",
              "      <td>0</td>\n",
              "      <td>0</td>\n",
              "      <td>0</td>\n",
              "      <td>0</td>\n",
              "      <td>0</td>\n",
              "      <td>0</td>\n",
              "      <td>0</td>\n",
              "      <td>0</td>\n",
              "      <td>0</td>\n",
              "      <td>0</td>\n",
              "      <td>0</td>\n",
              "      <td>0</td>\n",
              "      <td>0</td>\n",
              "      <td>0</td>\n",
              "      <td>0</td>\n",
              "      <td>0</td>\n",
              "      <td>0</td>\n",
              "      <td>0</td>\n",
              "      <td>0</td>\n",
              "      <td>0</td>\n",
              "      <td>0</td>\n",
              "      <td>0</td>\n",
              "      <td>0</td>\n",
              "      <td>0</td>\n",
              "      <td>0</td>\n",
              "      <td>0</td>\n",
              "      <td>0</td>\n",
              "      <td>0</td>\n",
              "      <td>0</td>\n",
              "      <td>0</td>\n",
              "      <td>0</td>\n",
              "      <td>0</td>\n",
              "      <td>0</td>\n",
              "      <td>0</td>\n",
              "      <td>0</td>\n",
              "      <td>0</td>\n",
              "      <td>0</td>\n",
              "      <td>0</td>\n",
              "      <td>0</td>\n",
              "      <td>0</td>\n",
              "      <td>0</td>\n",
              "      <td>0</td>\n",
              "      <td>0</td>\n",
              "      <td>0</td>\n",
              "      <td>0</td>\n",
              "      <td>0</td>\n",
              "      <td>0</td>\n",
              "      <td>0</td>\n",
              "      <td>0</td>\n",
              "      <td>0</td>\n",
              "      <td>0</td>\n",
              "      <td>0</td>\n",
              "      <td>0</td>\n",
              "      <td>0</td>\n",
              "      <td>0</td>\n",
              "      <td>0</td>\n",
              "      <td>0</td>\n",
              "      <td>0</td>\n",
              "      <td>0</td>\n",
              "      <td>0</td>\n",
              "      <td>0</td>\n",
              "      <td>0</td>\n",
              "      <td>0</td>\n",
              "      <td>0</td>\n",
              "      <td>0</td>\n",
              "      <td>0</td>\n",
              "      <td>0</td>\n",
              "      <td>0</td>\n",
              "      <td>0</td>\n",
              "      <td>0</td>\n",
              "      <td>0</td>\n",
              "      <td>0</td>\n",
              "      <td>0</td>\n",
              "      <td>0</td>\n",
              "      <td>0</td>\n",
              "      <td>0</td>\n",
              "      <td>0</td>\n",
              "      <td>0</td>\n",
              "      <td>0</td>\n",
              "      <td>0</td>\n",
              "      <td>0</td>\n",
              "      <td>0</td>\n",
              "      <td>0</td>\n",
              "      <td>0</td>\n",
              "      <td>0</td>\n",
              "      <td>18</td>\n",
              "      <td>30</td>\n",
              "      <td>137</td>\n",
              "      <td>137</td>\n",
              "      <td>192</td>\n",
              "      <td>86</td>\n",
              "      <td>72</td>\n",
              "      <td>1</td>\n",
              "      <td>0</td>\n",
              "      <td>0</td>\n",
              "      <td>0</td>\n",
              "      <td>0</td>\n",
              "      <td>0</td>\n",
              "      <td>0</td>\n",
              "      <td>0</td>\n",
              "      <td>0</td>\n",
              "      <td>0</td>\n",
              "      <td>0</td>\n",
              "      <td>0</td>\n",
              "      <td>0</td>\n",
              "      <td>0</td>\n",
              "      <td>0</td>\n",
              "      <td>0</td>\n",
              "      <td>0</td>\n",
              "      <td>0</td>\n",
              "      <td>0</td>\n",
              "      <td>13</td>\n",
              "      <td>86</td>\n",
              "      <td>250</td>\n",
              "      <td>254</td>\n",
              "      <td>254</td>\n",
              "      <td>254</td>\n",
              "      <td>254</td>\n",
              "      <td>217</td>\n",
              "      <td>246</td>\n",
              "      <td>151</td>\n",
              "      <td>32</td>\n",
              "      <td>0</td>\n",
              "      <td>0</td>\n",
              "      <td>0</td>\n",
              "      <td>0</td>\n",
              "      <td>0</td>\n",
              "      <td>0</td>\n",
              "      <td>0</td>\n",
              "      <td>0</td>\n",
              "      <td>0</td>\n",
              "      <td>0</td>\n",
              "      <td>0</td>\n",
              "      <td>0</td>\n",
              "      <td>0</td>\n",
              "      <td>0</td>\n",
              "      <td>0</td>\n",
              "      <td>0</td>\n",
              "      <td>16</td>\n",
              "      <td>179</td>\n",
              "      <td>254</td>\n",
              "      <td>254</td>\n",
              "      <td>254</td>\n",
              "      <td>254</td>\n",
              "      <td>254</td>\n",
              "      <td>254</td>\n",
              "      <td>254</td>\n",
              "      <td>254</td>\n",
              "      <td>254</td>\n",
              "      <td>231</td>\n",
              "      <td>54</td>\n",
              "      <td>15</td>\n",
              "      <td>0</td>\n",
              "      <td>0</td>\n",
              "      <td>0</td>\n",
              "      <td>0</td>\n",
              "      <td>0</td>\n",
              "      <td>0</td>\n",
              "      <td>0</td>\n",
              "      <td>0</td>\n",
              "      <td>0</td>\n",
              "      <td>0</td>\n",
              "      <td>0</td>\n",
              "      <td>0</td>\n",
              "      <td>0</td>\n",
              "      <td>0</td>\n",
              "      <td>72</td>\n",
              "      <td>254</td>\n",
              "      <td>254</td>\n",
              "      <td>254</td>\n",
              "      <td>254</td>\n",
              "      <td>254</td>\n",
              "      <td>254</td>\n",
              "      <td>254</td>\n",
              "      <td>254</td>\n",
              "      <td>254</td>\n",
              "      <td>254</td>\n",
              "      <td>254</td>\n",
              "      <td>254</td>\n",
              "      <td>104</td>\n",
              "      <td>0</td>\n",
              "      <td>0</td>\n",
              "      <td>0</td>\n",
              "      <td>0</td>\n",
              "      <td>0</td>\n",
              "      <td>0</td>\n",
              "      <td>0</td>\n",
              "      <td>0</td>\n",
              "      <td>0</td>\n",
              "      <td>0</td>\n",
              "      <td>0</td>\n",
              "      <td>0</td>\n",
              "      <td>0</td>\n",
              "      <td>61</td>\n",
              "      <td>191</td>\n",
              "      <td>254</td>\n",
              "      <td>254</td>\n",
              "      <td>254</td>\n",
              "      <td>254</td>\n",
              "      <td>254</td>\n",
              "      <td>109</td>\n",
              "      <td>83</td>\n",
              "      <td>199</td>\n",
              "      <td>254</td>\n",
              "      <td>254</td>\n",
              "      <td>254</td>\n",
              "      <td>254</td>\n",
              "      <td>243</td>\n",
              "      <td>85</td>\n",
              "      <td>0</td>\n",
              "      <td>0</td>\n",
              "      <td>0</td>\n",
              "      <td>...</td>\n",
              "      <td>0</td>\n",
              "      <td>0</td>\n",
              "      <td>0</td>\n",
              "      <td>0</td>\n",
              "      <td>60</td>\n",
              "      <td>212</td>\n",
              "      <td>254</td>\n",
              "      <td>254</td>\n",
              "      <td>254</td>\n",
              "      <td>194</td>\n",
              "      <td>48</td>\n",
              "      <td>48</td>\n",
              "      <td>34</td>\n",
              "      <td>41</td>\n",
              "      <td>48</td>\n",
              "      <td>209</td>\n",
              "      <td>254</td>\n",
              "      <td>254</td>\n",
              "      <td>254</td>\n",
              "      <td>171</td>\n",
              "      <td>0</td>\n",
              "      <td>0</td>\n",
              "      <td>0</td>\n",
              "      <td>0</td>\n",
              "      <td>0</td>\n",
              "      <td>0</td>\n",
              "      <td>0</td>\n",
              "      <td>0</td>\n",
              "      <td>0</td>\n",
              "      <td>0</td>\n",
              "      <td>0</td>\n",
              "      <td>0</td>\n",
              "      <td>0</td>\n",
              "      <td>86</td>\n",
              "      <td>243</td>\n",
              "      <td>254</td>\n",
              "      <td>254</td>\n",
              "      <td>254</td>\n",
              "      <td>254</td>\n",
              "      <td>254</td>\n",
              "      <td>233</td>\n",
              "      <td>243</td>\n",
              "      <td>254</td>\n",
              "      <td>254</td>\n",
              "      <td>254</td>\n",
              "      <td>254</td>\n",
              "      <td>254</td>\n",
              "      <td>86</td>\n",
              "      <td>0</td>\n",
              "      <td>0</td>\n",
              "      <td>0</td>\n",
              "      <td>0</td>\n",
              "      <td>0</td>\n",
              "      <td>0</td>\n",
              "      <td>0</td>\n",
              "      <td>0</td>\n",
              "      <td>0</td>\n",
              "      <td>0</td>\n",
              "      <td>0</td>\n",
              "      <td>0</td>\n",
              "      <td>0</td>\n",
              "      <td>0</td>\n",
              "      <td>114</td>\n",
              "      <td>254</td>\n",
              "      <td>254</td>\n",
              "      <td>254</td>\n",
              "      <td>254</td>\n",
              "      <td>254</td>\n",
              "      <td>254</td>\n",
              "      <td>254</td>\n",
              "      <td>254</td>\n",
              "      <td>254</td>\n",
              "      <td>254</td>\n",
              "      <td>239</td>\n",
              "      <td>86</td>\n",
              "      <td>11</td>\n",
              "      <td>0</td>\n",
              "      <td>0</td>\n",
              "      <td>0</td>\n",
              "      <td>0</td>\n",
              "      <td>0</td>\n",
              "      <td>0</td>\n",
              "      <td>0</td>\n",
              "      <td>0</td>\n",
              "      <td>0</td>\n",
              "      <td>0</td>\n",
              "      <td>0</td>\n",
              "      <td>0</td>\n",
              "      <td>0</td>\n",
              "      <td>0</td>\n",
              "      <td>13</td>\n",
              "      <td>182</td>\n",
              "      <td>254</td>\n",
              "      <td>254</td>\n",
              "      <td>254</td>\n",
              "      <td>254</td>\n",
              "      <td>254</td>\n",
              "      <td>254</td>\n",
              "      <td>254</td>\n",
              "      <td>254</td>\n",
              "      <td>243</td>\n",
              "      <td>70</td>\n",
              "      <td>0</td>\n",
              "      <td>0</td>\n",
              "      <td>0</td>\n",
              "      <td>0</td>\n",
              "      <td>0</td>\n",
              "      <td>0</td>\n",
              "      <td>0</td>\n",
              "      <td>0</td>\n",
              "      <td>0</td>\n",
              "      <td>0</td>\n",
              "      <td>0</td>\n",
              "      <td>0</td>\n",
              "      <td>0</td>\n",
              "      <td>0</td>\n",
              "      <td>0</td>\n",
              "      <td>0</td>\n",
              "      <td>0</td>\n",
              "      <td>8</td>\n",
              "      <td>76</td>\n",
              "      <td>146</td>\n",
              "      <td>254</td>\n",
              "      <td>255</td>\n",
              "      <td>254</td>\n",
              "      <td>255</td>\n",
              "      <td>146</td>\n",
              "      <td>19</td>\n",
              "      <td>15</td>\n",
              "      <td>0</td>\n",
              "      <td>0</td>\n",
              "      <td>0</td>\n",
              "      <td>0</td>\n",
              "      <td>0</td>\n",
              "      <td>0</td>\n",
              "      <td>0</td>\n",
              "      <td>0</td>\n",
              "      <td>0</td>\n",
              "      <td>0</td>\n",
              "      <td>0</td>\n",
              "      <td>0</td>\n",
              "      <td>0</td>\n",
              "      <td>0</td>\n",
              "      <td>0</td>\n",
              "      <td>0</td>\n",
              "      <td>0</td>\n",
              "      <td>0</td>\n",
              "      <td>0</td>\n",
              "      <td>0</td>\n",
              "      <td>0</td>\n",
              "      <td>0</td>\n",
              "      <td>0</td>\n",
              "      <td>0</td>\n",
              "      <td>0</td>\n",
              "      <td>0</td>\n",
              "      <td>0</td>\n",
              "      <td>0</td>\n",
              "      <td>0</td>\n",
              "      <td>0</td>\n",
              "      <td>0</td>\n",
              "      <td>0</td>\n",
              "      <td>0</td>\n",
              "      <td>0</td>\n",
              "      <td>0</td>\n",
              "      <td>0</td>\n",
              "      <td>0</td>\n",
              "      <td>0</td>\n",
              "      <td>0</td>\n",
              "      <td>0</td>\n",
              "      <td>0</td>\n",
              "      <td>0</td>\n",
              "      <td>0</td>\n",
              "      <td>0</td>\n",
              "      <td>0</td>\n",
              "      <td>0</td>\n",
              "      <td>0</td>\n",
              "      <td>0</td>\n",
              "      <td>0</td>\n",
              "      <td>0</td>\n",
              "      <td>0</td>\n",
              "      <td>0</td>\n",
              "      <td>0</td>\n",
              "      <td>0</td>\n",
              "      <td>0</td>\n",
              "      <td>0</td>\n",
              "      <td>0</td>\n",
              "      <td>0</td>\n",
              "      <td>0</td>\n",
              "      <td>0</td>\n",
              "      <td>0</td>\n",
              "      <td>0</td>\n",
              "      <td>0</td>\n",
              "      <td>0</td>\n",
              "      <td>0</td>\n",
              "      <td>0</td>\n",
              "      <td>0</td>\n",
              "      <td>0</td>\n",
              "      <td>0</td>\n",
              "      <td>0</td>\n",
              "      <td>0</td>\n",
              "      <td>0</td>\n",
              "      <td>0</td>\n",
              "      <td>0</td>\n",
              "      <td>0</td>\n",
              "      <td>0</td>\n",
              "      <td>0</td>\n",
              "      <td>0</td>\n",
              "      <td>0</td>\n",
              "      <td>0</td>\n",
              "      <td>0</td>\n",
              "      <td>0</td>\n",
              "      <td>0</td>\n",
              "      <td>0</td>\n",
              "      <td>0</td>\n",
              "      <td>0</td>\n",
              "      <td>0</td>\n",
              "      <td>0</td>\n",
              "      <td>0</td>\n",
              "      <td>0</td>\n",
              "      <td>0</td>\n",
              "      <td>0</td>\n",
              "      <td>0</td>\n",
              "      <td>0</td>\n",
              "      <td>0</td>\n",
              "      <td>0</td>\n",
              "      <td>0</td>\n",
              "      <td>0</td>\n",
              "      <td>0</td>\n",
              "      <td>0</td>\n",
              "      <td>0</td>\n",
              "      <td>0</td>\n",
              "      <td>0</td>\n",
              "      <td>0</td>\n",
              "      <td>0</td>\n",
              "      <td>0</td>\n",
              "      <td>0</td>\n",
              "      <td>0</td>\n",
              "      <td>0</td>\n",
              "      <td>0</td>\n",
              "      <td>0</td>\n",
              "      <td>0</td>\n",
              "      <td>0</td>\n",
              "      <td>0</td>\n",
              "      <td>0</td>\n",
              "      <td>0</td>\n",
              "      <td>0</td>\n",
              "      <td>0</td>\n",
              "      <td>0</td>\n",
              "      <td>0</td>\n",
              "      <td>0</td>\n",
              "    </tr>\n",
              "    <tr>\n",
              "      <th>2</th>\n",
              "      <td>1</td>\n",
              "      <td>0</td>\n",
              "      <td>0</td>\n",
              "      <td>0</td>\n",
              "      <td>0</td>\n",
              "      <td>0</td>\n",
              "      <td>0</td>\n",
              "      <td>0</td>\n",
              "      <td>0</td>\n",
              "      <td>0</td>\n",
              "      <td>0</td>\n",
              "      <td>0</td>\n",
              "      <td>0</td>\n",
              "      <td>0</td>\n",
              "      <td>0</td>\n",
              "      <td>0</td>\n",
              "      <td>0</td>\n",
              "      <td>0</td>\n",
              "      <td>0</td>\n",
              "      <td>0</td>\n",
              "      <td>0</td>\n",
              "      <td>0</td>\n",
              "      <td>0</td>\n",
              "      <td>0</td>\n",
              "      <td>0</td>\n",
              "      <td>0</td>\n",
              "      <td>0</td>\n",
              "      <td>0</td>\n",
              "      <td>0</td>\n",
              "      <td>0</td>\n",
              "      <td>0</td>\n",
              "      <td>0</td>\n",
              "      <td>0</td>\n",
              "      <td>0</td>\n",
              "      <td>0</td>\n",
              "      <td>0</td>\n",
              "      <td>0</td>\n",
              "      <td>0</td>\n",
              "      <td>0</td>\n",
              "      <td>0</td>\n",
              "      <td>0</td>\n",
              "      <td>0</td>\n",
              "      <td>0</td>\n",
              "      <td>0</td>\n",
              "      <td>0</td>\n",
              "      <td>0</td>\n",
              "      <td>0</td>\n",
              "      <td>0</td>\n",
              "      <td>0</td>\n",
              "      <td>0</td>\n",
              "      <td>0</td>\n",
              "      <td>0</td>\n",
              "      <td>0</td>\n",
              "      <td>0</td>\n",
              "      <td>0</td>\n",
              "      <td>0</td>\n",
              "      <td>0</td>\n",
              "      <td>0</td>\n",
              "      <td>0</td>\n",
              "      <td>0</td>\n",
              "      <td>0</td>\n",
              "      <td>0</td>\n",
              "      <td>0</td>\n",
              "      <td>0</td>\n",
              "      <td>0</td>\n",
              "      <td>0</td>\n",
              "      <td>0</td>\n",
              "      <td>0</td>\n",
              "      <td>0</td>\n",
              "      <td>0</td>\n",
              "      <td>0</td>\n",
              "      <td>0</td>\n",
              "      <td>0</td>\n",
              "      <td>0</td>\n",
              "      <td>0</td>\n",
              "      <td>0</td>\n",
              "      <td>0</td>\n",
              "      <td>0</td>\n",
              "      <td>0</td>\n",
              "      <td>0</td>\n",
              "      <td>0</td>\n",
              "      <td>0</td>\n",
              "      <td>0</td>\n",
              "      <td>0</td>\n",
              "      <td>0</td>\n",
              "      <td>0</td>\n",
              "      <td>0</td>\n",
              "      <td>0</td>\n",
              "      <td>0</td>\n",
              "      <td>0</td>\n",
              "      <td>0</td>\n",
              "      <td>0</td>\n",
              "      <td>0</td>\n",
              "      <td>0</td>\n",
              "      <td>0</td>\n",
              "      <td>0</td>\n",
              "      <td>0</td>\n",
              "      <td>0</td>\n",
              "      <td>0</td>\n",
              "      <td>0</td>\n",
              "      <td>0</td>\n",
              "      <td>0</td>\n",
              "      <td>0</td>\n",
              "      <td>0</td>\n",
              "      <td>0</td>\n",
              "      <td>0</td>\n",
              "      <td>0</td>\n",
              "      <td>0</td>\n",
              "      <td>0</td>\n",
              "      <td>0</td>\n",
              "      <td>0</td>\n",
              "      <td>0</td>\n",
              "      <td>0</td>\n",
              "      <td>0</td>\n",
              "      <td>0</td>\n",
              "      <td>0</td>\n",
              "      <td>0</td>\n",
              "      <td>0</td>\n",
              "      <td>0</td>\n",
              "      <td>0</td>\n",
              "      <td>0</td>\n",
              "      <td>0</td>\n",
              "      <td>0</td>\n",
              "      <td>0</td>\n",
              "      <td>0</td>\n",
              "      <td>3</td>\n",
              "      <td>141</td>\n",
              "      <td>139</td>\n",
              "      <td>3</td>\n",
              "      <td>0</td>\n",
              "      <td>0</td>\n",
              "      <td>0</td>\n",
              "      <td>0</td>\n",
              "      <td>0</td>\n",
              "      <td>0</td>\n",
              "      <td>0</td>\n",
              "      <td>0</td>\n",
              "      <td>0</td>\n",
              "      <td>0</td>\n",
              "      <td>0</td>\n",
              "      <td>0</td>\n",
              "      <td>0</td>\n",
              "      <td>0</td>\n",
              "      <td>0</td>\n",
              "      <td>0</td>\n",
              "      <td>0</td>\n",
              "      <td>0</td>\n",
              "      <td>0</td>\n",
              "      <td>0</td>\n",
              "      <td>0</td>\n",
              "      <td>0</td>\n",
              "      <td>0</td>\n",
              "      <td>0</td>\n",
              "      <td>9</td>\n",
              "      <td>254</td>\n",
              "      <td>254</td>\n",
              "      <td>8</td>\n",
              "      <td>0</td>\n",
              "      <td>0</td>\n",
              "      <td>0</td>\n",
              "      <td>0</td>\n",
              "      <td>0</td>\n",
              "      <td>0</td>\n",
              "      <td>0</td>\n",
              "      <td>0</td>\n",
              "      <td>0</td>\n",
              "      <td>0</td>\n",
              "      <td>0</td>\n",
              "      <td>0</td>\n",
              "      <td>0</td>\n",
              "      <td>0</td>\n",
              "      <td>0</td>\n",
              "      <td>0</td>\n",
              "      <td>0</td>\n",
              "      <td>0</td>\n",
              "      <td>0</td>\n",
              "      <td>0</td>\n",
              "      <td>0</td>\n",
              "      <td>0</td>\n",
              "      <td>0</td>\n",
              "      <td>0</td>\n",
              "      <td>9</td>\n",
              "      <td>254</td>\n",
              "      <td>254</td>\n",
              "      <td>8</td>\n",
              "      <td>0</td>\n",
              "      <td>0</td>\n",
              "      <td>0</td>\n",
              "      <td>0</td>\n",
              "      <td>0</td>\n",
              "      <td>0</td>\n",
              "      <td>0</td>\n",
              "      <td>0</td>\n",
              "      <td>0</td>\n",
              "      <td>0</td>\n",
              "      <td>0</td>\n",
              "      <td>0</td>\n",
              "      <td>0</td>\n",
              "      <td>0</td>\n",
              "      <td>0</td>\n",
              "      <td>0</td>\n",
              "      <td>0</td>\n",
              "      <td>0</td>\n",
              "      <td>0</td>\n",
              "      <td>0</td>\n",
              "      <td>0</td>\n",
              "      <td>0</td>\n",
              "      <td>0</td>\n",
              "      <td>0</td>\n",
              "      <td>9</td>\n",
              "      <td>254</td>\n",
              "      <td>254</td>\n",
              "      <td>106</td>\n",
              "      <td>0</td>\n",
              "      <td>0</td>\n",
              "      <td>0</td>\n",
              "      <td>0</td>\n",
              "      <td>0</td>\n",
              "      <td>0</td>\n",
              "      <td>0</td>\n",
              "      <td>0</td>\n",
              "      <td>0</td>\n",
              "      <td>0</td>\n",
              "      <td>0</td>\n",
              "      <td>0</td>\n",
              "      <td>0</td>\n",
              "      <td>0</td>\n",
              "      <td>0</td>\n",
              "      <td>0</td>\n",
              "      <td>0</td>\n",
              "      <td>0</td>\n",
              "      <td>0</td>\n",
              "      <td>0</td>\n",
              "      <td>0</td>\n",
              "      <td>0</td>\n",
              "      <td>0</td>\n",
              "      <td>0</td>\n",
              "      <td>9</td>\n",
              "      <td>254</td>\n",
              "      <td>254</td>\n",
              "      <td>184</td>\n",
              "      <td>0</td>\n",
              "      <td>0</td>\n",
              "      <td>0</td>\n",
              "      <td>0</td>\n",
              "      <td>0</td>\n",
              "      <td>0</td>\n",
              "      <td>0</td>\n",
              "      <td>0</td>\n",
              "      <td>0</td>\n",
              "      <td>...</td>\n",
              "      <td>0</td>\n",
              "      <td>0</td>\n",
              "      <td>0</td>\n",
              "      <td>0</td>\n",
              "      <td>0</td>\n",
              "      <td>0</td>\n",
              "      <td>0</td>\n",
              "      <td>0</td>\n",
              "      <td>0</td>\n",
              "      <td>0</td>\n",
              "      <td>156</td>\n",
              "      <td>254</td>\n",
              "      <td>254</td>\n",
              "      <td>184</td>\n",
              "      <td>0</td>\n",
              "      <td>0</td>\n",
              "      <td>0</td>\n",
              "      <td>0</td>\n",
              "      <td>0</td>\n",
              "      <td>0</td>\n",
              "      <td>0</td>\n",
              "      <td>0</td>\n",
              "      <td>0</td>\n",
              "      <td>0</td>\n",
              "      <td>0</td>\n",
              "      <td>0</td>\n",
              "      <td>0</td>\n",
              "      <td>0</td>\n",
              "      <td>0</td>\n",
              "      <td>0</td>\n",
              "      <td>0</td>\n",
              "      <td>0</td>\n",
              "      <td>0</td>\n",
              "      <td>0</td>\n",
              "      <td>0</td>\n",
              "      <td>0</td>\n",
              "      <td>0</td>\n",
              "      <td>0</td>\n",
              "      <td>185</td>\n",
              "      <td>255</td>\n",
              "      <td>255</td>\n",
              "      <td>184</td>\n",
              "      <td>0</td>\n",
              "      <td>0</td>\n",
              "      <td>0</td>\n",
              "      <td>0</td>\n",
              "      <td>0</td>\n",
              "      <td>0</td>\n",
              "      <td>0</td>\n",
              "      <td>0</td>\n",
              "      <td>0</td>\n",
              "      <td>0</td>\n",
              "      <td>0</td>\n",
              "      <td>0</td>\n",
              "      <td>0</td>\n",
              "      <td>0</td>\n",
              "      <td>0</td>\n",
              "      <td>0</td>\n",
              "      <td>0</td>\n",
              "      <td>0</td>\n",
              "      <td>0</td>\n",
              "      <td>0</td>\n",
              "      <td>0</td>\n",
              "      <td>0</td>\n",
              "      <td>0</td>\n",
              "      <td>0</td>\n",
              "      <td>185</td>\n",
              "      <td>254</td>\n",
              "      <td>254</td>\n",
              "      <td>184</td>\n",
              "      <td>0</td>\n",
              "      <td>0</td>\n",
              "      <td>0</td>\n",
              "      <td>0</td>\n",
              "      <td>0</td>\n",
              "      <td>0</td>\n",
              "      <td>0</td>\n",
              "      <td>0</td>\n",
              "      <td>0</td>\n",
              "      <td>0</td>\n",
              "      <td>0</td>\n",
              "      <td>0</td>\n",
              "      <td>0</td>\n",
              "      <td>0</td>\n",
              "      <td>0</td>\n",
              "      <td>0</td>\n",
              "      <td>0</td>\n",
              "      <td>0</td>\n",
              "      <td>0</td>\n",
              "      <td>0</td>\n",
              "      <td>0</td>\n",
              "      <td>0</td>\n",
              "      <td>0</td>\n",
              "      <td>0</td>\n",
              "      <td>185</td>\n",
              "      <td>254</td>\n",
              "      <td>254</td>\n",
              "      <td>184</td>\n",
              "      <td>0</td>\n",
              "      <td>0</td>\n",
              "      <td>0</td>\n",
              "      <td>0</td>\n",
              "      <td>0</td>\n",
              "      <td>0</td>\n",
              "      <td>0</td>\n",
              "      <td>0</td>\n",
              "      <td>0</td>\n",
              "      <td>0</td>\n",
              "      <td>0</td>\n",
              "      <td>0</td>\n",
              "      <td>0</td>\n",
              "      <td>0</td>\n",
              "      <td>0</td>\n",
              "      <td>0</td>\n",
              "      <td>0</td>\n",
              "      <td>0</td>\n",
              "      <td>0</td>\n",
              "      <td>0</td>\n",
              "      <td>0</td>\n",
              "      <td>0</td>\n",
              "      <td>0</td>\n",
              "      <td>0</td>\n",
              "      <td>63</td>\n",
              "      <td>254</td>\n",
              "      <td>254</td>\n",
              "      <td>62</td>\n",
              "      <td>0</td>\n",
              "      <td>0</td>\n",
              "      <td>0</td>\n",
              "      <td>0</td>\n",
              "      <td>0</td>\n",
              "      <td>0</td>\n",
              "      <td>0</td>\n",
              "      <td>0</td>\n",
              "      <td>0</td>\n",
              "      <td>0</td>\n",
              "      <td>0</td>\n",
              "      <td>0</td>\n",
              "      <td>0</td>\n",
              "      <td>0</td>\n",
              "      <td>0</td>\n",
              "      <td>0</td>\n",
              "      <td>0</td>\n",
              "      <td>0</td>\n",
              "      <td>0</td>\n",
              "      <td>0</td>\n",
              "      <td>0</td>\n",
              "      <td>0</td>\n",
              "      <td>0</td>\n",
              "      <td>0</td>\n",
              "      <td>0</td>\n",
              "      <td>0</td>\n",
              "      <td>0</td>\n",
              "      <td>0</td>\n",
              "      <td>0</td>\n",
              "      <td>0</td>\n",
              "      <td>0</td>\n",
              "      <td>0</td>\n",
              "      <td>0</td>\n",
              "      <td>0</td>\n",
              "      <td>0</td>\n",
              "      <td>0</td>\n",
              "      <td>0</td>\n",
              "      <td>0</td>\n",
              "      <td>0</td>\n",
              "      <td>0</td>\n",
              "      <td>0</td>\n",
              "      <td>0</td>\n",
              "      <td>0</td>\n",
              "      <td>0</td>\n",
              "      <td>0</td>\n",
              "      <td>0</td>\n",
              "      <td>0</td>\n",
              "      <td>0</td>\n",
              "      <td>0</td>\n",
              "      <td>0</td>\n",
              "      <td>0</td>\n",
              "      <td>0</td>\n",
              "      <td>0</td>\n",
              "      <td>0</td>\n",
              "      <td>0</td>\n",
              "      <td>0</td>\n",
              "      <td>0</td>\n",
              "      <td>0</td>\n",
              "      <td>0</td>\n",
              "      <td>0</td>\n",
              "      <td>0</td>\n",
              "      <td>0</td>\n",
              "      <td>0</td>\n",
              "      <td>0</td>\n",
              "      <td>0</td>\n",
              "      <td>0</td>\n",
              "      <td>0</td>\n",
              "      <td>0</td>\n",
              "      <td>0</td>\n",
              "      <td>0</td>\n",
              "      <td>0</td>\n",
              "      <td>0</td>\n",
              "      <td>0</td>\n",
              "      <td>0</td>\n",
              "      <td>0</td>\n",
              "      <td>0</td>\n",
              "      <td>0</td>\n",
              "      <td>0</td>\n",
              "      <td>0</td>\n",
              "      <td>0</td>\n",
              "      <td>0</td>\n",
              "      <td>0</td>\n",
              "      <td>0</td>\n",
              "      <td>0</td>\n",
              "      <td>0</td>\n",
              "      <td>0</td>\n",
              "      <td>0</td>\n",
              "      <td>0</td>\n",
              "      <td>0</td>\n",
              "      <td>0</td>\n",
              "      <td>0</td>\n",
              "      <td>0</td>\n",
              "      <td>0</td>\n",
              "      <td>0</td>\n",
              "      <td>0</td>\n",
              "      <td>0</td>\n",
              "      <td>0</td>\n",
              "      <td>0</td>\n",
              "      <td>0</td>\n",
              "      <td>0</td>\n",
              "      <td>0</td>\n",
              "      <td>0</td>\n",
              "      <td>0</td>\n",
              "      <td>0</td>\n",
              "      <td>0</td>\n",
              "      <td>0</td>\n",
              "      <td>0</td>\n",
              "      <td>0</td>\n",
              "      <td>0</td>\n",
              "      <td>0</td>\n",
              "      <td>0</td>\n",
              "      <td>0</td>\n",
              "      <td>0</td>\n",
              "      <td>0</td>\n",
              "      <td>0</td>\n",
              "      <td>0</td>\n",
              "      <td>0</td>\n",
              "      <td>0</td>\n",
              "      <td>0</td>\n",
              "      <td>0</td>\n",
              "      <td>0</td>\n",
              "      <td>0</td>\n",
              "      <td>0</td>\n",
              "      <td>0</td>\n",
              "    </tr>\n",
              "    <tr>\n",
              "      <th>3</th>\n",
              "      <td>4</td>\n",
              "      <td>0</td>\n",
              "      <td>0</td>\n",
              "      <td>0</td>\n",
              "      <td>0</td>\n",
              "      <td>0</td>\n",
              "      <td>0</td>\n",
              "      <td>0</td>\n",
              "      <td>0</td>\n",
              "      <td>0</td>\n",
              "      <td>0</td>\n",
              "      <td>0</td>\n",
              "      <td>0</td>\n",
              "      <td>0</td>\n",
              "      <td>0</td>\n",
              "      <td>0</td>\n",
              "      <td>0</td>\n",
              "      <td>0</td>\n",
              "      <td>0</td>\n",
              "      <td>0</td>\n",
              "      <td>0</td>\n",
              "      <td>0</td>\n",
              "      <td>0</td>\n",
              "      <td>0</td>\n",
              "      <td>0</td>\n",
              "      <td>0</td>\n",
              "      <td>0</td>\n",
              "      <td>0</td>\n",
              "      <td>0</td>\n",
              "      <td>0</td>\n",
              "      <td>0</td>\n",
              "      <td>0</td>\n",
              "      <td>0</td>\n",
              "      <td>0</td>\n",
              "      <td>0</td>\n",
              "      <td>0</td>\n",
              "      <td>0</td>\n",
              "      <td>0</td>\n",
              "      <td>0</td>\n",
              "      <td>0</td>\n",
              "      <td>0</td>\n",
              "      <td>0</td>\n",
              "      <td>0</td>\n",
              "      <td>0</td>\n",
              "      <td>0</td>\n",
              "      <td>0</td>\n",
              "      <td>0</td>\n",
              "      <td>0</td>\n",
              "      <td>0</td>\n",
              "      <td>0</td>\n",
              "      <td>0</td>\n",
              "      <td>0</td>\n",
              "      <td>0</td>\n",
              "      <td>0</td>\n",
              "      <td>0</td>\n",
              "      <td>0</td>\n",
              "      <td>0</td>\n",
              "      <td>0</td>\n",
              "      <td>0</td>\n",
              "      <td>0</td>\n",
              "      <td>0</td>\n",
              "      <td>0</td>\n",
              "      <td>0</td>\n",
              "      <td>0</td>\n",
              "      <td>0</td>\n",
              "      <td>0</td>\n",
              "      <td>0</td>\n",
              "      <td>0</td>\n",
              "      <td>0</td>\n",
              "      <td>0</td>\n",
              "      <td>0</td>\n",
              "      <td>0</td>\n",
              "      <td>0</td>\n",
              "      <td>0</td>\n",
              "      <td>0</td>\n",
              "      <td>0</td>\n",
              "      <td>0</td>\n",
              "      <td>0</td>\n",
              "      <td>0</td>\n",
              "      <td>0</td>\n",
              "      <td>0</td>\n",
              "      <td>0</td>\n",
              "      <td>0</td>\n",
              "      <td>0</td>\n",
              "      <td>0</td>\n",
              "      <td>0</td>\n",
              "      <td>0</td>\n",
              "      <td>0</td>\n",
              "      <td>0</td>\n",
              "      <td>0</td>\n",
              "      <td>0</td>\n",
              "      <td>0</td>\n",
              "      <td>0</td>\n",
              "      <td>0</td>\n",
              "      <td>0</td>\n",
              "      <td>0</td>\n",
              "      <td>0</td>\n",
              "      <td>0</td>\n",
              "      <td>0</td>\n",
              "      <td>0</td>\n",
              "      <td>0</td>\n",
              "      <td>0</td>\n",
              "      <td>0</td>\n",
              "      <td>0</td>\n",
              "      <td>0</td>\n",
              "      <td>0</td>\n",
              "      <td>0</td>\n",
              "      <td>0</td>\n",
              "      <td>0</td>\n",
              "      <td>0</td>\n",
              "      <td>0</td>\n",
              "      <td>0</td>\n",
              "      <td>0</td>\n",
              "      <td>0</td>\n",
              "      <td>0</td>\n",
              "      <td>0</td>\n",
              "      <td>0</td>\n",
              "      <td>0</td>\n",
              "      <td>0</td>\n",
              "      <td>0</td>\n",
              "      <td>0</td>\n",
              "      <td>0</td>\n",
              "      <td>0</td>\n",
              "      <td>0</td>\n",
              "      <td>0</td>\n",
              "      <td>0</td>\n",
              "      <td>0</td>\n",
              "      <td>0</td>\n",
              "      <td>0</td>\n",
              "      <td>0</td>\n",
              "      <td>0</td>\n",
              "      <td>0</td>\n",
              "      <td>0</td>\n",
              "      <td>0</td>\n",
              "      <td>0</td>\n",
              "      <td>0</td>\n",
              "      <td>0</td>\n",
              "      <td>0</td>\n",
              "      <td>0</td>\n",
              "      <td>0</td>\n",
              "      <td>0</td>\n",
              "      <td>0</td>\n",
              "      <td>0</td>\n",
              "      <td>0</td>\n",
              "      <td>0</td>\n",
              "      <td>0</td>\n",
              "      <td>0</td>\n",
              "      <td>220</td>\n",
              "      <td>179</td>\n",
              "      <td>6</td>\n",
              "      <td>0</td>\n",
              "      <td>0</td>\n",
              "      <td>0</td>\n",
              "      <td>0</td>\n",
              "      <td>0</td>\n",
              "      <td>0</td>\n",
              "      <td>0</td>\n",
              "      <td>0</td>\n",
              "      <td>9</td>\n",
              "      <td>77</td>\n",
              "      <td>0</td>\n",
              "      <td>0</td>\n",
              "      <td>0</td>\n",
              "      <td>0</td>\n",
              "      <td>0</td>\n",
              "      <td>0</td>\n",
              "      <td>0</td>\n",
              "      <td>0</td>\n",
              "      <td>0</td>\n",
              "      <td>0</td>\n",
              "      <td>0</td>\n",
              "      <td>0</td>\n",
              "      <td>0</td>\n",
              "      <td>0</td>\n",
              "      <td>0</td>\n",
              "      <td>28</td>\n",
              "      <td>247</td>\n",
              "      <td>17</td>\n",
              "      <td>0</td>\n",
              "      <td>0</td>\n",
              "      <td>0</td>\n",
              "      <td>0</td>\n",
              "      <td>0</td>\n",
              "      <td>0</td>\n",
              "      <td>0</td>\n",
              "      <td>0</td>\n",
              "      <td>27</td>\n",
              "      <td>202</td>\n",
              "      <td>0</td>\n",
              "      <td>0</td>\n",
              "      <td>0</td>\n",
              "      <td>0</td>\n",
              "      <td>0</td>\n",
              "      <td>0</td>\n",
              "      <td>0</td>\n",
              "      <td>0</td>\n",
              "      <td>0</td>\n",
              "      <td>0</td>\n",
              "      <td>0</td>\n",
              "      <td>0</td>\n",
              "      <td>0</td>\n",
              "      <td>0</td>\n",
              "      <td>0</td>\n",
              "      <td>0</td>\n",
              "      <td>242</td>\n",
              "      <td>155</td>\n",
              "      <td>0</td>\n",
              "      <td>0</td>\n",
              "      <td>0</td>\n",
              "      <td>0</td>\n",
              "      <td>0</td>\n",
              "      <td>0</td>\n",
              "      <td>0</td>\n",
              "      <td>0</td>\n",
              "      <td>27</td>\n",
              "      <td>254</td>\n",
              "      <td>63</td>\n",
              "      <td>0</td>\n",
              "      <td>0</td>\n",
              "      <td>0</td>\n",
              "      <td>0</td>\n",
              "      <td>0</td>\n",
              "      <td>0</td>\n",
              "      <td>0</td>\n",
              "      <td>0</td>\n",
              "      <td>0</td>\n",
              "      <td>0</td>\n",
              "      <td>0</td>\n",
              "      <td>0</td>\n",
              "      <td>0</td>\n",
              "      <td>0</td>\n",
              "      <td>0</td>\n",
              "      <td>160</td>\n",
              "      <td>207</td>\n",
              "      <td>6</td>\n",
              "      <td>0</td>\n",
              "      <td>0</td>\n",
              "      <td>0</td>\n",
              "      <td>0</td>\n",
              "      <td>0</td>\n",
              "      <td>0</td>\n",
              "      <td>0</td>\n",
              "      <td>27</td>\n",
              "      <td>254</td>\n",
              "      <td>65</td>\n",
              "      <td>0</td>\n",
              "      <td>0</td>\n",
              "      <td>0</td>\n",
              "      <td>0</td>\n",
              "      <td>0</td>\n",
              "      <td>...</td>\n",
              "      <td>0</td>\n",
              "      <td>0</td>\n",
              "      <td>0</td>\n",
              "      <td>0</td>\n",
              "      <td>0</td>\n",
              "      <td>0</td>\n",
              "      <td>0</td>\n",
              "      <td>15</td>\n",
              "      <td>216</td>\n",
              "      <td>233</td>\n",
              "      <td>233</td>\n",
              "      <td>159</td>\n",
              "      <td>104</td>\n",
              "      <td>52</td>\n",
              "      <td>0</td>\n",
              "      <td>0</td>\n",
              "      <td>0</td>\n",
              "      <td>38</td>\n",
              "      <td>254</td>\n",
              "      <td>73</td>\n",
              "      <td>0</td>\n",
              "      <td>0</td>\n",
              "      <td>0</td>\n",
              "      <td>0</td>\n",
              "      <td>0</td>\n",
              "      <td>0</td>\n",
              "      <td>0</td>\n",
              "      <td>0</td>\n",
              "      <td>0</td>\n",
              "      <td>0</td>\n",
              "      <td>0</td>\n",
              "      <td>0</td>\n",
              "      <td>0</td>\n",
              "      <td>0</td>\n",
              "      <td>0</td>\n",
              "      <td>0</td>\n",
              "      <td>0</td>\n",
              "      <td>0</td>\n",
              "      <td>0</td>\n",
              "      <td>0</td>\n",
              "      <td>0</td>\n",
              "      <td>0</td>\n",
              "      <td>0</td>\n",
              "      <td>0</td>\n",
              "      <td>0</td>\n",
              "      <td>18</td>\n",
              "      <td>254</td>\n",
              "      <td>73</td>\n",
              "      <td>0</td>\n",
              "      <td>0</td>\n",
              "      <td>0</td>\n",
              "      <td>0</td>\n",
              "      <td>0</td>\n",
              "      <td>0</td>\n",
              "      <td>0</td>\n",
              "      <td>0</td>\n",
              "      <td>0</td>\n",
              "      <td>0</td>\n",
              "      <td>0</td>\n",
              "      <td>0</td>\n",
              "      <td>0</td>\n",
              "      <td>0</td>\n",
              "      <td>0</td>\n",
              "      <td>0</td>\n",
              "      <td>0</td>\n",
              "      <td>0</td>\n",
              "      <td>0</td>\n",
              "      <td>0</td>\n",
              "      <td>0</td>\n",
              "      <td>0</td>\n",
              "      <td>0</td>\n",
              "      <td>0</td>\n",
              "      <td>0</td>\n",
              "      <td>18</td>\n",
              "      <td>254</td>\n",
              "      <td>73</td>\n",
              "      <td>0</td>\n",
              "      <td>0</td>\n",
              "      <td>0</td>\n",
              "      <td>0</td>\n",
              "      <td>0</td>\n",
              "      <td>0</td>\n",
              "      <td>0</td>\n",
              "      <td>0</td>\n",
              "      <td>0</td>\n",
              "      <td>0</td>\n",
              "      <td>0</td>\n",
              "      <td>0</td>\n",
              "      <td>0</td>\n",
              "      <td>0</td>\n",
              "      <td>0</td>\n",
              "      <td>0</td>\n",
              "      <td>0</td>\n",
              "      <td>0</td>\n",
              "      <td>0</td>\n",
              "      <td>0</td>\n",
              "      <td>0</td>\n",
              "      <td>0</td>\n",
              "      <td>0</td>\n",
              "      <td>0</td>\n",
              "      <td>0</td>\n",
              "      <td>5</td>\n",
              "      <td>206</td>\n",
              "      <td>106</td>\n",
              "      <td>0</td>\n",
              "      <td>0</td>\n",
              "      <td>0</td>\n",
              "      <td>0</td>\n",
              "      <td>0</td>\n",
              "      <td>0</td>\n",
              "      <td>0</td>\n",
              "      <td>0</td>\n",
              "      <td>0</td>\n",
              "      <td>0</td>\n",
              "      <td>0</td>\n",
              "      <td>0</td>\n",
              "      <td>0</td>\n",
              "      <td>0</td>\n",
              "      <td>0</td>\n",
              "      <td>0</td>\n",
              "      <td>0</td>\n",
              "      <td>0</td>\n",
              "      <td>0</td>\n",
              "      <td>0</td>\n",
              "      <td>0</td>\n",
              "      <td>0</td>\n",
              "      <td>0</td>\n",
              "      <td>0</td>\n",
              "      <td>0</td>\n",
              "      <td>0</td>\n",
              "      <td>186</td>\n",
              "      <td>159</td>\n",
              "      <td>0</td>\n",
              "      <td>0</td>\n",
              "      <td>0</td>\n",
              "      <td>0</td>\n",
              "      <td>0</td>\n",
              "      <td>0</td>\n",
              "      <td>0</td>\n",
              "      <td>0</td>\n",
              "      <td>0</td>\n",
              "      <td>0</td>\n",
              "      <td>0</td>\n",
              "      <td>0</td>\n",
              "      <td>0</td>\n",
              "      <td>0</td>\n",
              "      <td>0</td>\n",
              "      <td>0</td>\n",
              "      <td>0</td>\n",
              "      <td>0</td>\n",
              "      <td>0</td>\n",
              "      <td>0</td>\n",
              "      <td>0</td>\n",
              "      <td>0</td>\n",
              "      <td>0</td>\n",
              "      <td>0</td>\n",
              "      <td>0</td>\n",
              "      <td>6</td>\n",
              "      <td>209</td>\n",
              "      <td>101</td>\n",
              "      <td>0</td>\n",
              "      <td>0</td>\n",
              "      <td>0</td>\n",
              "      <td>0</td>\n",
              "      <td>0</td>\n",
              "      <td>0</td>\n",
              "      <td>0</td>\n",
              "      <td>0</td>\n",
              "      <td>0</td>\n",
              "      <td>0</td>\n",
              "      <td>0</td>\n",
              "      <td>0</td>\n",
              "      <td>0</td>\n",
              "      <td>0</td>\n",
              "      <td>0</td>\n",
              "      <td>0</td>\n",
              "      <td>0</td>\n",
              "      <td>0</td>\n",
              "      <td>0</td>\n",
              "      <td>0</td>\n",
              "      <td>0</td>\n",
              "      <td>0</td>\n",
              "      <td>0</td>\n",
              "      <td>0</td>\n",
              "      <td>0</td>\n",
              "      <td>0</td>\n",
              "      <td>0</td>\n",
              "      <td>0</td>\n",
              "      <td>0</td>\n",
              "      <td>0</td>\n",
              "      <td>0</td>\n",
              "      <td>0</td>\n",
              "      <td>0</td>\n",
              "      <td>0</td>\n",
              "      <td>0</td>\n",
              "      <td>0</td>\n",
              "      <td>0</td>\n",
              "      <td>0</td>\n",
              "      <td>0</td>\n",
              "      <td>0</td>\n",
              "      <td>0</td>\n",
              "      <td>0</td>\n",
              "      <td>0</td>\n",
              "      <td>0</td>\n",
              "      <td>0</td>\n",
              "      <td>0</td>\n",
              "      <td>0</td>\n",
              "      <td>0</td>\n",
              "      <td>0</td>\n",
              "      <td>0</td>\n",
              "      <td>0</td>\n",
              "      <td>0</td>\n",
              "      <td>0</td>\n",
              "      <td>0</td>\n",
              "      <td>0</td>\n",
              "      <td>0</td>\n",
              "      <td>0</td>\n",
              "      <td>0</td>\n",
              "      <td>0</td>\n",
              "      <td>0</td>\n",
              "      <td>0</td>\n",
              "      <td>0</td>\n",
              "      <td>0</td>\n",
              "      <td>0</td>\n",
              "      <td>0</td>\n",
              "      <td>0</td>\n",
              "      <td>0</td>\n",
              "      <td>0</td>\n",
              "      <td>0</td>\n",
              "      <td>0</td>\n",
              "      <td>0</td>\n",
              "      <td>0</td>\n",
              "      <td>0</td>\n",
              "      <td>0</td>\n",
              "      <td>0</td>\n",
              "      <td>0</td>\n",
              "      <td>0</td>\n",
              "      <td>0</td>\n",
              "      <td>0</td>\n",
              "      <td>0</td>\n",
              "      <td>0</td>\n",
              "      <td>0</td>\n",
              "      <td>0</td>\n",
              "      <td>0</td>\n",
              "      <td>0</td>\n",
              "      <td>0</td>\n",
              "      <td>0</td>\n",
              "      <td>0</td>\n",
              "      <td>0</td>\n",
              "      <td>0</td>\n",
              "    </tr>\n",
              "    <tr>\n",
              "      <th>4</th>\n",
              "      <td>0</td>\n",
              "      <td>0</td>\n",
              "      <td>0</td>\n",
              "      <td>0</td>\n",
              "      <td>0</td>\n",
              "      <td>0</td>\n",
              "      <td>0</td>\n",
              "      <td>0</td>\n",
              "      <td>0</td>\n",
              "      <td>0</td>\n",
              "      <td>0</td>\n",
              "      <td>0</td>\n",
              "      <td>0</td>\n",
              "      <td>0</td>\n",
              "      <td>0</td>\n",
              "      <td>0</td>\n",
              "      <td>0</td>\n",
              "      <td>0</td>\n",
              "      <td>0</td>\n",
              "      <td>0</td>\n",
              "      <td>0</td>\n",
              "      <td>0</td>\n",
              "      <td>0</td>\n",
              "      <td>0</td>\n",
              "      <td>0</td>\n",
              "      <td>0</td>\n",
              "      <td>0</td>\n",
              "      <td>0</td>\n",
              "      <td>0</td>\n",
              "      <td>0</td>\n",
              "      <td>0</td>\n",
              "      <td>0</td>\n",
              "      <td>0</td>\n",
              "      <td>0</td>\n",
              "      <td>0</td>\n",
              "      <td>0</td>\n",
              "      <td>0</td>\n",
              "      <td>0</td>\n",
              "      <td>0</td>\n",
              "      <td>0</td>\n",
              "      <td>0</td>\n",
              "      <td>0</td>\n",
              "      <td>0</td>\n",
              "      <td>0</td>\n",
              "      <td>0</td>\n",
              "      <td>0</td>\n",
              "      <td>0</td>\n",
              "      <td>0</td>\n",
              "      <td>0</td>\n",
              "      <td>0</td>\n",
              "      <td>0</td>\n",
              "      <td>0</td>\n",
              "      <td>0</td>\n",
              "      <td>0</td>\n",
              "      <td>0</td>\n",
              "      <td>0</td>\n",
              "      <td>0</td>\n",
              "      <td>0</td>\n",
              "      <td>0</td>\n",
              "      <td>0</td>\n",
              "      <td>0</td>\n",
              "      <td>0</td>\n",
              "      <td>0</td>\n",
              "      <td>0</td>\n",
              "      <td>0</td>\n",
              "      <td>0</td>\n",
              "      <td>0</td>\n",
              "      <td>0</td>\n",
              "      <td>0</td>\n",
              "      <td>0</td>\n",
              "      <td>0</td>\n",
              "      <td>0</td>\n",
              "      <td>0</td>\n",
              "      <td>0</td>\n",
              "      <td>0</td>\n",
              "      <td>0</td>\n",
              "      <td>0</td>\n",
              "      <td>0</td>\n",
              "      <td>0</td>\n",
              "      <td>0</td>\n",
              "      <td>0</td>\n",
              "      <td>0</td>\n",
              "      <td>0</td>\n",
              "      <td>0</td>\n",
              "      <td>0</td>\n",
              "      <td>0</td>\n",
              "      <td>0</td>\n",
              "      <td>0</td>\n",
              "      <td>0</td>\n",
              "      <td>0</td>\n",
              "      <td>0</td>\n",
              "      <td>0</td>\n",
              "      <td>0</td>\n",
              "      <td>0</td>\n",
              "      <td>0</td>\n",
              "      <td>0</td>\n",
              "      <td>0</td>\n",
              "      <td>0</td>\n",
              "      <td>0</td>\n",
              "      <td>0</td>\n",
              "      <td>0</td>\n",
              "      <td>0</td>\n",
              "      <td>0</td>\n",
              "      <td>0</td>\n",
              "      <td>0</td>\n",
              "      <td>0</td>\n",
              "      <td>0</td>\n",
              "      <td>0</td>\n",
              "      <td>0</td>\n",
              "      <td>0</td>\n",
              "      <td>0</td>\n",
              "      <td>0</td>\n",
              "      <td>0</td>\n",
              "      <td>0</td>\n",
              "      <td>0</td>\n",
              "      <td>0</td>\n",
              "      <td>0</td>\n",
              "      <td>0</td>\n",
              "      <td>0</td>\n",
              "      <td>0</td>\n",
              "      <td>0</td>\n",
              "      <td>0</td>\n",
              "      <td>1</td>\n",
              "      <td>25</td>\n",
              "      <td>130</td>\n",
              "      <td>155</td>\n",
              "      <td>254</td>\n",
              "      <td>254</td>\n",
              "      <td>254</td>\n",
              "      <td>157</td>\n",
              "      <td>30</td>\n",
              "      <td>2</td>\n",
              "      <td>0</td>\n",
              "      <td>0</td>\n",
              "      <td>0</td>\n",
              "      <td>0</td>\n",
              "      <td>0</td>\n",
              "      <td>0</td>\n",
              "      <td>0</td>\n",
              "      <td>0</td>\n",
              "      <td>0</td>\n",
              "      <td>0</td>\n",
              "      <td>0</td>\n",
              "      <td>0</td>\n",
              "      <td>0</td>\n",
              "      <td>0</td>\n",
              "      <td>0</td>\n",
              "      <td>0</td>\n",
              "      <td>0</td>\n",
              "      <td>8</td>\n",
              "      <td>103</td>\n",
              "      <td>253</td>\n",
              "      <td>253</td>\n",
              "      <td>253</td>\n",
              "      <td>253</td>\n",
              "      <td>253</td>\n",
              "      <td>253</td>\n",
              "      <td>253</td>\n",
              "      <td>253</td>\n",
              "      <td>114</td>\n",
              "      <td>2</td>\n",
              "      <td>0</td>\n",
              "      <td>0</td>\n",
              "      <td>0</td>\n",
              "      <td>0</td>\n",
              "      <td>0</td>\n",
              "      <td>0</td>\n",
              "      <td>0</td>\n",
              "      <td>0</td>\n",
              "      <td>0</td>\n",
              "      <td>0</td>\n",
              "      <td>0</td>\n",
              "      <td>0</td>\n",
              "      <td>0</td>\n",
              "      <td>0</td>\n",
              "      <td>0</td>\n",
              "      <td>11</td>\n",
              "      <td>208</td>\n",
              "      <td>253</td>\n",
              "      <td>253</td>\n",
              "      <td>253</td>\n",
              "      <td>253</td>\n",
              "      <td>253</td>\n",
              "      <td>253</td>\n",
              "      <td>253</td>\n",
              "      <td>253</td>\n",
              "      <td>253</td>\n",
              "      <td>253</td>\n",
              "      <td>107</td>\n",
              "      <td>0</td>\n",
              "      <td>0</td>\n",
              "      <td>0</td>\n",
              "      <td>0</td>\n",
              "      <td>0</td>\n",
              "      <td>0</td>\n",
              "      <td>0</td>\n",
              "      <td>0</td>\n",
              "      <td>0</td>\n",
              "      <td>0</td>\n",
              "      <td>0</td>\n",
              "      <td>0</td>\n",
              "      <td>0</td>\n",
              "      <td>0</td>\n",
              "      <td>0</td>\n",
              "      <td>31</td>\n",
              "      <td>253</td>\n",
              "      <td>253</td>\n",
              "      <td>253</td>\n",
              "      <td>253</td>\n",
              "      <td>253</td>\n",
              "      <td>253</td>\n",
              "      <td>253</td>\n",
              "      <td>253</td>\n",
              "      <td>253</td>\n",
              "      <td>253</td>\n",
              "      <td>253</td>\n",
              "      <td>215</td>\n",
              "      <td>101</td>\n",
              "      <td>3</td>\n",
              "      <td>0</td>\n",
              "      <td>0</td>\n",
              "      <td>0</td>\n",
              "      <td>0</td>\n",
              "      <td>0</td>\n",
              "      <td>0</td>\n",
              "      <td>0</td>\n",
              "      <td>0</td>\n",
              "      <td>0</td>\n",
              "      <td>0</td>\n",
              "      <td>0</td>\n",
              "      <td>0</td>\n",
              "      <td>23</td>\n",
              "      <td>210</td>\n",
              "      <td>253</td>\n",
              "      <td>253</td>\n",
              "      <td>253</td>\n",
              "      <td>248</td>\n",
              "      <td>161</td>\n",
              "      <td>222</td>\n",
              "      <td>222</td>\n",
              "      <td>246</td>\n",
              "      <td>253</td>\n",
              "      <td>253</td>\n",
              "      <td>253</td>\n",
              "      <td>253</td>\n",
              "      <td>253</td>\n",
              "      <td>39</td>\n",
              "      <td>0</td>\n",
              "      <td>0</td>\n",
              "      <td>0</td>\n",
              "      <td>...</td>\n",
              "      <td>0</td>\n",
              "      <td>0</td>\n",
              "      <td>0</td>\n",
              "      <td>206</td>\n",
              "      <td>253</td>\n",
              "      <td>253</td>\n",
              "      <td>253</td>\n",
              "      <td>253</td>\n",
              "      <td>140</td>\n",
              "      <td>0</td>\n",
              "      <td>0</td>\n",
              "      <td>0</td>\n",
              "      <td>0</td>\n",
              "      <td>0</td>\n",
              "      <td>30</td>\n",
              "      <td>139</td>\n",
              "      <td>234</td>\n",
              "      <td>253</td>\n",
              "      <td>253</td>\n",
              "      <td>253</td>\n",
              "      <td>154</td>\n",
              "      <td>2</td>\n",
              "      <td>0</td>\n",
              "      <td>0</td>\n",
              "      <td>0</td>\n",
              "      <td>0</td>\n",
              "      <td>0</td>\n",
              "      <td>0</td>\n",
              "      <td>0</td>\n",
              "      <td>0</td>\n",
              "      <td>0</td>\n",
              "      <td>16</td>\n",
              "      <td>205</td>\n",
              "      <td>253</td>\n",
              "      <td>253</td>\n",
              "      <td>253</td>\n",
              "      <td>250</td>\n",
              "      <td>208</td>\n",
              "      <td>106</td>\n",
              "      <td>106</td>\n",
              "      <td>106</td>\n",
              "      <td>200</td>\n",
              "      <td>237</td>\n",
              "      <td>253</td>\n",
              "      <td>253</td>\n",
              "      <td>253</td>\n",
              "      <td>253</td>\n",
              "      <td>209</td>\n",
              "      <td>22</td>\n",
              "      <td>0</td>\n",
              "      <td>0</td>\n",
              "      <td>0</td>\n",
              "      <td>0</td>\n",
              "      <td>0</td>\n",
              "      <td>0</td>\n",
              "      <td>0</td>\n",
              "      <td>0</td>\n",
              "      <td>0</td>\n",
              "      <td>0</td>\n",
              "      <td>0</td>\n",
              "      <td>82</td>\n",
              "      <td>253</td>\n",
              "      <td>253</td>\n",
              "      <td>253</td>\n",
              "      <td>253</td>\n",
              "      <td>253</td>\n",
              "      <td>253</td>\n",
              "      <td>253</td>\n",
              "      <td>253</td>\n",
              "      <td>253</td>\n",
              "      <td>253</td>\n",
              "      <td>253</td>\n",
              "      <td>253</td>\n",
              "      <td>253</td>\n",
              "      <td>209</td>\n",
              "      <td>22</td>\n",
              "      <td>0</td>\n",
              "      <td>0</td>\n",
              "      <td>0</td>\n",
              "      <td>0</td>\n",
              "      <td>0</td>\n",
              "      <td>0</td>\n",
              "      <td>0</td>\n",
              "      <td>0</td>\n",
              "      <td>0</td>\n",
              "      <td>0</td>\n",
              "      <td>0</td>\n",
              "      <td>0</td>\n",
              "      <td>1</td>\n",
              "      <td>91</td>\n",
              "      <td>253</td>\n",
              "      <td>253</td>\n",
              "      <td>253</td>\n",
              "      <td>253</td>\n",
              "      <td>253</td>\n",
              "      <td>253</td>\n",
              "      <td>253</td>\n",
              "      <td>253</td>\n",
              "      <td>253</td>\n",
              "      <td>253</td>\n",
              "      <td>213</td>\n",
              "      <td>90</td>\n",
              "      <td>7</td>\n",
              "      <td>0</td>\n",
              "      <td>0</td>\n",
              "      <td>0</td>\n",
              "      <td>0</td>\n",
              "      <td>0</td>\n",
              "      <td>0</td>\n",
              "      <td>0</td>\n",
              "      <td>0</td>\n",
              "      <td>0</td>\n",
              "      <td>0</td>\n",
              "      <td>0</td>\n",
              "      <td>0</td>\n",
              "      <td>0</td>\n",
              "      <td>0</td>\n",
              "      <td>1</td>\n",
              "      <td>18</td>\n",
              "      <td>129</td>\n",
              "      <td>208</td>\n",
              "      <td>253</td>\n",
              "      <td>253</td>\n",
              "      <td>253</td>\n",
              "      <td>253</td>\n",
              "      <td>159</td>\n",
              "      <td>129</td>\n",
              "      <td>90</td>\n",
              "      <td>4</td>\n",
              "      <td>0</td>\n",
              "      <td>0</td>\n",
              "      <td>0</td>\n",
              "      <td>0</td>\n",
              "      <td>0</td>\n",
              "      <td>0</td>\n",
              "      <td>0</td>\n",
              "      <td>0</td>\n",
              "      <td>0</td>\n",
              "      <td>0</td>\n",
              "      <td>0</td>\n",
              "      <td>0</td>\n",
              "      <td>0</td>\n",
              "      <td>0</td>\n",
              "      <td>0</td>\n",
              "      <td>0</td>\n",
              "      <td>0</td>\n",
              "      <td>0</td>\n",
              "      <td>0</td>\n",
              "      <td>0</td>\n",
              "      <td>0</td>\n",
              "      <td>0</td>\n",
              "      <td>0</td>\n",
              "      <td>0</td>\n",
              "      <td>0</td>\n",
              "      <td>0</td>\n",
              "      <td>0</td>\n",
              "      <td>0</td>\n",
              "      <td>0</td>\n",
              "      <td>0</td>\n",
              "      <td>0</td>\n",
              "      <td>0</td>\n",
              "      <td>0</td>\n",
              "      <td>0</td>\n",
              "      <td>0</td>\n",
              "      <td>0</td>\n",
              "      <td>0</td>\n",
              "      <td>0</td>\n",
              "      <td>0</td>\n",
              "      <td>0</td>\n",
              "      <td>0</td>\n",
              "      <td>0</td>\n",
              "      <td>0</td>\n",
              "      <td>0</td>\n",
              "      <td>0</td>\n",
              "      <td>0</td>\n",
              "      <td>0</td>\n",
              "      <td>0</td>\n",
              "      <td>0</td>\n",
              "      <td>0</td>\n",
              "      <td>0</td>\n",
              "      <td>0</td>\n",
              "      <td>0</td>\n",
              "      <td>0</td>\n",
              "      <td>0</td>\n",
              "      <td>0</td>\n",
              "      <td>0</td>\n",
              "      <td>0</td>\n",
              "      <td>0</td>\n",
              "      <td>0</td>\n",
              "      <td>0</td>\n",
              "      <td>0</td>\n",
              "      <td>0</td>\n",
              "      <td>0</td>\n",
              "      <td>0</td>\n",
              "      <td>0</td>\n",
              "      <td>0</td>\n",
              "      <td>0</td>\n",
              "      <td>0</td>\n",
              "      <td>0</td>\n",
              "      <td>0</td>\n",
              "      <td>0</td>\n",
              "      <td>0</td>\n",
              "      <td>0</td>\n",
              "      <td>0</td>\n",
              "      <td>0</td>\n",
              "      <td>0</td>\n",
              "      <td>0</td>\n",
              "      <td>0</td>\n",
              "      <td>0</td>\n",
              "      <td>0</td>\n",
              "      <td>0</td>\n",
              "      <td>0</td>\n",
              "      <td>0</td>\n",
              "      <td>0</td>\n",
              "      <td>0</td>\n",
              "      <td>0</td>\n",
              "      <td>0</td>\n",
              "      <td>0</td>\n",
              "      <td>0</td>\n",
              "      <td>0</td>\n",
              "      <td>0</td>\n",
              "      <td>0</td>\n",
              "      <td>0</td>\n",
              "      <td>0</td>\n",
              "      <td>0</td>\n",
              "      <td>0</td>\n",
              "      <td>0</td>\n",
              "      <td>0</td>\n",
              "      <td>0</td>\n",
              "      <td>0</td>\n",
              "      <td>0</td>\n",
              "      <td>0</td>\n",
              "      <td>0</td>\n",
              "      <td>0</td>\n",
              "      <td>0</td>\n",
              "      <td>0</td>\n",
              "      <td>0</td>\n",
              "      <td>0</td>\n",
              "      <td>0</td>\n",
              "      <td>0</td>\n",
              "      <td>0</td>\n",
              "      <td>0</td>\n",
              "      <td>0</td>\n",
              "      <td>0</td>\n",
              "      <td>0</td>\n",
              "      <td>0</td>\n",
              "      <td>0</td>\n",
              "      <td>0</td>\n",
              "      <td>0</td>\n",
              "      <td>0</td>\n",
              "    </tr>\n",
              "  </tbody>\n",
              "</table>\n",
              "<p>5 rows × 785 columns</p>\n",
              "</div>"
            ],
            "text/plain": [
              "   label  pixel0  pixel1  pixel2  pixel3  pixel4  pixel5  pixel6  pixel7  pixel8  pixel9  pixel10  pixel11  pixel12  pixel13  pixel14  pixel15  pixel16  pixel17  pixel18  pixel19  pixel20  pixel21  pixel22  pixel23  pixel24  pixel25  pixel26  pixel27  pixel28  pixel29  pixel30  pixel31  pixel32  pixel33  pixel34  pixel35  pixel36  pixel37  pixel38  pixel39  pixel40  pixel41  pixel42  pixel43  pixel44  pixel45  pixel46  pixel47  pixel48  pixel49  pixel50  pixel51  pixel52  pixel53  pixel54  pixel55  pixel56  pixel57  pixel58  pixel59  pixel60  pixel61  pixel62  pixel63  pixel64  pixel65  pixel66  pixel67  pixel68  pixel69  pixel70  pixel71  pixel72  pixel73  pixel74  pixel75  pixel76  pixel77  pixel78  pixel79  pixel80  pixel81  pixel82  pixel83  pixel84  pixel85  pixel86  pixel87  pixel88  pixel89  pixel90  pixel91  pixel92  pixel93  pixel94  pixel95  pixel96  pixel97  pixel98  pixel99  pixel100  pixel101  pixel102  pixel103  pixel104  pixel105  pixel106  pixel107  pixel108  \\\n",
              "0      1       0       0       0       0       0       0       0       0       0       0        0        0        0        0        0        0        0        0        0        0        0        0        0        0        0        0        0        0        0        0        0        0        0        0        0        0        0        0        0        0        0        0        0        0        0        0        0        0        0        0        0        0        0        0        0        0        0        0        0        0        0        0        0        0        0        0        0        0        0        0        0        0        0        0        0        0        0        0        0        0        0        0        0        0        0        0        0        0        0        0        0        0        0        0        0        0        0        0        0        0         0         0         0         0         0         0         0         0         0   \n",
              "1      0       0       0       0       0       0       0       0       0       0       0        0        0        0        0        0        0        0        0        0        0        0        0        0        0        0        0        0        0        0        0        0        0        0        0        0        0        0        0        0        0        0        0        0        0        0        0        0        0        0        0        0        0        0        0        0        0        0        0        0        0        0        0        0        0        0        0        0        0        0        0        0        0        0        0        0        0        0        0        0        0        0        0        0        0        0        0        0        0        0        0        0        0        0        0        0        0        0        0        0        0         0         0         0         0         0         0         0         0         0   \n",
              "2      1       0       0       0       0       0       0       0       0       0       0        0        0        0        0        0        0        0        0        0        0        0        0        0        0        0        0        0        0        0        0        0        0        0        0        0        0        0        0        0        0        0        0        0        0        0        0        0        0        0        0        0        0        0        0        0        0        0        0        0        0        0        0        0        0        0        0        0        0        0        0        0        0        0        0        0        0        0        0        0        0        0        0        0        0        0        0        0        0        0        0        0        0        0        0        0        0        0        0        0        0         0         0         0         0         0         0         0         0         0   \n",
              "3      4       0       0       0       0       0       0       0       0       0       0        0        0        0        0        0        0        0        0        0        0        0        0        0        0        0        0        0        0        0        0        0        0        0        0        0        0        0        0        0        0        0        0        0        0        0        0        0        0        0        0        0        0        0        0        0        0        0        0        0        0        0        0        0        0        0        0        0        0        0        0        0        0        0        0        0        0        0        0        0        0        0        0        0        0        0        0        0        0        0        0        0        0        0        0        0        0        0        0        0        0         0         0         0         0         0         0         0         0         0   \n",
              "4      0       0       0       0       0       0       0       0       0       0       0        0        0        0        0        0        0        0        0        0        0        0        0        0        0        0        0        0        0        0        0        0        0        0        0        0        0        0        0        0        0        0        0        0        0        0        0        0        0        0        0        0        0        0        0        0        0        0        0        0        0        0        0        0        0        0        0        0        0        0        0        0        0        0        0        0        0        0        0        0        0        0        0        0        0        0        0        0        0        0        0        0        0        0        0        0        0        0        0        0        0         0         0         0         0         0         0         0         0         0   \n",
              "\n",
              "   pixel109  pixel110  pixel111  pixel112  pixel113  pixel114  pixel115  pixel116  pixel117  pixel118  pixel119  pixel120  pixel121  pixel122  pixel123  pixel124  pixel125  pixel126  pixel127  pixel128  pixel129  pixel130  pixel131  pixel132  pixel133  pixel134  pixel135  pixel136  pixel137  pixel138  pixel139  pixel140  pixel141  pixel142  pixel143  pixel144  pixel145  pixel146  pixel147  pixel148  pixel149  pixel150  pixel151  pixel152  pixel153  pixel154  pixel155  pixel156  pixel157  pixel158  pixel159  pixel160  pixel161  pixel162  pixel163  pixel164  pixel165  pixel166  pixel167  pixel168  pixel169  pixel170  pixel171  pixel172  pixel173  pixel174  pixel175  pixel176  pixel177  pixel178  pixel179  pixel180  pixel181  pixel182  pixel183  pixel184  pixel185  pixel186  pixel187  pixel188  pixel189  pixel190  pixel191  pixel192  pixel193  pixel194  pixel195  pixel196  pixel197  pixel198  pixel199  pixel200  pixel201  pixel202  pixel203  pixel204  pixel205  pixel206  pixel207  \\\n",
              "0         0         0         0         0         0         0         0         0         0         0         0         0         0         0         0         0         0         0         0         0         0         0         0       188       255        94         0         0         0         0         0         0         0         0         0         0         0         0         0         0         0         0         0         0         0         0         0         0         0         0       191       250       253        93         0         0         0         0         0         0         0         0         0         0         0         0         0         0         0         0         0         0         0         0         0         0         0       123       248       253       167        10         0         0         0         0         0         0         0         0         0         0         0         0         0         0         0         0         0   \n",
              "1         0         0         0         0         0         0         0         0         0         0         0         0         0        18        30       137       137       192        86        72         1         0         0         0         0         0         0         0         0         0         0         0         0         0         0         0         0         0         0        13        86       250       254       254       254       254       217       246       151        32         0         0         0         0         0         0         0         0         0         0         0         0         0         0         0         0        16       179       254       254       254       254       254       254       254       254       254       231        54        15         0         0         0         0         0         0         0         0         0         0         0         0         0         0        72       254       254       254       254   \n",
              "2         0         0         0         0         0         0         0         0         0         0         0         0         0         0         0         3       141       139         3         0         0         0         0         0         0         0         0         0         0         0         0         0         0         0         0         0         0         0         0         0         0         0         0         9       254       254         8         0         0         0         0         0         0         0         0         0         0         0         0         0         0         0         0         0         0         0         0         0         0         0         0         9       254       254         8         0         0         0         0         0         0         0         0         0         0         0         0         0         0         0         0         0         0         0         0         0         0         0         0   \n",
              "3         0         0         0         0         0         0         0         0         0         0         0         0         0         0         0         0         0         0         0         0         0         0         0         0         0         0         0         0         0         0         0         0         0         0         0         0         0       220       179         6         0         0         0         0         0         0         0         0         9        77         0         0         0         0         0         0         0         0         0         0         0         0         0         0         0        28       247        17         0         0         0         0         0         0         0         0        27       202         0         0         0         0         0         0         0         0         0         0         0         0         0         0         0         0       242       155         0         0         0   \n",
              "4         0         0         0         0         0         0         0         0         0         0         0         0         1        25       130       155       254       254       254       157        30         2         0         0         0         0         0         0         0         0         0         0         0         0         0         0         0         0         0         8       103       253       253       253       253       253       253       253       253       114         2         0         0         0         0         0         0         0         0         0         0         0         0         0         0         0        11       208       253       253       253       253       253       253       253       253       253       253       107         0         0         0         0         0         0         0         0         0         0         0         0         0         0         0        31       253       253       253       253   \n",
              "\n",
              "   pixel208  pixel209  pixel210  pixel211  pixel212  pixel213  pixel214  pixel215  pixel216  pixel217  pixel218  pixel219  pixel220  pixel221  pixel222  pixel223  pixel224  pixel225  pixel226  pixel227  pixel228  pixel229  pixel230  pixel231  pixel232  pixel233  pixel234  pixel235  pixel236  pixel237  pixel238  pixel239  pixel240  pixel241  pixel242  pixel243  pixel244  pixel245  pixel246  pixel247  pixel248  ...  pixel534  pixel535  pixel536  pixel537  pixel538  pixel539  pixel540  pixel541  pixel542  pixel543  pixel544  pixel545  pixel546  pixel547  pixel548  pixel549  pixel550  pixel551  pixel552  pixel553  pixel554  pixel555  pixel556  pixel557  pixel558  pixel559  pixel560  pixel561  pixel562  pixel563  pixel564  pixel565  pixel566  pixel567  pixel568  pixel569  pixel570  pixel571  pixel572  pixel573  pixel574  pixel575  pixel576  pixel577  pixel578  pixel579  pixel580  pixel581  pixel582  pixel583  pixel584  pixel585  pixel586  pixel587  pixel588  pixel589  pixel590  pixel591  \\\n",
              "0         0         0         0         0         0        80       247       253       208        13         0         0         0         0         0         0         0         0         0         0         0         0         0         0         0         0         0         0         0         0         0         0        29       207       253       235        77         0         0         0         0  ...         0         0         0         0         0         0        89       240       253       195        25         0         0         0         0         0         0         0         0         0         0         0         0         0         0         0         0         0         0         0         0         0         0        15       220       253       253        80         0         0         0         0         0         0         0         0         0         0         0         0         0         0         0         0         0         0         0         0   \n",
              "1       254       254       254       254       254       254       254       254       104         0         0         0         0         0         0         0         0         0         0         0         0         0        61       191       254       254       254       254       254       109        83       199       254       254       254       254       243        85         0         0         0  ...         0         0         0         0        60       212       254       254       254       194        48        48        34        41        48       209       254       254       254       171         0         0         0         0         0         0         0         0         0         0         0         0         0        86       243       254       254       254       254       254       233       243       254       254       254       254       254        86         0         0         0         0         0         0         0         0         0         0   \n",
              "2         9       254       254       106         0         0         0         0         0         0         0         0         0         0         0         0         0         0         0         0         0         0         0         0         0         0         0         0         9       254       254       184         0         0         0         0         0         0         0         0         0  ...         0         0         0         0         0         0         0         0         0         0       156       254       254       184         0         0         0         0         0         0         0         0         0         0         0         0         0         0         0         0         0         0         0         0         0         0         0         0       185       255       255       184         0         0         0         0         0         0         0         0         0         0         0         0         0         0         0         0   \n",
              "3         0         0         0         0         0        27       254        63         0         0         0         0         0         0         0         0         0         0         0         0         0         0         0       160       207         6         0         0         0         0         0         0         0        27       254        65         0         0         0         0         0  ...         0         0         0         0         0         0         0        15       216       233       233       159       104        52         0         0         0        38       254        73         0         0         0         0         0         0         0         0         0         0         0         0         0         0         0         0         0         0         0         0         0         0         0         0         0        18       254        73         0         0         0         0         0         0         0         0         0         0   \n",
              "4       253       253       253       253       253       253       253       215       101         3         0         0         0         0         0         0         0         0         0         0         0         0        23       210       253       253       253       248       161       222       222       246       253       253       253       253       253        39         0         0         0  ...         0         0         0       206       253       253       253       253       140         0         0         0         0         0        30       139       234       253       253       253       154         2         0         0         0         0         0         0         0         0         0        16       205       253       253       253       250       208       106       106       106       200       237       253       253       253       253       209        22         0         0         0         0         0         0         0         0         0   \n",
              "\n",
              "   pixel592  pixel593  pixel594  pixel595  pixel596  pixel597  pixel598  pixel599  pixel600  pixel601  pixel602  pixel603  pixel604  pixel605  pixel606  pixel607  pixel608  pixel609  pixel610  pixel611  pixel612  pixel613  pixel614  pixel615  pixel616  pixel617  pixel618  pixel619  pixel620  pixel621  pixel622  pixel623  pixel624  pixel625  pixel626  pixel627  pixel628  pixel629  pixel630  pixel631  pixel632  pixel633  pixel634  pixel635  pixel636  pixel637  pixel638  pixel639  pixel640  pixel641  pixel642  pixel643  pixel644  pixel645  pixel646  pixel647  pixel648  pixel649  pixel650  pixel651  pixel652  pixel653  pixel654  pixel655  pixel656  pixel657  pixel658  pixel659  pixel660  pixel661  pixel662  pixel663  pixel664  pixel665  pixel666  pixel667  pixel668  pixel669  pixel670  pixel671  pixel672  pixel673  pixel674  pixel675  pixel676  pixel677  pixel678  pixel679  pixel680  pixel681  pixel682  pixel683  pixel684  pixel685  pixel686  pixel687  pixel688  pixel689  pixel690  \\\n",
              "0         0         0         0        94       253       253       253        94         0         0         0         0         0         0         0         0         0         0         0         0         0         0         0         0         0         0         0         0         0         0         0        89       251       253       250       131         0         0         0         0         0         0         0         0         0         0         0         0         0         0         0         0         0         0         0         0         0         0         0         0       214       218        95         0         0         0         0         0         0         0         0         0         0         0         0         0         0         0         0         0         0         0         0         0         0         0         0         0         0         0         0         0         0         0         0         0         0         0         0   \n",
              "1         0         0         0         0       114       254       254       254       254       254       254       254       254       254       254       239        86        11         0         0         0         0         0         0         0         0         0         0         0         0         0         0        13       182       254       254       254       254       254       254       254       254       243        70         0         0         0         0         0         0         0         0         0         0         0         0         0         0         0         0         0         8        76       146       254       255       254       255       146        19        15         0         0         0         0         0         0         0         0         0         0         0         0         0         0         0         0         0         0         0         0         0         0         0         0         0         0         0         0   \n",
              "2         0         0         0         0         0         0         0         0       185       254       254       184         0         0         0         0         0         0         0         0         0         0         0         0         0         0         0         0         0         0         0         0         0         0         0         0       185       254       254       184         0         0         0         0         0         0         0         0         0         0         0         0         0         0         0         0         0         0         0         0         0         0         0         0        63       254       254        62         0         0         0         0         0         0         0         0         0         0         0         0         0         0         0         0         0         0         0         0         0         0         0         0         0         0         0         0         0         0         0   \n",
              "3         0         0         0         0         0         0         0         0         0         0         0         0         0         0         0        18       254        73         0         0         0         0         0         0         0         0         0         0         0         0         0         0         0         0         0         0         0         0         0         0         0         0         0         5       206       106         0         0         0         0         0         0         0         0         0         0         0         0         0         0         0         0         0         0         0         0         0         0         0         0         0         0       186       159         0         0         0         0         0         0         0         0         0         0         0         0         0         0         0         0         0         0         0         0         0         0         0         0         0   \n",
              "4         0         0        82       253       253       253       253       253       253       253       253       253       253       253       253       253       209        22         0         0         0         0         0         0         0         0         0         0         0         0         1        91       253       253       253       253       253       253       253       253       253       253       213        90         7         0         0         0         0         0         0         0         0         0         0         0         0         0         0         1        18       129       208       253       253       253       253       159       129        90         4         0         0         0         0         0         0         0         0         0         0         0         0         0         0         0         0         0         0         0         0         0         0         0         0         0         0         0         0   \n",
              "\n",
              "   pixel691  pixel692  pixel693  pixel694  pixel695  pixel696  pixel697  pixel698  pixel699  pixel700  pixel701  pixel702  pixel703  pixel704  pixel705  pixel706  pixel707  pixel708  pixel709  pixel710  pixel711  pixel712  pixel713  pixel714  pixel715  pixel716  pixel717  pixel718  pixel719  pixel720  pixel721  pixel722  pixel723  pixel724  pixel725  pixel726  pixel727  pixel728  pixel729  pixel730  pixel731  pixel732  pixel733  pixel734  pixel735  pixel736  pixel737  pixel738  pixel739  pixel740  pixel741  pixel742  pixel743  pixel744  pixel745  pixel746  pixel747  pixel748  pixel749  pixel750  pixel751  pixel752  pixel753  pixel754  pixel755  pixel756  pixel757  pixel758  pixel759  pixel760  pixel761  pixel762  pixel763  pixel764  pixel765  pixel766  pixel767  pixel768  pixel769  pixel770  pixel771  pixel772  pixel773  pixel774  pixel775  pixel776  pixel777  pixel778  pixel779  pixel780  pixel781  pixel782  pixel783  \n",
              "0         0         0         0         0         0         0         0         0         0         0         0         0         0         0         0         0         0         0         0         0         0         0         0         0         0         0         0         0         0         0         0         0         0         0         0         0         0         0         0         0         0         0         0         0         0         0         0         0         0         0         0         0         0         0         0         0         0         0         0         0         0         0         0         0         0         0         0         0         0         0         0         0         0         0         0         0         0         0         0         0         0         0         0         0         0         0         0         0         0         0         0         0         0  \n",
              "1         0         0         0         0         0         0         0         0         0         0         0         0         0         0         0         0         0         0         0         0         0         0         0         0         0         0         0         0         0         0         0         0         0         0         0         0         0         0         0         0         0         0         0         0         0         0         0         0         0         0         0         0         0         0         0         0         0         0         0         0         0         0         0         0         0         0         0         0         0         0         0         0         0         0         0         0         0         0         0         0         0         0         0         0         0         0         0         0         0         0         0         0         0  \n",
              "2         0         0         0         0         0         0         0         0         0         0         0         0         0         0         0         0         0         0         0         0         0         0         0         0         0         0         0         0         0         0         0         0         0         0         0         0         0         0         0         0         0         0         0         0         0         0         0         0         0         0         0         0         0         0         0         0         0         0         0         0         0         0         0         0         0         0         0         0         0         0         0         0         0         0         0         0         0         0         0         0         0         0         0         0         0         0         0         0         0         0         0         0         0  \n",
              "3         6       209       101         0         0         0         0         0         0         0         0         0         0         0         0         0         0         0         0         0         0         0         0         0         0         0         0         0         0         0         0         0         0         0         0         0         0         0         0         0         0         0         0         0         0         0         0         0         0         0         0         0         0         0         0         0         0         0         0         0         0         0         0         0         0         0         0         0         0         0         0         0         0         0         0         0         0         0         0         0         0         0         0         0         0         0         0         0         0         0         0         0         0  \n",
              "4         0         0         0         0         0         0         0         0         0         0         0         0         0         0         0         0         0         0         0         0         0         0         0         0         0         0         0         0         0         0         0         0         0         0         0         0         0         0         0         0         0         0         0         0         0         0         0         0         0         0         0         0         0         0         0         0         0         0         0         0         0         0         0         0         0         0         0         0         0         0         0         0         0         0         0         0         0         0         0         0         0         0         0         0         0         0         0         0         0         0         0         0         0  \n",
              "\n",
              "[5 rows x 785 columns]"
            ]
          },
          "execution_count": 141,
          "metadata": {},
          "output_type": "execute_result"
        }
      ],
      "source": [
        "train.head()"
      ]
    },
    {
      "cell_type": "markdown",
      "id": "15f49d25",
      "metadata": {
        "id": "15f49d25"
      },
      "source": [
        "## EDA (2.0)"
      ]
    },
    {
      "cell_type": "markdown",
      "id": "63a84ae8",
      "metadata": {
        "id": "63a84ae8"
      },
      "source": [
        "#### 2.1: Seperate the target and independant variables"
      ]
    },
    {
      "cell_type": "code",
      "execution_count": null,
      "id": "71958c94",
      "metadata": {
        "id": "71958c94"
      },
      "outputs": [],
      "source": [
        "df_x=train.iloc[:,1:]\n",
        "df_y=train.iloc[:,0]"
      ]
    },
    {
      "cell_type": "code",
      "execution_count": null,
      "id": "bc5c9467",
      "metadata": {
        "id": "bc5c9467"
      },
      "outputs": [],
      "source": [
        "def print_image(row, df):\n",
        "    temp=df.iloc[row,:].values\n",
        "    temp = temp.reshape(28,28).astype('uint8')\n",
        "    plt.imshow(temp)"
      ]
    },
    {
      "cell_type": "code",
      "execution_count": null,
      "id": "e748158e",
      "metadata": {
        "id": "e748158e",
        "outputId": "b2b65e49-2ada-49ea-e480-1a93502c833a"
      },
      "outputs": [
        {
          "data": {
            "text/plain": [
              "1"
            ]
          },
          "execution_count": 144,
          "metadata": {},
          "output_type": "execute_result"
        },
        {
          "data": {
            "image/png": "[encoded data removed]",
            "text/plain": [
              "<Figure size 432x288 with 1 Axes>"
            ]
          },
          "metadata": {
            "needs_background": "light"
          },
          "output_type": "display_data"
        }
      ],
      "source": [
        "print_image(0, df_x)\n",
        "df_y[0]"
      ]
    },
    {
      "cell_type": "markdown",
      "id": "db308c09",
      "metadata": {
        "id": "db308c09"
      },
      "source": [
        "#### 2.2: Histogram of Values"
      ]
    },
    {
      "cell_type": "code",
      "execution_count": null,
      "id": "b098fc72",
      "metadata": {
        "id": "b098fc72",
        "outputId": "f6cdbff6-a04b-40b0-9a87-dec8b4807281"
      },
      "outputs": [
        {
          "data": {
            "image/png": "[encoded data removed]",
            "text/plain": [
              "<Figure size 432x288 with 1 Axes>"
            ]
          },
          "metadata": {
            "needs_background": "light"
          },
          "output_type": "display_data"
        }
      ],
      "source": [
        "# Print data histogram\n",
        "sns.countplot(df_y);"
      ]
    },
    {
      "cell_type": "markdown",
      "id": "87363d0b",
      "metadata": {
        "id": "87363d0b"
      },
      "source": [
        "#### 2.3: Count of Values"
      ]
    },
    {
      "cell_type": "code",
      "execution_count": null,
      "id": "2b9a43b1",
      "metadata": {
        "id": "2b9a43b1",
        "outputId": "688ac1f2-2861-43ed-9f0e-92c37c3a5feb"
      },
      "outputs": [
        {
          "data": {
            "text/plain": [
              "0    4132\n",
              "1    4684\n",
              "2    4177\n",
              "3    4351\n",
              "4    4072\n",
              "5    3795\n",
              "6    4137\n",
              "7    4401\n",
              "8    4063\n",
              "9    4188\n",
              "Name: label, dtype: int64"
            ]
          },
          "execution_count": 146,
          "metadata": {},
          "output_type": "execute_result"
        }
      ],
      "source": [
        "df_y.value_counts().sort_index()"
      ]
    },
    {
      "cell_type": "markdown",
      "id": "ed3c5416",
      "metadata": {
        "id": "ed3c5416"
      },
      "source": [
        "## Modeling (3.0)"
      ]
    },
    {
      "cell_type": "markdown",
      "id": "d440c67d",
      "metadata": {
        "id": "d440c67d"
      },
      "source": [
        "#### 3.1: Splitting the Dataset"
      ]
    },
    {
      "cell_type": "code",
      "execution_count": null,
      "id": "821c5b44",
      "metadata": {
        "id": "821c5b44",
        "outputId": "47f35a12-6491-4fee-8f9c-0fff2e239fe4"
      },
      "outputs": [
        {
          "name": "stdout",
          "output_type": "stream",
          "text": [
            "(33600, 784)\n",
            "(8400, 784)\n"
          ]
        }
      ],
      "source": [
        "X_train, X_test, y_train, y_test = train_test_split(df_x, df_y, test_size=0.2, random_state=0)\n",
        "print(X_train.shape)\n",
        "print(X_test.shape)"
      ]
    },
    {
      "cell_type": "markdown",
      "id": "d685579b",
      "metadata": {
        "id": "d685579b"
      },
      "source": [
        "#### 3.2: Fitting Random Forest Classifier"
      ]
    },
    {
      "cell_type": "code",
      "execution_count": null,
      "id": "b656bd9a",
      "metadata": {
        "id": "b656bd9a",
        "outputId": "27267e99-30fb-4b4d-812b-2e8b05c3a3a5"
      },
      "outputs": [
        {
          "data": {
            "text/plain": [
              "RandomForestClassifier()"
            ]
          },
          "execution_count": 148,
          "metadata": {},
          "output_type": "execute_result"
        }
      ],
      "source": [
        "rf=RandomForestClassifier(n_estimators=100)\n",
        "rf.fit(X_train,y_train)"
      ]
    },
    {
      "cell_type": "code",
      "execution_count": null,
      "id": "6786e21b",
      "metadata": {
        "id": "6786e21b",
        "outputId": "196aa784-306c-4eda-c29f-589c521133ce"
      },
      "outputs": [
        {
          "name": "stdout",
          "output_type": "stream",
          "text": [
            "Classification Report\n",
            "              precision    recall  f1-score   support\n",
            "\n",
            "           0       0.97      0.98      0.97       813\n",
            "           1       0.99      0.99      0.99       961\n",
            "           2       0.96      0.97      0.96       860\n",
            "           3       0.96      0.94      0.95       863\n",
            "           4       0.96      0.96      0.96       827\n",
            "           5       0.96      0.97      0.97       756\n",
            "           6       0.97      0.98      0.98       841\n",
            "           7       0.97      0.96      0.96       899\n",
            "           8       0.95      0.95      0.95       768\n",
            "           9       0.95      0.94      0.95       812\n",
            "\n",
            "    accuracy                           0.96      8400\n",
            "   macro avg       0.96      0.96      0.96      8400\n",
            "weighted avg       0.96      0.96      0.96      8400\n",
            "\n",
            "Confusion Report\n",
            "[[795   0   0   0   2   2   6   0   8   0]\n",
            " [  0 949   5   1   1   1   2   0   2   0]\n",
            " [  3   1 835   5   2   0   4   4   6   0]\n",
            " [  2   0  16 813   0   9   2   8   9   4]\n",
            " [  1   2   0   0 796   0   4   1   5  18]\n",
            " [  2   1   0  10   0 735   4   2   2   0]\n",
            " [  4   0   0   0   2   6 828   0   1   0]\n",
            " [  2   3  14   2   7   1   0 859   2   9]\n",
            " [  4   3   1   9   3   9   6   0 727   6]\n",
            " [  7   2   1   9  13   2   1   9   7 761]]\n"
          ]
        }
      ],
      "source": [
        "pred=rf.predict(X_test)\n",
        "print (\"Classification Report\")\n",
        "print(classification_report(y_test, pred))\n",
        "print (\"Confusion Report\")\n",
        "print(confusion_matrix(y_test, pred))"
      ]
    },
    {
      "cell_type": "markdown",
      "id": "881b6283",
      "metadata": {
        "id": "881b6283"
      },
      "source": [
        "#### 3.2.1: Defining Compute Timing"
      ]
    },
    {
      "cell_type": "code",
      "execution_count": null,
      "id": "b8dd2c50",
      "metadata": {
        "id": "b8dd2c50",
        "outputId": "307acdc0-c3b5-496d-ca66-99d0404a1d91"
      },
      "outputs": [
        {
          "name": "stdout",
          "output_type": "stream",
          "text": [
            "Time taken to run classifier : 44.238923 secs\n",
            "CPU times: user 31 s, sys: 1.01 s, total: 32 s\n",
            "Wall time: 44.2 s\n"
          ]
        }
      ],
      "source": [
        "%%time\n",
        "from datetime import datetime\n",
        "start=datetime.now()\n",
        "rf=RandomForestClassifier(n_estimators=100)\n",
        "rf.fit(X_train,y_train)\n",
        "end=datetime.now()\n",
        "print(\"Time taken to run classifier : \" + str((end-start).total_seconds()) + \" secs\")"
      ]
    },
    {
      "cell_type": "markdown",
      "id": "e89e238b",
      "metadata": {
        "id": "e89e238b"
      },
      "source": [
        "#### 3.2.2: Crafting first submission"
      ]
    },
    {
      "cell_type": "code",
      "execution_count": null,
      "id": "0088c700",
      "metadata": {
        "id": "0088c700"
      },
      "outputs": [],
      "source": [
        "pred = rf.predict(test)\n",
        "pred = pd.Series(pred,name=\"Label\")\n",
        "submission = pd.concat([pd.Series(range(1,28001),name = \"ImageId\"),pred],axis = 1)\n",
        "submission.to_csv(\"mnist_rf.csv\",index=False)"
      ]
    },
    {
      "cell_type": "code",
      "execution_count": null,
      "id": "0f28764f",
      "metadata": {
        "id": "0f28764f",
        "outputId": "ce353070-788c-4f4a-be9b-609dd7251660"
      },
      "outputs": [
        {
          "data": {
            "text/html": [
              "<div>\n",
              "<style scoped>\n",
              "    .dataframe tbody tr th:only-of-type {\n",
              "        vertical-align: middle;\n",
              "    }\n",
              "\n",
              "    .dataframe tbody tr th {\n",
              "        vertical-align: top;\n",
              "    }\n",
              "\n",
              "    .dataframe thead th {\n",
              "        text-align: right;\n",
              "    }\n",
              "</style>\n",
              "<table border=\"1\" class=\"dataframe\">\n",
              "  <thead>\n",
              "    <tr style=\"text-align: right;\">\n",
              "      <th></th>\n",
              "      <th>ImageId</th>\n",
              "      <th>Label</th>\n",
              "    </tr>\n",
              "  </thead>\n",
              "  <tbody>\n",
              "    <tr>\n",
              "      <th>0</th>\n",
              "      <td>1</td>\n",
              "      <td>2</td>\n",
              "    </tr>\n",
              "    <tr>\n",
              "      <th>1</th>\n",
              "      <td>2</td>\n",
              "      <td>0</td>\n",
              "    </tr>\n",
              "    <tr>\n",
              "      <th>2</th>\n",
              "      <td>3</td>\n",
              "      <td>9</td>\n",
              "    </tr>\n",
              "    <tr>\n",
              "      <th>3</th>\n",
              "      <td>4</td>\n",
              "      <td>9</td>\n",
              "    </tr>\n",
              "    <tr>\n",
              "      <th>4</th>\n",
              "      <td>5</td>\n",
              "      <td>3</td>\n",
              "    </tr>\n",
              "  </tbody>\n",
              "</table>\n",
              "</div>"
            ],
            "text/plain": [
              "   ImageId  Label\n",
              "0        1      2\n",
              "1        2      0\n",
              "2        3      9\n",
              "3        4      9\n",
              "4        5      3"
            ]
          },
          "execution_count": 43,
          "metadata": {},
          "output_type": "execute_result"
        }
      ],
      "source": [
        "submission.head()"
      ]
    },
    {
      "cell_type": "markdown",
      "id": "7dc34543",
      "metadata": {
        "id": "7dc34543"
      },
      "source": [
        "#### 3.2.3: Checking Prediction Visually"
      ]
    },
    {
      "cell_type": "code",
      "execution_count": null,
      "id": "1e176327",
      "metadata": {
        "id": "1e176327",
        "outputId": "59994895-46f2-4f75-b5ef-1a1a25fbca36"
      },
      "outputs": [
        {
          "data": {
            "text/plain": [
              "<Figure size 864x720 with 0 Axes>"
            ]
          },
          "execution_count": 24,
          "metadata": {},
          "output_type": "execute_result"
        },
        {
          "data": {
            "text/plain": [
              "<AxesSubplot:>"
            ]
          },
          "execution_count": 24,
          "metadata": {},
          "output_type": "execute_result"
        },
        {
          "data": {
            "text/plain": [
              "<AxesSubplot:>"
            ]
          },
          "execution_count": 24,
          "metadata": {},
          "output_type": "execute_result"
        },
        {
          "data": {
            "text/plain": [
              "<AxesSubplot:>"
            ]
          },
          "execution_count": 24,
          "metadata": {},
          "output_type": "execute_result"
        },
        {
          "data": {
            "text/plain": [
              "<AxesSubplot:>"
            ]
          },
          "execution_count": 24,
          "metadata": {},
          "output_type": "execute_result"
        },
        {
          "data": {
            "text/plain": [
              "<AxesSubplot:>"
            ]
          },
          "execution_count": 24,
          "metadata": {},
          "output_type": "execute_result"
        },
        {
          "data": {
            "image/png": "[encoded data removed]",
            "text/plain": [
              "<Figure size 864x720 with 5 Axes>"
            ]
          },
          "metadata": {
            "needs_background": "light"
          },
          "output_type": "display_data"
        }
      ],
      "source": [
        "plt.figure(figsize=(12,10))\n",
        "for i in range(0,5) :\n",
        "    plt.subplot(1, 5, i+1)\n",
        "    print_image(i, test)"
      ]
    },
    {
      "cell_type": "markdown",
      "id": "385a2b1c",
      "metadata": {
        "id": "385a2b1c"
      },
      "source": [
        "#### 3.2.4: Assessing Results"
      ]
    },
    {
      "cell_type": "markdown",
      "id": "887c669d",
      "metadata": {
        "id": "887c669d"
      },
      "source": [
        "#### 3.3: Principal Component Analysis (PCA)"
      ]
    },
    {
      "cell_type": "markdown",
      "id": "ba927393",
      "metadata": {
        "id": "ba927393"
      },
      "source": [
        "#### 3.3.1: Understanding Shape & Size"
      ]
    },
    {
      "cell_type": "code",
      "execution_count": null,
      "id": "0e9f4922",
      "metadata": {
        "id": "0e9f4922",
        "outputId": "ef6cfb6d-d78f-4f83-d2aa-5a4bda393861"
      },
      "outputs": [
        {
          "data": {
            "text/plain": [
              "((42000, 784), (28000, 784))"
            ]
          },
          "execution_count": 25,
          "metadata": {},
          "output_type": "execute_result"
        }
      ],
      "source": [
        "df_x.shape, test.shape"
      ]
    },
    {
      "cell_type": "code",
      "execution_count": null,
      "id": "7a78b01f",
      "metadata": {
        "id": "7a78b01f",
        "outputId": "70001297-3db4-48a4-c9f5-da44966c70f0"
      },
      "outputs": [
        {
          "data": {
            "text/plain": [
              "(70000, 784)"
            ]
          },
          "execution_count": 26,
          "metadata": {},
          "output_type": "execute_result"
        }
      ],
      "source": [
        "combined = pd.concat([df_x, test])\n",
        "combined.shape"
      ]
    },
    {
      "cell_type": "markdown",
      "id": "803a00de",
      "metadata": {
        "id": "803a00de"
      },
      "source": [
        "#### 3.3.2: Plotting Explained Variance vs. Dimensions"
      ]
    },
    {
      "cell_type": "code",
      "execution_count": null,
      "id": "13284c49",
      "metadata": {
        "id": "13284c49",
        "outputId": "633110e4-a51e-4587-cc90-b3714bc50d58"
      },
      "outputs": [
        {
          "data": {
            "text/plain": [
              "PCA()"
            ]
          },
          "execution_count": 27,
          "metadata": {},
          "output_type": "execute_result"
        },
        {
          "name": "stdout",
          "output_type": "stream",
          "text": [
            "154 principal components account for 95 percent of the variability in the MNIST dataset.\n"
          ]
        },
        {
          "data": {
            "text/plain": [
              "[<matplotlib.lines.Line2D at 0x7fe6419bf190>]"
            ]
          },
          "execution_count": 27,
          "metadata": {},
          "output_type": "execute_result"
        },
        {
          "data": {
            "text/plain": [
              "(0.0, 784.0, 0.0, 1.0)"
            ]
          },
          "execution_count": 27,
          "metadata": {},
          "output_type": "execute_result"
        },
        {
          "data": {
            "text/plain": [
              "Text(0.5, 0, 'Dimensions')"
            ]
          },
          "execution_count": 27,
          "metadata": {},
          "output_type": "execute_result"
        },
        {
          "data": {
            "text/plain": [
              "Text(0, 0.5, 'Explained Variance')"
            ]
          },
          "execution_count": 27,
          "metadata": {},
          "output_type": "execute_result"
        },
        {
          "data": {
            "text/plain": [
              "[<matplotlib.lines.Line2D at 0x7fe6419bf2b0>]"
            ]
          },
          "execution_count": 27,
          "metadata": {},
          "output_type": "execute_result"
        },
        {
          "data": {
            "text/plain": [
              "[<matplotlib.lines.Line2D at 0x7fe6419bf640>]"
            ]
          },
          "execution_count": 27,
          "metadata": {},
          "output_type": "execute_result"
        },
        {
          "data": {
            "text/plain": [
              "[<matplotlib.lines.Line2D at 0x7fe6419bfb80>]"
            ]
          },
          "execution_count": 27,
          "metadata": {},
          "output_type": "execute_result"
        },
        {
          "data": {
            "text/plain": [
              "Text(0.5, 1.0, '95% Explained Variance vs. Dimensions for MNIST PCA')"
            ]
          },
          "execution_count": 27,
          "metadata": {},
          "output_type": "execute_result"
        },
        {
          "data": {
            "image/png": "[encoded data removed]",
            "text/plain": [
              "<Figure size 432x288 with 1 Axes>"
            ]
          },
          "metadata": {
            "needs_background": "light"
          },
          "output_type": "display_data"
        }
      ],
      "source": [
        "from sklearn.decomposition import PCA\n",
        "\n",
        "pca = PCA()\n",
        "pca.fit(combined)\n",
        "cumsum = np.cumsum(pca.explained_variance_ratio_)\n",
        "d = np.argmax(cumsum >= 0.95) + 1\n",
        "\n",
        "print(\"{} principal components account for 95 percent of the variability in the MNIST dataset.\".format(round(d)))\n",
        "\n",
        "plt.plot(cumsum, linewidth = 3)\n",
        "plt.axis([0,784,0,1])\n",
        "plt.xlabel(\"Dimensions\")\n",
        "plt.ylabel(\"Explained Variance\")\n",
        "plt.plot([0,784],[0.95,0.95],\"k:\")\n",
        "plt.plot([d,d],[0,0.95], \"k:\")\n",
        "plt.plot(d, 0.95, \"ko\")\n",
        "plt.grid(True)\n",
        "plt.title(\"95% Explained Variance vs. Dimensions for MNIST PCA\")\n",
        "plt.show()"
      ]
    },
    {
      "cell_type": "markdown",
      "id": "ae6b6107",
      "metadata": {
        "id": "ae6b6107"
      },
      "source": [
        "#### 3.3.3: Training with PCA"
      ]
    },
    {
      "cell_type": "code",
      "execution_count": null,
      "id": "95d00234",
      "metadata": {
        "id": "95d00234",
        "outputId": "6c33ccf4-2585-4e15-fe0d-bf6d7c84ba35"
      },
      "outputs": [
        {
          "data": {
            "text/plain": [
              "PCA(n_components=154)"
            ]
          },
          "execution_count": 28,
          "metadata": {},
          "output_type": "execute_result"
        }
      ],
      "source": [
        "pca = PCA(n_components = 154)\n",
        "pca.fit(combined)"
      ]
    },
    {
      "cell_type": "code",
      "execution_count": null,
      "id": "b1f55382",
      "metadata": {
        "id": "b1f55382",
        "outputId": "e6c79064-b984-42a0-ce6f-4c0ca98ef2ac"
      },
      "outputs": [
        {
          "data": {
            "text/plain": [
              "154"
            ]
          },
          "execution_count": 29,
          "metadata": {},
          "output_type": "execute_result"
        }
      ],
      "source": [
        "len(pca.components_)"
      ]
    },
    {
      "cell_type": "code",
      "execution_count": null,
      "id": "7f5b09ac",
      "metadata": {
        "id": "7f5b09ac"
      },
      "outputs": [],
      "source": [
        "X_train_reduced = pca.fit_transform(X_train)\n",
        "X_test_reduced = pca.fit_transform(test)"
      ]
    },
    {
      "cell_type": "code",
      "execution_count": null,
      "id": "4a95d85b",
      "metadata": {
        "id": "4a95d85b",
        "outputId": "1154e2d0-348f-48ae-ca90-a44ccd2c6dd4"
      },
      "outputs": [
        {
          "data": {
            "text/plain": [
              "((33600,), (33600, 154))"
            ]
          },
          "execution_count": 31,
          "metadata": {},
          "output_type": "execute_result"
        }
      ],
      "source": [
        "y_train.shape, X_train_reduced.shape"
      ]
    },
    {
      "cell_type": "code",
      "execution_count": null,
      "id": "896d68c8",
      "metadata": {
        "id": "896d68c8",
        "outputId": "43e20fb3-21e8-49fb-bfab-4e2a0688ec34"
      },
      "outputs": [
        {
          "name": "stdout",
          "output_type": "stream",
          "text": [
            "Time taken to run classifier : 70.247499 secs\n",
            "CPU times: user 1min 3s, sys: 852 ms, total: 1min 4s\n",
            "Wall time: 1min 10s\n"
          ]
        }
      ],
      "source": [
        "%%time\n",
        "from datetime import datetime\n",
        "start=datetime.now()\n",
        "rf=RandomForestClassifier(n_estimators=100)\n",
        "rf.fit(X_train_reduced,y_train)\n",
        "end=datetime.now()\n",
        "print(\"Time taken to run classifier : \" + str((end-start).total_seconds()) + \" secs\")"
      ]
    },
    {
      "cell_type": "code",
      "execution_count": null,
      "id": "62faa806",
      "metadata": {
        "id": "62faa806"
      },
      "outputs": [],
      "source": [
        "pred = rf.predict(X_test_reduced)\n",
        "pred = pd.Series(pred,name=\"Label\")\n",
        "submission = pd.concat([pd.Series(range(1,28001),name = \"ImageId\"),pred],axis = 1)\n",
        "submission.to_csv(\"mnist_pca_rf.csv\",index=False)"
      ]
    },
    {
      "cell_type": "markdown",
      "id": "efce226b",
      "metadata": {
        "id": "efce226b"
      },
      "source": [
        "#### 3.4: Flixing Any Flaws"
      ]
    },
    {
      "cell_type": "markdown",
      "id": "0fa9fa84",
      "metadata": {
        "id": "0fa9fa84"
      },
      "source": [
        "#### 3.4.1: Separate the training set from PCA "
      ]
    },
    {
      "cell_type": "code",
      "execution_count": null,
      "id": "f616425c",
      "metadata": {
        "id": "f616425c",
        "outputId": "51726b23-fdf6-4273-d39a-08e013e16aee"
      },
      "outputs": [
        {
          "data": {
            "text/plain": [
              "PCA(n_components=154)"
            ]
          },
          "execution_count": 33,
          "metadata": {},
          "output_type": "execute_result"
        }
      ],
      "source": [
        "pca = PCA(n_components = 154)\n",
        "pca.fit(X_train)"
      ]
    },
    {
      "cell_type": "code",
      "execution_count": null,
      "id": "2c5309cb",
      "metadata": {
        "id": "2c5309cb"
      },
      "outputs": [],
      "source": [
        "X_train_reduced = pca.fit_transform(X_train)\n",
        "X_test_reduced = pca.fit_transform(test)"
      ]
    },
    {
      "cell_type": "code",
      "execution_count": null,
      "id": "66a1c3ea",
      "metadata": {
        "id": "66a1c3ea"
      },
      "outputs": [],
      "source": [
        "%%time\n",
        "from datetime import datetime\n",
        "start=datetime.now()\n",
        "rf=RandomForestClassifier(n_estimators=100)\n",
        "rf.fit(X_train_reduced,y_train)\n",
        "end=datetime.now()\n",
        "print(\"Time taken to run classifier : \" + str((end-start).total_seconds()) + \" secs\")"
      ]
    },
    {
      "cell_type": "markdown",
      "id": "1a06be2e",
      "metadata": {
        "id": "1a06be2e"
      },
      "source": [
        "#### 3.4.2: Submitting new results to Kaggle"
      ]
    },
    {
      "cell_type": "code",
      "execution_count": null,
      "id": "89ecf826",
      "metadata": {
        "id": "89ecf826"
      },
      "outputs": [],
      "source": [
        "pred = rf.predict(X_test_reduced)\n",
        "pred = pd.Series(pred,name=\"Label\")\n",
        "submission = pd.concat([pd.Series(range(1,28001),name = \"ImageId\"),pred],axis = 1)\n",
        "submission.to_csv(\"mnist_pca_rf_fixed.csv\",index=False)"
      ]
    },
    {
      "cell_type": "markdown",
      "id": "63eaccb8",
      "metadata": {
        "id": "63eaccb8"
      },
      "source": [
        "#### 3.5: K-Means Clustering"
      ]
    },
    {
      "cell_type": "markdown",
      "id": "8aa3f3b0",
      "metadata": {
        "id": "8aa3f3b0"
      },
      "source": [
        "#### 3.5.1: Normalizing Data"
      ]
    },
    {
      "cell_type": "code",
      "execution_count": null,
      "id": "f0abc6bd",
      "metadata": {
        "id": "f0abc6bd"
      },
      "outputs": [],
      "source": [
        "X = X_train.astype(float) / 255."
      ]
    },
    {
      "cell_type": "markdown",
      "id": "5c6c2589",
      "metadata": {
        "id": "5c6c2589"
      },
      "source": [
        "#### 3.5.2: Initializing & Fitting Model"
      ]
    },
    {
      "cell_type": "code",
      "execution_count": null,
      "id": "49f43bdd",
      "metadata": {
        "id": "49f43bdd",
        "outputId": "2b54bb8d-1eb9-4f0f-a25e-56c747edb028"
      },
      "outputs": [
        {
          "name": "stdout",
          "output_type": "stream",
          "text": [
            "10\n"
          ]
        },
        {
          "data": {
            "text/plain": [
              "MiniBatchKMeans(n_clusters=10)"
            ]
          },
          "execution_count": 59,
          "metadata": {},
          "output_type": "execute_result"
        },
        {
          "data": {
            "text/plain": [
              "array([2, 7, 2, ..., 5, 1, 5], dtype=int32)"
            ]
          },
          "execution_count": 59,
          "metadata": {},
          "output_type": "execute_result"
        }
      ],
      "source": [
        "from sklearn.cluster import MiniBatchKMeans\n",
        "\n",
        "n_digits = len(np.unique(y_test))\n",
        "print(n_digits)\n",
        "kmeans = MiniBatchKMeans(n_clusters = n_digits)\n",
        "kmeans.fit(X)\n",
        "kmeans.labels_y = train.loc[:,['label']].values"
      ]
    },
    {
      "cell_type": "code",
      "execution_count": null,
      "id": "45b6a26d",
      "metadata": {
        "id": "45b6a26d"
      },
      "outputs": [],
      "source": [
        "Y = train.loc[:,['label']].values"
      ]
    },
    {
      "cell_type": "code",
      "execution_count": null,
      "id": "3be66c60",
      "metadata": {
        "id": "3be66c60",
        "outputId": "78d62325-292f-448d-ace1-a86119676f3f"
      },
      "outputs": [
        {
          "name": "stdout",
          "output_type": "stream",
          "text": [
            "[1 1 1 1 1 1 1 1 1 1 1 1 1 1 1 1 1 1 1 1]\n",
            "[[1]\n",
            " [0]\n",
            " [1]\n",
            " [4]\n",
            " [0]\n",
            " [0]\n",
            " [7]\n",
            " [3]\n",
            " [5]\n",
            " [3]\n",
            " [8]\n",
            " [9]\n",
            " [1]\n",
            " [3]\n",
            " [3]\n",
            " [1]\n",
            " [2]\n",
            " [0]\n",
            " [7]\n",
            " [5]]\n"
          ]
        }
      ],
      "source": [
        "def infer_cluster_labels(kmeans, actual_labels):\n",
        "    inferred_labels = {}\n",
        "    for i in range(kmeans.n_clusters):\n",
        "        # find index of points in cluster\n",
        "        labels = []\n",
        "        index = np.where(kmeans.labels_ == i)\n",
        "        # append actual labels for each point in cluster\n",
        "        labels.append(actual_labels[index])\n",
        "        # determine most common label\n",
        "        if len(labels[0]) == 1:\n",
        "            counts = np.bincount(labels[0])\n",
        "        else:\n",
        "            counts = np.bincount(np.squeeze(labels))\n",
        "        # assign the cluster to a value in the inferred_labels dictionary\n",
        "        if np.argmax(counts) in inferred_labels:\n",
        "            # append the new number to the existing array at this slot\n",
        "            inferred_labels[np.argmax(counts)].append(i)\n",
        "        else:\n",
        "            # create a new array in this slot\n",
        "            inferred_labels[np.argmax(counts)] = [i]\n",
        "     \n",
        "        #print(labels)\n",
        "        #print('Cluster: {}, label: {}'.format(i, np.argmax(counts)))\n",
        "         \n",
        "    return inferred_labels\n",
        "\n",
        "def infer_data_labels(X_labels, cluster_labels):\n",
        "    # empty array of len(X)\n",
        "    predicted_labels = np.zeros(len(X_labels)).astype(np.uint8)\n",
        "    for i, cluster in enumerate(X_labels):\n",
        "        for key, value in cluster_labels.items():\n",
        "            if cluster in value:\n",
        "                predicted_labels[i] = key\n",
        "    return predicted_labels\n",
        "\n",
        "# test the infer_cluster_labels() and infer_data_labels() functions\n",
        "\n",
        "cluster_labels = infer_cluster_labels(kmeans, Y)\n",
        "X_clusters = kmeans.predict(X)\n",
        "predicted_labels = infer_data_labels(X_clusters, cluster_labels)\n",
        "print(predicted_labels[:20])\n",
        "print(Y[:20])"
      ]
    },
    {
      "cell_type": "markdown",
      "id": "4eaee39e",
      "metadata": {
        "id": "4eaee39e"
      },
      "source": [
        "#### 3.5.3: Plotting Data"
      ]
    },
    {
      "cell_type": "code",
      "execution_count": null,
      "id": "b4df3ed2",
      "metadata": {
        "id": "b4df3ed2",
        "outputId": "0c5c473f-4994-4946-bc70-5d241b813753"
      },
      "outputs": [
        {
          "data": {
            "text/plain": [
              "MiniBatchKMeans(n_clusters=36)"
            ]
          },
          "execution_count": 68,
          "metadata": {},
          "output_type": "execute_result"
        },
        {
          "data": {
            "text/plain": [
              "Text(0.5, 1.0, 'Inferred Label: 1')"
            ]
          },
          "execution_count": 68,
          "metadata": {},
          "output_type": "execute_result"
        },
        {
          "data": {
            "text/plain": [
              "<matplotlib.image.AxesImage at 0x7fe010974c70>"
            ]
          },
          "execution_count": 68,
          "metadata": {},
          "output_type": "execute_result"
        },
        {
          "data": {
            "text/plain": [
              "(-0.5, 27.5, 27.5, -0.5)"
            ]
          },
          "execution_count": 68,
          "metadata": {},
          "output_type": "execute_result"
        },
        {
          "data": {
            "text/plain": [
              "Text(0.5, 1.0, 'Inferred Label: 0')"
            ]
          },
          "execution_count": 68,
          "metadata": {},
          "output_type": "execute_result"
        },
        {
          "data": {
            "text/plain": [
              "<matplotlib.image.AxesImage at 0x7fe010974fd0>"
            ]
          },
          "execution_count": 68,
          "metadata": {},
          "output_type": "execute_result"
        },
        {
          "data": {
            "text/plain": [
              "(-0.5, 27.5, 27.5, -0.5)"
            ]
          },
          "execution_count": 68,
          "metadata": {},
          "output_type": "execute_result"
        },
        {
          "data": {
            "text/plain": [
              "Text(0.5, 1.0, 'Inferred Label: 2')"
            ]
          },
          "execution_count": 68,
          "metadata": {},
          "output_type": "execute_result"
        },
        {
          "data": {
            "text/plain": [
              "<matplotlib.image.AxesImage at 0x7fe01098e3a0>"
            ]
          },
          "execution_count": 68,
          "metadata": {},
          "output_type": "execute_result"
        },
        {
          "data": {
            "text/plain": [
              "(-0.5, 27.5, 27.5, -0.5)"
            ]
          },
          "execution_count": 68,
          "metadata": {},
          "output_type": "execute_result"
        },
        {
          "data": {
            "text/plain": [
              "Text(0.5, 1.0, 'Inferred Label: 1')"
            ]
          },
          "execution_count": 68,
          "metadata": {},
          "output_type": "execute_result"
        },
        {
          "data": {
            "text/plain": [
              "<matplotlib.image.AxesImage at 0x7fe01098e340>"
            ]
          },
          "execution_count": 68,
          "metadata": {},
          "output_type": "execute_result"
        },
        {
          "data": {
            "text/plain": [
              "(-0.5, 27.5, 27.5, -0.5)"
            ]
          },
          "execution_count": 68,
          "metadata": {},
          "output_type": "execute_result"
        },
        {
          "data": {
            "text/plain": [
              "Text(0.5, 1.0, 'Inferred Label: 7')"
            ]
          },
          "execution_count": 68,
          "metadata": {},
          "output_type": "execute_result"
        },
        {
          "data": {
            "text/plain": [
              "<matplotlib.image.AxesImage at 0x7fe01098ea60>"
            ]
          },
          "execution_count": 68,
          "metadata": {},
          "output_type": "execute_result"
        },
        {
          "data": {
            "text/plain": [
              "(-0.5, 27.5, 27.5, -0.5)"
            ]
          },
          "execution_count": 68,
          "metadata": {},
          "output_type": "execute_result"
        },
        {
          "data": {
            "text/plain": [
              "Text(0.5, 1.0, 'Inferred Label: 7')"
            ]
          },
          "execution_count": 68,
          "metadata": {},
          "output_type": "execute_result"
        },
        {
          "data": {
            "text/plain": [
              "<matplotlib.image.AxesImage at 0x7fe01098ec10>"
            ]
          },
          "execution_count": 68,
          "metadata": {},
          "output_type": "execute_result"
        },
        {
          "data": {
            "text/plain": [
              "(-0.5, 27.5, 27.5, -0.5)"
            ]
          },
          "execution_count": 68,
          "metadata": {},
          "output_type": "execute_result"
        },
        {
          "data": {
            "text/plain": [
              "Text(0.5, 1.0, 'Inferred Label: 1')"
            ]
          },
          "execution_count": 68,
          "metadata": {},
          "output_type": "execute_result"
        },
        {
          "data": {
            "text/plain": [
              "<matplotlib.image.AxesImage at 0x7fe01098ea00>"
            ]
          },
          "execution_count": 68,
          "metadata": {},
          "output_type": "execute_result"
        },
        {
          "data": {
            "text/plain": [
              "(-0.5, 27.5, 27.5, -0.5)"
            ]
          },
          "execution_count": 68,
          "metadata": {},
          "output_type": "execute_result"
        },
        {
          "data": {
            "text/plain": [
              "Text(0.5, 1.0, 'Inferred Label: 9')"
            ]
          },
          "execution_count": 68,
          "metadata": {},
          "output_type": "execute_result"
        },
        {
          "data": {
            "text/plain": [
              "<matplotlib.image.AxesImage at 0x7fe01044af40>"
            ]
          },
          "execution_count": 68,
          "metadata": {},
          "output_type": "execute_result"
        },
        {
          "data": {
            "text/plain": [
              "(-0.5, 27.5, 27.5, -0.5)"
            ]
          },
          "execution_count": 68,
          "metadata": {},
          "output_type": "execute_result"
        },
        {
          "data": {
            "text/plain": [
              "Text(0.5, 1.0, 'Inferred Label: 3')"
            ]
          },
          "execution_count": 68,
          "metadata": {},
          "output_type": "execute_result"
        },
        {
          "data": {
            "text/plain": [
              "<matplotlib.image.AxesImage at 0x7fe0109947c0>"
            ]
          },
          "execution_count": 68,
          "metadata": {},
          "output_type": "execute_result"
        },
        {
          "data": {
            "text/plain": [
              "(-0.5, 27.5, 27.5, -0.5)"
            ]
          },
          "execution_count": 68,
          "metadata": {},
          "output_type": "execute_result"
        },
        {
          "data": {
            "text/plain": [
              "Text(0.5, 1.0, 'Inferred Label: 1')"
            ]
          },
          "execution_count": 68,
          "metadata": {},
          "output_type": "execute_result"
        },
        {
          "data": {
            "text/plain": [
              "<matplotlib.image.AxesImage at 0x7fe010994ac0>"
            ]
          },
          "execution_count": 68,
          "metadata": {},
          "output_type": "execute_result"
        },
        {
          "data": {
            "text/plain": [
              "(-0.5, 27.5, 27.5, -0.5)"
            ]
          },
          "execution_count": 68,
          "metadata": {},
          "output_type": "execute_result"
        },
        {
          "data": {
            "text/plain": [
              "Text(0.5, 1.0, 'Inferred Label: 4')"
            ]
          },
          "execution_count": 68,
          "metadata": {},
          "output_type": "execute_result"
        },
        {
          "data": {
            "text/plain": [
              "<matplotlib.image.AxesImage at 0x7fe010994e80>"
            ]
          },
          "execution_count": 68,
          "metadata": {},
          "output_type": "execute_result"
        },
        {
          "data": {
            "text/plain": [
              "(-0.5, 27.5, 27.5, -0.5)"
            ]
          },
          "execution_count": 68,
          "metadata": {},
          "output_type": "execute_result"
        },
        {
          "data": {
            "text/plain": [
              "Text(0.5, 1.0, 'Inferred Label: 3')"
            ]
          },
          "execution_count": 68,
          "metadata": {},
          "output_type": "execute_result"
        },
        {
          "data": {
            "text/plain": [
              "<matplotlib.image.AxesImage at 0x7fe0104fce80>"
            ]
          },
          "execution_count": 68,
          "metadata": {},
          "output_type": "execute_result"
        },
        {
          "data": {
            "text/plain": [
              "(-0.5, 27.5, 27.5, -0.5)"
            ]
          },
          "execution_count": 68,
          "metadata": {},
          "output_type": "execute_result"
        },
        {
          "data": {
            "text/plain": [
              "Text(0.5, 1.0, 'Inferred Label: 4')"
            ]
          },
          "execution_count": 68,
          "metadata": {},
          "output_type": "execute_result"
        },
        {
          "data": {
            "text/plain": [
              "<matplotlib.image.AxesImage at 0x7fe0109a21c0>"
            ]
          },
          "execution_count": 68,
          "metadata": {},
          "output_type": "execute_result"
        },
        {
          "data": {
            "text/plain": [
              "(-0.5, 27.5, 27.5, -0.5)"
            ]
          },
          "execution_count": 68,
          "metadata": {},
          "output_type": "execute_result"
        },
        {
          "data": {
            "text/plain": [
              "Text(0.5, 1.0, 'Inferred Label: 9')"
            ]
          },
          "execution_count": 68,
          "metadata": {},
          "output_type": "execute_result"
        },
        {
          "data": {
            "text/plain": [
              "<matplotlib.image.AxesImage at 0x7fe0109a2370>"
            ]
          },
          "execution_count": 68,
          "metadata": {},
          "output_type": "execute_result"
        },
        {
          "data": {
            "text/plain": [
              "(-0.5, 27.5, 27.5, -0.5)"
            ]
          },
          "execution_count": 68,
          "metadata": {},
          "output_type": "execute_result"
        },
        {
          "data": {
            "text/plain": [
              "Text(0.5, 1.0, 'Inferred Label: 4')"
            ]
          },
          "execution_count": 68,
          "metadata": {},
          "output_type": "execute_result"
        },
        {
          "data": {
            "text/plain": [
              "<matplotlib.image.AxesImage at 0x7fe0109a2850>"
            ]
          },
          "execution_count": 68,
          "metadata": {},
          "output_type": "execute_result"
        },
        {
          "data": {
            "text/plain": [
              "(-0.5, 27.5, 27.5, -0.5)"
            ]
          },
          "execution_count": 68,
          "metadata": {},
          "output_type": "execute_result"
        },
        {
          "data": {
            "text/plain": [
              "Text(0.5, 1.0, 'Inferred Label: 9')"
            ]
          },
          "execution_count": 68,
          "metadata": {},
          "output_type": "execute_result"
        },
        {
          "data": {
            "text/plain": [
              "<matplotlib.image.AxesImage at 0x7fe01065ea60>"
            ]
          },
          "execution_count": 68,
          "metadata": {},
          "output_type": "execute_result"
        },
        {
          "data": {
            "text/plain": [
              "(-0.5, 27.5, 27.5, -0.5)"
            ]
          },
          "execution_count": 68,
          "metadata": {},
          "output_type": "execute_result"
        },
        {
          "data": {
            "text/plain": [
              "Text(0.5, 1.0, 'Inferred Label: 1')"
            ]
          },
          "execution_count": 68,
          "metadata": {},
          "output_type": "execute_result"
        },
        {
          "data": {
            "text/plain": [
              "<matplotlib.image.AxesImage at 0x7fe0109a2e20>"
            ]
          },
          "execution_count": 68,
          "metadata": {},
          "output_type": "execute_result"
        },
        {
          "data": {
            "text/plain": [
              "(-0.5, 27.5, 27.5, -0.5)"
            ]
          },
          "execution_count": 68,
          "metadata": {},
          "output_type": "execute_result"
        },
        {
          "data": {
            "text/plain": [
              "Text(0.5, 1.0, 'Inferred Label: 7')"
            ]
          },
          "execution_count": 68,
          "metadata": {},
          "output_type": "execute_result"
        },
        {
          "data": {
            "text/plain": [
              "<matplotlib.image.AxesImage at 0x7fe0109a2d90>"
            ]
          },
          "execution_count": 68,
          "metadata": {},
          "output_type": "execute_result"
        },
        {
          "data": {
            "text/plain": [
              "(-0.5, 27.5, 27.5, -0.5)"
            ]
          },
          "execution_count": 68,
          "metadata": {},
          "output_type": "execute_result"
        },
        {
          "data": {
            "text/plain": [
              "Text(0.5, 1.0, 'Inferred Label: 1')"
            ]
          },
          "execution_count": 68,
          "metadata": {},
          "output_type": "execute_result"
        },
        {
          "data": {
            "text/plain": [
              "<matplotlib.image.AxesImage at 0x7fe0109b13a0>"
            ]
          },
          "execution_count": 68,
          "metadata": {},
          "output_type": "execute_result"
        },
        {
          "data": {
            "text/plain": [
              "(-0.5, 27.5, 27.5, -0.5)"
            ]
          },
          "execution_count": 68,
          "metadata": {},
          "output_type": "execute_result"
        },
        {
          "data": {
            "text/plain": [
              "Text(0.5, 1.0, 'Inferred Label: 1')"
            ]
          },
          "execution_count": 68,
          "metadata": {},
          "output_type": "execute_result"
        },
        {
          "data": {
            "text/plain": [
              "<matplotlib.image.AxesImage at 0x7fe0109b1a30>"
            ]
          },
          "execution_count": 68,
          "metadata": {},
          "output_type": "execute_result"
        },
        {
          "data": {
            "text/plain": [
              "(-0.5, 27.5, 27.5, -0.5)"
            ]
          },
          "execution_count": 68,
          "metadata": {},
          "output_type": "execute_result"
        },
        {
          "data": {
            "text/plain": [
              "Text(0.5, 1.0, 'Inferred Label: 3')"
            ]
          },
          "execution_count": 68,
          "metadata": {},
          "output_type": "execute_result"
        },
        {
          "data": {
            "text/plain": [
              "<matplotlib.image.AxesImage at 0x7fe0109b17c0>"
            ]
          },
          "execution_count": 68,
          "metadata": {},
          "output_type": "execute_result"
        },
        {
          "data": {
            "text/plain": [
              "(-0.5, 27.5, 27.5, -0.5)"
            ]
          },
          "execution_count": 68,
          "metadata": {},
          "output_type": "execute_result"
        },
        {
          "data": {
            "text/plain": [
              "Text(0.5, 1.0, 'Inferred Label: 1')"
            ]
          },
          "execution_count": 68,
          "metadata": {},
          "output_type": "execute_result"
        },
        {
          "data": {
            "text/plain": [
              "<matplotlib.image.AxesImage at 0x7fe0109b1e80>"
            ]
          },
          "execution_count": 68,
          "metadata": {},
          "output_type": "execute_result"
        },
        {
          "data": {
            "text/plain": [
              "(-0.5, 27.5, 27.5, -0.5)"
            ]
          },
          "execution_count": 68,
          "metadata": {},
          "output_type": "execute_result"
        },
        {
          "data": {
            "text/plain": [
              "Text(0.5, 1.0, 'Inferred Label: 3')"
            ]
          },
          "execution_count": 68,
          "metadata": {},
          "output_type": "execute_result"
        },
        {
          "data": {
            "text/plain": [
              "<matplotlib.image.AxesImage at 0x7fe0109b1a90>"
            ]
          },
          "execution_count": 68,
          "metadata": {},
          "output_type": "execute_result"
        },
        {
          "data": {
            "text/plain": [
              "(-0.5, 27.5, 27.5, -0.5)"
            ]
          },
          "execution_count": 68,
          "metadata": {},
          "output_type": "execute_result"
        },
        {
          "data": {
            "text/plain": [
              "Text(0.5, 1.0, 'Inferred Label: 8')"
            ]
          },
          "execution_count": 68,
          "metadata": {},
          "output_type": "execute_result"
        },
        {
          "data": {
            "text/plain": [
              "<matplotlib.image.AxesImage at 0x7fe0109a2eb0>"
            ]
          },
          "execution_count": 68,
          "metadata": {},
          "output_type": "execute_result"
        },
        {
          "data": {
            "text/plain": [
              "(-0.5, 27.5, 27.5, -0.5)"
            ]
          },
          "execution_count": 68,
          "metadata": {},
          "output_type": "execute_result"
        },
        {
          "data": {
            "text/plain": [
              "Text(0.5, 1.0, 'Inferred Label: 1')"
            ]
          },
          "execution_count": 68,
          "metadata": {},
          "output_type": "execute_result"
        },
        {
          "data": {
            "text/plain": [
              "<matplotlib.image.AxesImage at 0x7fe0109bf3d0>"
            ]
          },
          "execution_count": 68,
          "metadata": {},
          "output_type": "execute_result"
        },
        {
          "data": {
            "text/plain": [
              "(-0.5, 27.5, 27.5, -0.5)"
            ]
          },
          "execution_count": 68,
          "metadata": {},
          "output_type": "execute_result"
        },
        {
          "data": {
            "text/plain": [
              "Text(0.5, 1.0, 'Inferred Label: 3')"
            ]
          },
          "execution_count": 68,
          "metadata": {},
          "output_type": "execute_result"
        },
        {
          "data": {
            "text/plain": [
              "<matplotlib.image.AxesImage at 0x7fe0109bf7c0>"
            ]
          },
          "execution_count": 68,
          "metadata": {},
          "output_type": "execute_result"
        },
        {
          "data": {
            "text/plain": [
              "(-0.5, 27.5, 27.5, -0.5)"
            ]
          },
          "execution_count": 68,
          "metadata": {},
          "output_type": "execute_result"
        },
        {
          "data": {
            "text/plain": [
              "Text(0.5, 1.0, 'Inferred Label: 2')"
            ]
          },
          "execution_count": 68,
          "metadata": {},
          "output_type": "execute_result"
        },
        {
          "data": {
            "text/plain": [
              "<matplotlib.image.AxesImage at 0x7fe0109bfe20>"
            ]
          },
          "execution_count": 68,
          "metadata": {},
          "output_type": "execute_result"
        },
        {
          "data": {
            "text/plain": [
              "(-0.5, 27.5, 27.5, -0.5)"
            ]
          },
          "execution_count": 68,
          "metadata": {},
          "output_type": "execute_result"
        },
        {
          "data": {
            "text/plain": [
              "Text(0.5, 1.0, 'Inferred Label: 0')"
            ]
          },
          "execution_count": 68,
          "metadata": {},
          "output_type": "execute_result"
        },
        {
          "data": {
            "text/plain": [
              "<matplotlib.image.AxesImage at 0x7fe0bf4516a0>"
            ]
          },
          "execution_count": 68,
          "metadata": {},
          "output_type": "execute_result"
        },
        {
          "data": {
            "text/plain": [
              "(-0.5, 27.5, 27.5, -0.5)"
            ]
          },
          "execution_count": 68,
          "metadata": {},
          "output_type": "execute_result"
        },
        {
          "data": {
            "text/plain": [
              "Text(0.5, 1.0, 'Inferred Label: 1')"
            ]
          },
          "execution_count": 68,
          "metadata": {},
          "output_type": "execute_result"
        },
        {
          "data": {
            "text/plain": [
              "<matplotlib.image.AxesImage at 0x7fe0109bc130>"
            ]
          },
          "execution_count": 68,
          "metadata": {},
          "output_type": "execute_result"
        },
        {
          "data": {
            "text/plain": [
              "(-0.5, 27.5, 27.5, -0.5)"
            ]
          },
          "execution_count": 68,
          "metadata": {},
          "output_type": "execute_result"
        },
        {
          "data": {
            "text/plain": [
              "Text(0.5, 1.0, 'Inferred Label: 1')"
            ]
          },
          "execution_count": 68,
          "metadata": {},
          "output_type": "execute_result"
        },
        {
          "data": {
            "text/plain": [
              "<matplotlib.image.AxesImage at 0x7fe0109bc5b0>"
            ]
          },
          "execution_count": 68,
          "metadata": {},
          "output_type": "execute_result"
        },
        {
          "data": {
            "text/plain": [
              "(-0.5, 27.5, 27.5, -0.5)"
            ]
          },
          "execution_count": 68,
          "metadata": {},
          "output_type": "execute_result"
        },
        {
          "data": {
            "text/plain": [
              "Text(0.5, 1.0, 'Inferred Label: 7')"
            ]
          },
          "execution_count": 68,
          "metadata": {},
          "output_type": "execute_result"
        },
        {
          "data": {
            "text/plain": [
              "<matplotlib.image.AxesImage at 0x7fe0109bcbe0>"
            ]
          },
          "execution_count": 68,
          "metadata": {},
          "output_type": "execute_result"
        },
        {
          "data": {
            "text/plain": [
              "(-0.5, 27.5, 27.5, -0.5)"
            ]
          },
          "execution_count": 68,
          "metadata": {},
          "output_type": "execute_result"
        },
        {
          "data": {
            "text/plain": [
              "Text(0.5, 1.0, 'Inferred Label: 1')"
            ]
          },
          "execution_count": 68,
          "metadata": {},
          "output_type": "execute_result"
        },
        {
          "data": {
            "text/plain": [
              "<matplotlib.image.AxesImage at 0x7fe0109bc340>"
            ]
          },
          "execution_count": 68,
          "metadata": {},
          "output_type": "execute_result"
        },
        {
          "data": {
            "text/plain": [
              "(-0.5, 27.5, 27.5, -0.5)"
            ]
          },
          "execution_count": 68,
          "metadata": {},
          "output_type": "execute_result"
        },
        {
          "data": {
            "text/plain": [
              "Text(0.5, 1.0, 'Inferred Label: 8')"
            ]
          },
          "execution_count": 68,
          "metadata": {},
          "output_type": "execute_result"
        },
        {
          "data": {
            "text/plain": [
              "<matplotlib.image.AxesImage at 0x7fe0109bcd00>"
            ]
          },
          "execution_count": 68,
          "metadata": {},
          "output_type": "execute_result"
        },
        {
          "data": {
            "text/plain": [
              "(-0.5, 27.5, 27.5, -0.5)"
            ]
          },
          "execution_count": 68,
          "metadata": {},
          "output_type": "execute_result"
        },
        {
          "data": {
            "text/plain": [
              "Text(0.5, 1.0, 'Inferred Label: 7')"
            ]
          },
          "execution_count": 68,
          "metadata": {},
          "output_type": "execute_result"
        },
        {
          "data": {
            "text/plain": [
              "<matplotlib.image.AxesImage at 0x7fe0108e8d60>"
            ]
          },
          "execution_count": 68,
          "metadata": {},
          "output_type": "execute_result"
        },
        {
          "data": {
            "text/plain": [
              "(-0.5, 27.5, 27.5, -0.5)"
            ]
          },
          "execution_count": 68,
          "metadata": {},
          "output_type": "execute_result"
        },
        {
          "data": {
            "text/plain": [
              "Text(0.5, 1.0, 'Inferred Label: 7')"
            ]
          },
          "execution_count": 68,
          "metadata": {},
          "output_type": "execute_result"
        },
        {
          "data": {
            "text/plain": [
              "<matplotlib.image.AxesImage at 0x7fe0109da100>"
            ]
          },
          "execution_count": 68,
          "metadata": {},
          "output_type": "execute_result"
        },
        {
          "data": {
            "text/plain": [
              "(-0.5, 27.5, 27.5, -0.5)"
            ]
          },
          "execution_count": 68,
          "metadata": {},
          "output_type": "execute_result"
        },
        {
          "data": {
            "text/plain": [
              "Text(0.5, 1.0, 'Inferred Label: 1')"
            ]
          },
          "execution_count": 68,
          "metadata": {},
          "output_type": "execute_result"
        },
        {
          "data": {
            "text/plain": [
              "<matplotlib.image.AxesImage at 0x7fe0109da910>"
            ]
          },
          "execution_count": 68,
          "metadata": {},
          "output_type": "execute_result"
        },
        {
          "data": {
            "text/plain": [
              "(-0.5, 27.5, 27.5, -0.5)"
            ]
          },
          "execution_count": 68,
          "metadata": {},
          "output_type": "execute_result"
        },
        {
          "data": {
            "image/png": "[encoded data removed]",
            "text/plain": [
              "<Figure size 1440x1440 with 36 Axes>"
            ]
          },
          "metadata": {
            "needs_background": "light"
          },
          "output_type": "display_data"
        }
      ],
      "source": [
        "# Initialize and fit KMeans algorithm\n",
        "kmeans = MiniBatchKMeans(n_clusters = 36)\n",
        "kmeans.fit(X)\n",
        "\n",
        "# record centroid values\n",
        "centroids = kmeans.cluster_centers_\n",
        "\n",
        "# reshape centroids into images\n",
        "images = centroids.reshape(36, 28, 28)\n",
        "images *= 255\n",
        "images = images.astype(np.uint8)\n",
        "\n",
        "# determine cluster labels\n",
        "cluster_labels = infer_cluster_labels(kmeans, Y)\n",
        "\n",
        "# create figure with subplots using matplotlib.pyplot\n",
        "fig, axs = plt.subplots(6, 6, figsize = (20, 20))\n",
        "plt.gray()\n",
        "\n",
        "# loop through subplots and add centroid images\n",
        "for i, ax in enumerate(axs.flat):\n",
        "    \n",
        "    # determine inferred label using cluster_labels dictionary\n",
        "    for key, value in cluster_labels.items():\n",
        "        if i in value:\n",
        "            ax.set_title('Inferred Label: {}'.format(key))\n",
        "    \n",
        "    # add image to subplot\n",
        "    ax.matshow(images[i])\n",
        "    ax.axis('off')\n",
        "    \n",
        "# display the figure\n",
        "fig.show()"
      ]
    },
    {
      "cell_type": "markdown",
      "id": "5a734ca8",
      "metadata": {
        "id": "5a734ca8"
      },
      "source": [
        "#### Section 3.6: Design of Experiments"
      ]
    },
    {
      "cell_type": "markdown",
      "id": "52141f42",
      "metadata": {
        "id": "52141f42"
      },
      "source": [
        "#### Section 3.6.1: Building Network Parameters"
      ]
    },
    {
      "cell_type": "code",
      "execution_count": null,
      "id": "2e0874c4",
      "metadata": {
        "id": "2e0874c4"
      },
      "outputs": [],
      "source": [
        "\n",
        "n_hidden_1 = 20 # 1st layer number of neurons\n",
        "n_hidden_2 = 20 # 2nd layer number of neurons \n",
        "n_hidden_3 = 20 # 3rd layer number of neurons\n",
        "n_hidden_4 = 20 # 4th layer number of neurons\n",
        "n_hidden_5 = 20 # 5th layer number of neurons\n",
        "n_input = 784   # MNIST data input (img shape: 28*28)\n",
        "n_classes = 10  # MNIST total classes (0-9 digits)"
      ]
    },
    {
      "cell_type": "markdown",
      "id": "19bf667c",
      "metadata": {
        "id": "19bf667c"
      },
      "source": [
        "#### Section 3.6.2: Graph Preparation"
      ]
    },
    {
      "cell_type": "code",
      "execution_count": null,
      "id": "30f15e00",
      "metadata": {
        "id": "30f15e00"
      },
      "outputs": [],
      "source": [
        "X = tf.placeholder(\"float\", [None, n_input])\n",
        "Y = tf.placeholder(\"float\", [None, n_classes])"
      ]
    },
    {
      "cell_type": "markdown",
      "id": "1ffefd5c",
      "metadata": {
        "id": "1ffefd5c"
      },
      "source": [
        "#### Section 3.6.3: Implementing Weights and Biases"
      ]
    },
    {
      "cell_type": "code",
      "execution_count": null,
      "id": "292129fa",
      "metadata": {
        "id": "292129fa"
      },
      "outputs": [],
      "source": [
        "## weights\n",
        "weights = {\n",
        "    'h1': tf.Variable(tf.random_normal([n_input, n_hidden_1])),\n",
        "    'h2': tf.Variable(tf.random_normal([n_hidden_1, n_hidden_2])),\n",
        "    'h3': tf.Variable(tf.random_normal([n_hidden_2, n_hidden_3])),\n",
        "    'h4': tf.Variable(tf.random_normal([n_hidden_3, n_hidden_4])),\n",
        "    'h5': tf.Variable(tf.random_normal([n_hidden_4, n_hidden_5])),\n",
        "    'out': tf.Variable(tf.random_normal([n_hidden_5, n_classes]))\n",
        "}"
      ]
    },
    {
      "cell_type": "code",
      "execution_count": null,
      "id": "9e9fb679",
      "metadata": {
        "id": "9e9fb679"
      },
      "outputs": [],
      "source": [
        "## biases\n",
        "biases = {\n",
        "    'b1': tf.Variable(tf.random_normal([n_hidden_1])),\n",
        "    'b2': tf.Variable(tf.random_normal([n_hidden_2])),\n",
        "    'b3': tf.Variable(tf.random_normal([n_hidden_3])),\n",
        "    'b4': tf.Variable(tf.random_normal([n_hidden_4])),\n",
        "    'b5': tf.Variable(tf.random_normal([n_hidden_5])),\n",
        "    'out': tf.Variable(tf.random_normal([n_classes]))\n",
        "}"
      ]
    },
    {
      "cell_type": "markdown",
      "id": "6667a840",
      "metadata": {
        "id": "6667a840"
      },
      "source": [
        "#### Section 3.6.4: Multilater Perceptron Model"
      ]
    },
    {
      "cell_type": "code",
      "execution_count": null,
      "id": "fc77e15c",
      "metadata": {
        "id": "fc77e15c"
      },
      "outputs": [],
      "source": [
        "def multilayer_perceptron(x, weights, biases):\n",
        "    # Hidden fully connected layer with neurons\n",
        "    layer_1 = tf.add(tf.matmul(x, weights['h1']), biases['b1'])\n",
        "    layer_1 = tf.nn.leaky_relu(layer_1)\n",
        "    layer_2 = tf.add(tf.matmul(layer_1, weights['h2']), biases['b2'])\n",
        "    layer_2 = tf.nn.leaky_relu(layer_2)\n",
        "    layer_3 = tf.add(tf.matmul(layer_2, weights['h3']), biases['b3'])\n",
        "    layer_3 = tf.nn.leaky_relu(layer_3)\n",
        "    layer_4 = tf.add(tf.matmul(layer_3, weights['h4']), biases['b4'])\n",
        "    layer_4 = tf.nn.leaky_relu(layer_4)\n",
        "    layer_5 = tf.add(tf.matmul(layer_4, weights['h5']), biases['b5'])\n",
        "    layer_5 = tf.nn.leaky_relu(layer_5)\n",
        "    # Output fully connected layer with a neuron for each class\n",
        "    out_layer = tf.matmul(layer_5, weights['out']) + biases['out']\n",
        "    return out_layer\n",
        "\n",
        "logits = multilayer_perceptron(X, weights, biases)"
      ]
    },
    {
      "cell_type": "markdown",
      "id": "bd548717",
      "metadata": {
        "id": "bd548717"
      },
      "source": [
        "#### Section 3.6.5: Model Execution"
      ]
    },
    {
      "cell_type": "code",
      "execution_count": null,
      "id": "354b343f",
      "metadata": {
        "id": "354b343f"
      },
      "outputs": [],
      "source": [
        "display_step = 0\n",
        "\n",
        "def run_model( weights, biases, learning_rate, training_epochs, batch_size ):\n",
        "\n",
        "  logits = multilayer_perceptron(X, weights, biases)\n",
        "\n",
        "  model_metrics = {}\n",
        "\n",
        "  # Optimizer\n",
        "  optimizer = tf.train.AdamOptimizer(learning_rate = learning_rate)\n",
        "\n",
        "  model_metrics['learning_rate'] = learning_rate\n",
        "\n",
        "  # Loss\n",
        "\n",
        "  loss_op = tf.reduce_mean(tf.nn.softmax_cross_entropy_with_logits(\n",
        "      logits=logits, labels=Y))\n",
        "\n",
        "  train_op = optimizer.minimize(loss_op)\n",
        "\n",
        "  model_metrics['learning_rate'] = learning_rate\n",
        "\n",
        "  init = tf.global_variables_initializer()\n",
        "\n",
        "  with tf.Session() as sess:\n",
        "      sess.run(init)\n",
        "\n",
        "      saver = tf.train.Saver()\n",
        "\n",
        "      start_time = time.clock()\n",
        "\n",
        "      model_metrics['training_epochs'] = training_epochs\n",
        "\n",
        "      model_metrics[\"epoches\"] = []\n",
        "\n",
        "      # Training cycle\n",
        "      for epoch in range(training_epochs):\n",
        "\n",
        "          avg_cost = 0.\n",
        "          total_batch = int(mnist.train.num_examples/batch_size)\n",
        "          model_metrics['total_batch'] = total_batch\n",
        "\n",
        "          # Loop over all batches\n",
        "          for i in range(total_batch):\n",
        "              batch_x, batch_y = mnist.train.next_batch(batch_size)\n",
        "              # Run optimization op (backprop) and cost op (to get loss value)\n",
        "              _, c = sess.run([train_op, loss_op], feed_dict={X: batch_x,\n",
        "                                                              Y: batch_y})\n",
        "              # Compute average loss\n",
        "              avg_cost += c / total_batch\n",
        "\n",
        "          \n",
        "          model_metrics[\"epoches\"].append((epoch+1, avg_cost))\n",
        "          \n",
        "          # Display logs per epoch step\n",
        "          if display_step != 0 and epoch % display_step == 0:\n",
        "              display(\"Epoch:\", '%04d' % (epoch+1), \"cost={:.9f}\".format(avg_cost))\n",
        "\n",
        "      model_metrics['avg_cost'] = avg_cost\n",
        "\n",
        "      end_time = time.clock()\n",
        "\n",
        "      runtime = end_time - start_time  # seconds of wall-clock time \n",
        "      model_metrics['run_time'] = runtime\n",
        "\n",
        "      # Apply Softmax to logits\n",
        "      pred = tf.nn.softmax(logits)\n",
        "\n",
        "      # Calculate Accuracy\n",
        "\n",
        "      correct_prediction = tf.equal(tf.argmax(pred, 1), tf.argmax(Y, 1))\n",
        "      model_metrics['correct_prediction'] = correct_prediction\n",
        "\n",
        "      accuracy = tf.reduce_mean(tf.cast(correct_prediction, \"float\"))\n",
        "      model_metrics['accuracy'] = accuracy\n",
        "      \n",
        "      model_metrics['train_accuracy'] = sess.run(accuracy, feed_dict={X: batch_x,\n",
        "                                    Y: batch_y})\n",
        "        \n",
        "      model_metrics['testing_accuracy'] = sess.run(accuracy, feed_dict={X: mnist.test.images,\n",
        "                                        Y: mnist.test.labels})\n",
        "      \n",
        "      return model_metrics"
      ]
    },
    {
      "cell_type": "markdown",
      "id": "560898c7",
      "metadata": {
        "id": "560898c7"
      },
      "source": [
        "#### 3.6.6: Model Evaluation"
      ]
    },
    {
      "cell_type": "code",
      "execution_count": null,
      "id": "8e549324",
      "metadata": {
        "id": "8e549324"
      },
      "outputs": [],
      "source": [
        "# Default / baseline\n",
        "learning_rate = 0.0001\n",
        "training_epochs = 10\n",
        "batch_size = 10\n",
        "\n",
        "baseline_model = run_model( weights, biases, learning_rate = 0.01, training_epochs = 100, batch_size = 100 )\n",
        "\n",
        "model_v2 = run_model( weights, biases, learning_rate = 0.0125, training_epochs = 250, batch_size = 250 )\n",
        "\n",
        "model_v3 = run_model( weights, biases, learning_rate = 0.015, training_epochs = 500, batch_size = 500 )\n",
        "\n",
        "model_v4 = run_model( weights, biases, learning_rate = 0.02, training_epochs = 1000, batch_size = 1000 )"
      ]
    },
    {
      "cell_type": "code",
      "execution_count": null,
      "id": "91fcab51",
      "metadata": {
        "id": "91fcab51"
      },
      "outputs": [],
      "source": [
        "## summary\n",
        "def get_model_df(name, model):\n",
        "  values_df = pd.DataFrame(columns=list(('avg_cost', 'learning_rate', 'run_time','testing_accuracy','train_accuracy')))\n",
        "  values_df.loc[0] = [model[x] for x in ('avg_cost', 'learning_rate', 'run_time','testing_accuracy','train_accuracy')]\n",
        "  values_df['name'] = name\n",
        "  return values_df"
      ]
    },
    {
      "cell_type": "markdown",
      "id": "f2b259a4",
      "metadata": {
        "id": "f2b259a4"
      },
      "source": [
        "#### 3.6.7: Results"
      ]
    },
    {
      "cell_type": "code",
      "execution_count": null,
      "id": "e10f1e93",
      "metadata": {
        "id": "e10f1e93"
      },
      "outputs": [],
      "source": [
        "baseline_model = run_model( weights, biases, learning_rate = 0.01, training_epochs = 100, batch_size = 100 )\n",
        "\n",
        "baseline_df = get_model_df('Baseline', baseline_model)\n",
        "model_v2_df = get_model_df('Version 2', model_v2)\n",
        "model_v3_df = get_model_df('Version 3', model_v3)\n",
        "model_v4_df = get_model_df('Version 4', model_v4)\n",
        "\n",
        "results = pd.concat([baseline_df, model_v2_df, model_v3_df, model_v4_df]).set_index('name')"
      ]
    },
    {
      "cell_type": "code",
      "execution_count": null,
      "id": "98c2273e",
      "metadata": {
        "id": "98c2273e"
      },
      "outputs": [],
      "source": [
        "results.plot(y = ['avg_cost', 'testing_accuracy','train_accuracy'], title = \"Model Performance\", kind = \"bar\", figsize=(15, 8), use_index = True)\n",
        "plt.legend(loc='upper left', prop={'size': 16}, bbox_to_anchor=(1,1))\n",
        "plt.tight_layout(pad=7)\n",
        "plt.show()"
      ]
    },
    {
      "cell_type": "markdown",
      "id": "80457fa4",
      "metadata": {
        "id": "80457fa4"
      },
      "source": [
        "## Conclusion (4.0)"
      ]
    },
    {
      "cell_type": "markdown",
      "id": "5fd63f2a",
      "metadata": {
        "id": "5fd63f2a"
      },
      "source": [
        "As described in the Module 7 Assignment 1 Requirements section on Canvas, please reference how I addressed each stated requirement/question below:\n",
        "- <b>Conduct your analysis using a cross-validation design</b>This was addressed in section 3.6.5.\n",
        "- <b>Conduct / refine EDA</b>This was addressed in section 2.0.\n",
        "- <b>Conduct Design of Experiments to evaluate the performance of various neural networks</b> This was addressed in section 3.6.5.\n",
        "- <b>Evaluate goodness of fit metrics on the training and validation sets</b> This was addressed in section 3.6.7."
      ]
    }
  ],
  "metadata": {
    "kernelspec": {
      "display_name": "Python 3 (ipykernel)",
      "language": "python",
      "name": "python3"
    },
    "language_info": {
      "codemirror_mode": {
        "name": "ipython",
        "version": 3
      },
      "file_extension": ".py",
      "mimetype": "text/x-python",
      "name": "python",
      "nbconvert_exporter": "python",
      "pygments_lexer": "ipython3",
      "version": "3.9.12"
    },
    "colab": {
      "name": "Module 7_Perfetti.ipynb",
      "provenance": [],
      "include_colab_link": true
    }
  },
  "nbformat": 4,
  "nbformat_minor": 5
}