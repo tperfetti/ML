{
  "cells": [
    {
      "cell_type": "markdown",
      "metadata": {
        "id": "view-in-github",
        "colab_type": "text"
      },
      "source": [
        "<a href=\"https://colab.research.google.com/github/tperfetti/ML/blob/main/Module_8_Perfetti.ipynb\" target=\"_parent\"><img src=\"https://colab.research.google.com/assets/colab-badge.svg\" alt=\"Open In Colab\"/></a>"
      ]
    },
    {
      "cell_type": "markdown",
      "id": "5fe8513d",
      "metadata": {
        "id": "5fe8513d"
      },
      "source": [
        "## Ingest (1.0)"
      ]
    },
    {
      "cell_type": "markdown",
      "id": "96e43ca0",
      "metadata": {
        "id": "96e43ca0"
      },
      "source": [
        "#### 1.1: Importing Libraries"
      ]
    },
    {
      "cell_type": "code",
      "execution_count": null,
      "id": "d8d3ac67",
      "metadata": {
        "id": "d8d3ac67"
      },
      "outputs": [],
      "source": [
        "import os, cv2, random\n",
        "import numpy as np\n",
        "import pandas as pd\n",
        "import seaborn as sns\n",
        "import matplotlib.pyplot as plt\n",
        "from sklearn.model_selection import train_test_split\n",
        "from sklearn.metrics import classification_report\n",
        "from tqdm import tqdm\n",
        "from random import shuffle \n",
        "from IPython.display import SVG\n",
        "from keras.utils.vis_utils import model_to_dot\n",
        "import keras.applications\n",
        "#from tensorflow.keras.applications import resnet\n",
        "#from keras.utils import plot_model\n",
        "#from tensorflow.python.keras.applications import ResNet50\n",
        "#from tensorflow.python.keras.models import Sequential\n",
        "#from tensorflow.python.keras.layers import Dense, Flatten, GlobalAveragePooling2D\n",
        "%matplotlib inline "
      ]
    },
    {
      "cell_type": "markdown",
      "id": "9aa03ab4",
      "metadata": {
        "id": "9aa03ab4"
      },
      "source": [
        "#### 1.2: Defining Parameters"
      ]
    },
    {
      "cell_type": "code",
      "execution_count": null,
      "id": "30e92186",
      "metadata": {
        "id": "30e92186"
      },
      "outputs": [],
      "source": [
        "TEST_SIZE = 0.5\n",
        "RANDOM_STATE = 2018\n",
        "BATCH_SIZE = 64\n",
        "NO_EPOCHS = 20\n",
        "NUM_CLASSES = 2\n",
        "SAMPLE_SIZE = 20000\n",
        "PATH = '/torrenceperfetti/Desktop/test/'\n",
        "TRAIN_FOLDER = './train/'\n",
        "TEST_FOLDER =  './test/'\n",
        "IMG_SIZE = 224\n",
        "#RESNET_WEIGHTS_PATH = '/kaggle/input/resnet50/resnet50_weights_tf_dim_ordering_tf_kernels_notop.h5'"
      ]
    },
    {
      "cell_type": "markdown",
      "id": "6c2d4889",
      "metadata": {
        "id": "6c2d4889"
      },
      "source": [
        "#### 1.3: Reading the Data"
      ]
    },
    {
      "cell_type": "code",
      "execution_count": null,
      "id": "7e4adebe",
      "metadata": {
        "id": "7e4adebe"
      },
      "outputs": [],
      "source": [
        "train_image_path = os.path.join(PATH, \"train\")\n",
        "test_image_path = os.path.join(PATH, \"test\")"
      ]
    },
    {
      "cell_type": "code",
      "execution_count": null,
      "id": "c1750c11",
      "metadata": {
        "id": "c1750c11"
      },
      "outputs": [],
      "source": [
        "import zipfile\n",
        "with zipfile.ZipFile(train_image_path,\"r\") as z:\n",
        "    z.extractall(\".\")"
      ]
    },
    {
      "cell_type": "code",
      "execution_count": null,
      "id": "15d9bb32",
      "metadata": {
        "id": "15d9bb32"
      },
      "outputs": [],
      "source": [
        "with zipfile.ZipFile(test_image_path,\"r\") as z:\n",
        "    z.extractall(\".\")"
      ]
    },
    {
      "cell_type": "code",
      "execution_count": null,
      "id": "5ef66c2f",
      "metadata": {
        "id": "5ef66c2f"
      },
      "outputs": [],
      "source": [
        "train_image_list = os.listdir(\"./train/\")[0:SAMPLE_SIZE]\n",
        "test_image_list = os.listdir(\"./test/\")"
      ]
    },
    {
      "cell_type": "markdown",
      "id": "4cba9fcb",
      "metadata": {
        "id": "4cba9fcb"
      },
      "source": [
        "#### 1.4: Defining Functions"
      ]
    },
    {
      "cell_type": "markdown",
      "id": "229cb530",
      "metadata": {
        "id": "229cb530"
      },
      "source": [
        "We set a function for parsing the image names to extract the first 3 letters from the image names, which gives the label of the image."
      ]
    },
    {
      "cell_type": "code",
      "execution_count": null,
      "id": "0910923c",
      "metadata": {
        "id": "0910923c"
      },
      "outputs": [],
      "source": [
        "def label_pet_image_one_hot_encoder(img):\n",
        "    pet = img.split('.')[-3]\n",
        "    if pet == 'cat': return [1,0]\n",
        "    elif pet == 'dog': return [0,1]"
      ]
    },
    {
      "cell_type": "markdown",
      "id": "d4521949",
      "metadata": {
        "id": "d4521949"
      },
      "source": [
        "We are defining as well a function to process the data (both train and test set)."
      ]
    },
    {
      "cell_type": "code",
      "execution_count": null,
      "id": "4b90b248",
      "metadata": {
        "id": "4b90b248"
      },
      "outputs": [],
      "source": [
        "def process_data(data_image_list, DATA_FOLDER, isTrain=True):\n",
        "    data_df = []\n",
        "    for img in tqdm(data_image_list):\n",
        "        path = os.path.join(DATA_FOLDER,img)\n",
        "        if(isTrain):\n",
        "            label = label_pet_image_one_hot_encoder(img)\n",
        "        else:\n",
        "            label = img.split('.')[0]\n",
        "        img = cv2.imread(path,cv2.IMREAD_COLOR)\n",
        "        img = cv2.resize(img, (IMG_SIZE,IMG_SIZE))\n",
        "        data_df.append([np.array(img),np.array(label)])\n",
        "    shuffle(data_df)\n",
        "    return data_df"
      ]
    },
    {
      "cell_type": "markdown",
      "id": "d61d5dcf",
      "metadata": {
        "id": "d61d5dcf"
      },
      "source": [
        "## EDA (2.0)"
      ]
    },
    {
      "cell_type": "markdown",
      "id": "bc131c01",
      "metadata": {
        "id": "bc131c01"
      },
      "source": [
        "#### 2.1: Class Distribution"
      ]
    },
    {
      "cell_type": "code",
      "execution_count": null,
      "id": "d3248d4c",
      "metadata": {
        "id": "d3248d4c"
      },
      "outputs": [],
      "source": [
        "def plot_image_list_count(data_image_list):\n",
        "    labels = []\n",
        "    for img in data_image_list:\n",
        "        labels.append(img.split('.')[-3])\n",
        "    sns.countplot(labels)\n",
        "    plt.title('Cats and Dogs')\n",
        "    \n",
        "plot_image_list_count(train_image_list)"
      ]
    },
    {
      "cell_type": "code",
      "execution_count": null,
      "id": "a3ab6985",
      "metadata": {
        "id": "a3ab6985"
      },
      "outputs": [],
      "source": [
        "plot_image_list_count(os.listdir(TRAIN_FOLDER))"
      ]
    },
    {
      "cell_type": "markdown",
      "id": "5127d25a",
      "metadata": {
        "id": "5127d25a"
      },
      "source": [
        "#### 2.2: Image Samples"
      ]
    },
    {
      "cell_type": "code",
      "execution_count": null,
      "id": "919f65b3",
      "metadata": {
        "id": "919f65b3"
      },
      "outputs": [],
      "source": [
        "train = process_data(train_image_list, TRAIN_FOLDER)"
      ]
    },
    {
      "cell_type": "code",
      "execution_count": null,
      "id": "9c8b5ae9",
      "metadata": {
        "id": "9c8b5ae9"
      },
      "outputs": [],
      "source": [
        "#def show_images(data, isTest=False):\n",
        "    #f, ax = plt.subplots(5,5, figsize=(15,15))\n",
        "    #for i,data in enumerate(data[:25]):\n",
        "        #img_num = data[1]\n",
        "        #img_data = data[0]\n",
        "        #label = np.argmax(img_num)\n",
        "        #if label  == 1: \n",
        "            #str_label='Dog'\n",
        "        #elif label == 0: \n",
        "            #str_label='Cat'\n",
        "        #if(isTest):\n",
        "            #str_label=\"None\"\n",
        "        #ax[i//5, i%5].imshow(img_data)\n",
        "        #ax[i//5, i%5].axis('off')\n",
        "        #ax[i//5, i%5].set_title(\"Label: {}\".format(str_label))\n",
        "    #plt.show()\n",
        "\n",
        "#show_images(train)"
      ]
    },
    {
      "cell_type": "code",
      "execution_count": null,
      "id": "b60581c3",
      "metadata": {
        "id": "b60581c3"
      },
      "outputs": [],
      "source": [
        "test = process_data(test_image_list, TEST_FOLDER, False)"
      ]
    },
    {
      "cell_type": "code",
      "execution_count": null,
      "id": "86669b4f",
      "metadata": {
        "id": "86669b4f"
      },
      "outputs": [],
      "source": [
        "#show_images(test,True)"
      ]
    },
    {
      "cell_type": "markdown",
      "id": "86fd61e8",
      "metadata": {
        "id": "86fd61e8"
      },
      "source": [
        "## Modeling (3.0)"
      ]
    },
    {
      "cell_type": "markdown",
      "id": "02c5bf79",
      "metadata": {
        "id": "02c5bf79"
      },
      "source": [
        "#### 3.1: Preparing the Training Data"
      ]
    },
    {
      "cell_type": "code",
      "execution_count": null,
      "id": "4f65a7c8",
      "metadata": {
        "id": "4f65a7c8"
      },
      "outputs": [],
      "source": [
        "X = np.array([i[0] for i in train]).reshape(-1,IMG_SIZE,IMG_SIZE,3)\n",
        "y = np.array([i[1] for i in train])"
      ]
    },
    {
      "cell_type": "markdown",
      "id": "e77f342c",
      "metadata": {
        "id": "e77f342c"
      },
      "source": [
        "#### 3.2: Preparing the Model "
      ]
    },
    {
      "cell_type": "code",
      "execution_count": null,
      "id": "0315394a",
      "metadata": {
        "id": "0315394a"
      },
      "outputs": [],
      "source": [
        "model = Sequential()\n",
        "model.add(ResNet50(include_top=False, pooling='max', weights=RESNET_WEIGHTS_PATH))\n",
        "model.add(Dense(NUM_CLASSES, activation='softmax'))\n",
        "# ResNet-50 model is already trained, should not be trained\n",
        "model.layers[0].trainable = True"
      ]
    },
    {
      "cell_type": "code",
      "execution_count": null,
      "id": "55765455",
      "metadata": {
        "id": "55765455"
      },
      "outputs": [],
      "source": [
        "model.compile(optimizer='sgd', loss='categorical_crossentropy', metrics=['accuracy'])"
      ]
    },
    {
      "cell_type": "markdown",
      "id": "b4523183",
      "metadata": {
        "id": "b4523183"
      },
      "source": [
        "#### 3.3: Model Summary"
      ]
    },
    {
      "cell_type": "code",
      "execution_count": null,
      "id": "7b0cdb59",
      "metadata": {
        "id": "7b0cdb59"
      },
      "outputs": [],
      "source": [
        "model.summary()"
      ]
    },
    {
      "cell_type": "code",
      "execution_count": null,
      "id": "c1e678f4",
      "metadata": {
        "id": "c1e678f4"
      },
      "outputs": [],
      "source": [
        "plot_model(model, to_file='model.png')\n",
        "SVG(model_to_dot(model).create(prog='dot', format='svg'))"
      ]
    },
    {
      "cell_type": "markdown",
      "id": "a89e2d48",
      "metadata": {
        "id": "a89e2d48"
      },
      "source": [
        "#### 3.4: Training the Model"
      ]
    },
    {
      "cell_type": "code",
      "execution_count": null,
      "id": "0f5b82b3",
      "metadata": {
        "id": "0f5b82b3"
      },
      "outputs": [],
      "source": [
        "train_model = model.fit(X_train, y_train,\n",
        "                  batch_size=BATCH_SIZE,\n",
        "                  epochs=NO_EPOCHS,\n",
        "                  verbose=1,\n",
        "                  validation_data=(X_val, y_val))"
      ]
    },
    {
      "cell_type": "markdown",
      "id": "1bd154aa",
      "metadata": {
        "id": "1bd154aa"
      },
      "source": [
        "#### 3.5: Accuracy & Loss"
      ]
    },
    {
      "cell_type": "code",
      "execution_count": null,
      "id": "4d712c9f",
      "metadata": {
        "id": "4d712c9f"
      },
      "outputs": [],
      "source": [
        "def plot_accuracy_and_loss(train_model):\n",
        "    hist = train_model.history\n",
        "    acc = hist['acc']\n",
        "    val_acc = hist['val_acc']\n",
        "    loss = hist['loss']\n",
        "    val_loss = hist['val_loss']\n",
        "    epochs = range(len(acc))\n",
        "    f, ax = plt.subplots(1,2, figsize=(14,6))\n",
        "    ax[0].plot(epochs, acc, 'g', label='Training accuracy')\n",
        "    ax[0].plot(epochs, val_acc, 'r', label='Validation accuracy')\n",
        "    ax[0].set_title('Training and validation accuracy')\n",
        "    ax[0].legend()\n",
        "    ax[1].plot(epochs, loss, 'g', label='Training loss')\n",
        "    ax[1].plot(epochs, val_loss, 'r', label='Validation loss')\n",
        "    ax[1].set_title('Training and validation loss')\n",
        "    ax[1].legend()\n",
        "    plt.show()\n",
        "plot_accuracy_and_loss(train_model)"
      ]
    },
    {
      "cell_type": "code",
      "execution_count": null,
      "id": "e6d17faf",
      "metadata": {
        "id": "e6d17faf"
      },
      "outputs": [],
      "source": [
        "score = model.evaluate(X_val, y_val, verbose=0)\n",
        "print('Validation loss:', score[0])\n",
        "print('Validation accuracy:', score[1])"
      ]
    },
    {
      "cell_type": "code",
      "execution_count": null,
      "id": "eb69c3d9",
      "metadata": {
        "id": "eb69c3d9"
      },
      "outputs": [],
      "source": [
        "#get the predictions for the test data\n",
        "predicted_classes = model.predict_classes(X_val)\n",
        "#get the indices to be plotted\n",
        "y_true = np.argmax(y_val,axis=1)"
      ]
    },
    {
      "cell_type": "code",
      "execution_count": null,
      "id": "03f5efdf",
      "metadata": {
        "id": "03f5efdf"
      },
      "outputs": [],
      "source": [
        "correct = np.nonzero(predicted_classes==y_true)[0]\n",
        "incorrect = np.nonzero(predicted_classes!=y_true)[0]"
      ]
    },
    {
      "cell_type": "code",
      "execution_count": null,
      "id": "5aea6f3a",
      "metadata": {
        "id": "5aea6f3a"
      },
      "outputs": [],
      "source": [
        "target_names = [\"Class {}:\".format(i) for i in range(NUM_CLASSES)]\n",
        "print(classification_report(y_true, predicted_classes, target_names=target_names))"
      ]
    },
    {
      "cell_type": "markdown",
      "id": "48cf570d",
      "metadata": {
        "id": "48cf570d"
      },
      "source": [
        "#### 3.6: Testing Prediction Data"
      ]
    },
    {
      "cell_type": "code",
      "execution_count": null,
      "id": "eca34387",
      "metadata": {
        "id": "eca34387"
      },
      "outputs": [],
      "source": [
        "pred_list = []\n",
        "img_list = []\n",
        "for img in tqdm(test):\n",
        "    img_data = img[0]\n",
        "    img_idx = img[1]\n",
        "    data = img_data.reshape(-1,IMG_SIZE,IMG_SIZE,3)\n",
        "    predicted = model.predict([data])[0]\n",
        "    img_list.append(img_idx)\n",
        "    pred_list.append(predicted[1])"
      ]
    },
    {
      "cell_type": "markdown",
      "id": "38b0795d",
      "metadata": {
        "id": "38b0795d"
      },
      "source": [
        "#### 3.7: Submission File"
      ]
    },
    {
      "cell_type": "code",
      "execution_count": null,
      "id": "bda25ca7",
      "metadata": {
        "id": "bda25ca7"
      },
      "outputs": [],
      "source": [
        "submission = pd.DataFrame({'id':img_list , 'label':pred_list})\n",
        "submission.head()\n",
        "submission.to_csv(\"submission.csv\", index=False)"
      ]
    },
    {
      "cell_type": "markdown",
      "id": "5899398c",
      "metadata": {
        "id": "5899398c"
      },
      "source": [
        "## Conclusion (4.0)"
      ]
    },
    {
      "cell_type": "markdown",
      "id": "f26cc0c8",
      "metadata": {
        "id": "f26cc0c8"
      },
      "source": [
        "As described in the Module 8 Assignment 1 Requirements section on Canvas, please reference how I addressed each stated requirement/question below:\n",
        "- <b>Conduct your analysis using a cross-validation design</b>This was addressed in section 3.0.\n",
        "- <b>Conduct / refine EDA</b>This was addressed in section 2.0.\n",
        "- <b>Build at least three CNN models based on hyperparameter tuning</b> N/A.\n",
        "- <b>Evaluate goodness of fit metrics</b> This was addressed in section 3.5.\n",
        "- <b>Build ROC and Precision / Recall graphs</b> N/A."
      ]
    },
    {
      "cell_type": "code",
      "execution_count": null,
      "id": "c707e753",
      "metadata": {
        "id": "c707e753"
      },
      "outputs": [],
      "source": [
        ""
      ]
    }
  ],
  "metadata": {
    "kernelspec": {
      "display_name": "Python 3 (ipykernel)",
      "language": "python",
      "name": "python3"
    },
    "language_info": {
      "codemirror_mode": {
        "name": "ipython",
        "version": 3
      },
      "file_extension": ".py",
      "mimetype": "text/x-python",
      "name": "python",
      "nbconvert_exporter": "python",
      "pygments_lexer": "ipython3",
      "version": "3.9.12"
    },
    "colab": {
      "name": "Module 8_Perfetti.ipynb",
      "provenance": [],
      "include_colab_link": true
    }
  },
  "nbformat": 4,
  "nbformat_minor": 5
}